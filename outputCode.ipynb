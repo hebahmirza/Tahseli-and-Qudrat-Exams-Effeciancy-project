{
 "cells": [
  {
   "cell_type": "code",
   "execution_count": null,
   "metadata": {},
   "outputs": [],
   "source": [
    "from flask import Flask\n",
    "from sklearn.externals.joblib import load, save\n",
    "import pandas as pd\n",
    "from flask import jsonify\n",
    "from flask import request\n",
    "\n",
    "app = Flask(__name__)\n",
    "\n",
    "# simulate prediction output on root path\n",
    "model = load('knn_iris.joblib')\n",
    "\n",
    "test_case = pd.DataFrame([{\n",
    "    'petal width (cm)':1.5,\n",
    "    'sepal length (cm)': 10.2,\n",
    "    'sepal width (cm)': 5.4,\n",
    "    'petal length (cm)': 3.5\n",
    "}])\n",
    "\n",
    "@app.route(\"/\")\n",
    "def hello():\n",
    "    results = model.predict(test_case)\n",
    "    probabilities = model.predict_proba(test_case)[0]\n",
    "    # print(results)\n",
    "    # return jsonify(results)\n",
    "    prob_results = {\n",
    "        'Setosa': probabilities[0],\n",
    "        'Versicolour': probabilities[1], \n",
    "        'Virginica': probabilities[2]\n",
    "    }\n",
    "    return jsonify(prob_results)\n",
    "\n",
    "@app.route(\"/predict_iris\", methods=['POST'])\n",
    "def predict_iris():\n",
    "    data = request.json\n",
    "    print(data)\n",
    "    results = model.predict_proba(pd.DataFrame(data))[0]\n",
    "    return jsonify({\n",
    "        'Setosa': results[0],\n",
    "        'Versicolour': results[1], \n",
    "        'Virginica': results[2]\n",
    "    })\n",
    "\n",
    "# test your endpoint using curl on terminal\n",
    "#  curl --header \"Content-Type: application/json\" \\\n",
    "#   --request POST \\\n",
    "#   --data '[{\n",
    "#     \"petal width (cm)\":1.5,\n",
    "#     \"sepal length (cm)\": 10.2,\n",
    "#     \"sepal width (cm)\": 5.4,\n",
    "#     \"petal length (cm)\": 3.5\n",
    "# }]' \\\n",
    "#   http://localhost:5000/predict_iris\n",
    "\n",
    "# to run gunicorn:\n",
    "# gunicorn -b 0.0.0.0:5000 app:app\n",
    "\n",
    "# Heroku flow\n",
    "# heroku login\n",
    "# git init\n",
    "# git add <files you need on heroku>\n",
    "# git commit -m \"some comment\"\n",
    "# heroku create (do this only once)\n",
    "# git remote -v\n",
    "# git push heroku master\n",
    "# heroku open"
   ]
  },
  {
   "cell_type": "code",
   "execution_count": 37,
   "metadata": {},
   "outputs": [],
   "source": [
    "col1_list = []\n",
    "col2_list = []\n",
    "col3_list = []\n",
    "col4_list = []\n",
    "col5_list = []\n",
    "col6_list = []\n",
    "col7_list = []\n",
    "col8_list = []\n",
    "col9_list = []\n",
    "col10_list = []\n",
    "col11_list = []\n",
    "col12_list = []\n",
    "col13_list = []\n",
    "col14_list = []\n",
    "col15_list = []\n",
    "col16_list = []\n",
    "col17_list = []\n",
    "col18_list = []\n",
    "col19_list = []\n",
    "### -----\n",
    "c1_list = []\n",
    "c2_list = []\n",
    "c3_list = []"
   ]
  },
  {
   "cell_type": "code",
   "execution_count": 38,
   "metadata": {},
   "outputs": [
    {
     "name": "stdin",
     "output_type": "stream",
     "text": [
      "Enter which type of exam you want to predict: /n 1- Tahseli /n 2- Qudrat 1\n",
      "What is your variable 1 value: 2\n",
      "What is your variable 2 value: 3\n",
      "Enter 1 if Science Track, Enter 0 if Humanity 4\n"
     ]
    }
   ],
   "source": [
    "userInput =input('Enter which type of exam you want to predict:  1 for Tahseli or  2 for Qudrat')\n",
    "if int(userInput) == 1:\n",
    "    col1_list.append(input('What is your variable 1 value:'))\n",
    "    col2_list.append(input('What is your variable 2 value:'))\n",
    "    col3_list.append(input('Enter 1 if Science Track, Enter 0 if Humanity'))\n",
    "else:\n",
    "    c_list.append(input('What is your variable 1 value:'))\n",
    "    c_list.append(input('What is your variable 2 value:'))\n",
    "    c_list.append(input('Enter 1 if Science Track, Enter 0 if Humanity'))"
   ]
  },
  {
   "cell_type": "code",
   "execution_count": 42,
   "metadata": {},
   "outputs": [],
   "source": [
    "df_test = pd.DataFrame({'col1':col1_list,'col2':col2_list})"
   ]
  },
  {
   "cell_type": "code",
   "execution_count": 43,
   "metadata": {},
   "outputs": [
    {
     "data": {
      "text/html": [
       "<div>\n",
       "<style scoped>\n",
       "    .dataframe tbody tr th:only-of-type {\n",
       "        vertical-align: middle;\n",
       "    }\n",
       "\n",
       "    .dataframe tbody tr th {\n",
       "        vertical-align: top;\n",
       "    }\n",
       "\n",
       "    .dataframe thead th {\n",
       "        text-align: right;\n",
       "    }\n",
       "</style>\n",
       "<table border=\"1\" class=\"dataframe\">\n",
       "  <thead>\n",
       "    <tr style=\"text-align: right;\">\n",
       "      <th></th>\n",
       "      <th>col1</th>\n",
       "      <th>col2</th>\n",
       "    </tr>\n",
       "  </thead>\n",
       "  <tbody>\n",
       "    <tr>\n",
       "      <th>0</th>\n",
       "      <td>2</td>\n",
       "      <td>3</td>\n",
       "    </tr>\n",
       "  </tbody>\n",
       "</table>\n",
       "</div>"
      ],
      "text/plain": [
       "  col1 col2\n",
       "0    2    3"
      ]
     },
     "execution_count": 43,
     "metadata": {},
     "output_type": "execute_result"
    }
   ],
   "source": [
    "df_test"
   ]
  },
  {
   "cell_type": "code",
   "execution_count": null,
   "metadata": {},
   "outputs": [],
   "source": [
    "results = model1.predict(df_test)"
   ]
  },
  {
   "cell_type": "code",
   "execution_count": null,
   "metadata": {},
   "outputs": [],
   "source": [
    "print ('Your Next Qudrat exam score is ': results)"
   ]
  },
  {
   "cell_type": "code",
   "execution_count": 7,
   "metadata": {},
   "outputs": [
    {
     "name": "stdin",
     "output_type": "stream",
     "text": [
      "What is your variable 1 value: 5\n",
      "What is your variable 1 value: 8\n"
     ]
    }
   ],
   "source": [
    "var3 = input('What is your variable 1 value:')\n",
    "var4 = input('What is your variable 1 value:')\n"
   ]
  },
  {
   "cell_type": "code",
   "execution_count": 10,
   "metadata": {},
   "outputs": [
    {
     "ename": "TypeError",
     "evalue": "can't multiply sequence by non-int of type 'str'",
     "output_type": "error",
     "traceback": [
      "\u001b[0;31m---------------------------------------------------------------------------\u001b[0m",
      "\u001b[0;31mTypeError\u001b[0m                                 Traceback (most recent call last)",
      "\u001b[0;32m<ipython-input-10-d53dfaedbfc8>\u001b[0m in \u001b[0;36m<module>\u001b[0;34m\u001b[0m\n\u001b[0;32m----> 1\u001b[0;31m \u001b[0mvar\u001b[0m  \u001b[0;34m=\u001b[0m\u001b[0mvar3\u001b[0m \u001b[0;34m*\u001b[0m \u001b[0mvar4\u001b[0m\u001b[0;34m\u001b[0m\u001b[0;34m\u001b[0m\u001b[0m\n\u001b[0m",
      "\u001b[0;31mTypeError\u001b[0m: can't multiply sequence by non-int of type 'str'"
     ]
    }
   ],
   "source": [
    "var  =var3 * var4"
   ]
  },
  {
   "cell_type": "code",
   "execution_count": 12,
   "metadata": {},
   "outputs": [
    {
     "name": "stdout",
     "output_type": "stream",
     "text": [
      "your future Tahseli Exam result is :  5\n"
     ]
    }
   ],
   "source": [
    "print ('your future Tahseli Exam result is : ',var3 )"
   ]
  },
  {
   "cell_type": "code",
   "execution_count": null,
   "metadata": {},
   "outputs": [],
   "source": []
  }
 ],
 "metadata": {
  "kernelspec": {
   "display_name": "Python 3",
   "language": "python",
   "name": "python3"
  },
  "language_info": {
   "codemirror_mode": {
    "name": "ipython",
    "version": 3
   },
   "file_extension": ".py",
   "mimetype": "text/x-python",
   "name": "python",
   "nbconvert_exporter": "python",
   "pygments_lexer": "ipython3",
   "version": "3.7.1"
  }
 },
 "nbformat": 4,
 "nbformat_minor": 2
}
