{
 "cells": [
  {
   "cell_type": "markdown",
   "metadata": {},
   "source": [
    "# This Document icludes all the 6 Models used for prediction And The Models OUT PUT representation at the End of the Document."
   ]
  },
  {
   "cell_type": "code",
   "execution_count": 1,
   "metadata": {},
   "outputs": [],
   "source": [
    "import pandas as pd\n",
    "import numpy as np\n",
    "import matplotlib.pyplot as plt\n",
    "import seaborn as sns"
   ]
  },
  {
   "cell_type": "code",
   "execution_count": 2,
   "metadata": {},
   "outputs": [],
   "source": [
    "# Read Models:\n",
    "Tahseli_Model1= pd.read_csv('./Tahseli_Model1.csv')\n",
    "Tahseli_Model2=pd.read_csv('./Tahseli_Model2.csv')\n",
    "\n",
    "Qudrat_Model1=pd.read_csv('./Qudrat_Model1.csv')\n",
    "Qudrat_Model2=pd.read_csv('./Qudrat_Model2.csv')\n",
    "Qudrat_Model3=pd.read_csv('./Qudrat_Model3.csv')"
   ]
  },
  {
   "cell_type": "code",
   "execution_count": 3,
   "metadata": {},
   "outputs": [],
   "source": [
    "Tahseli_Model_1= pd.read_csv('./Tahseli_Model_1.csv')\n"
   ]
  },
  {
   "cell_type": "code",
   "execution_count": 4,
   "metadata": {},
   "outputs": [],
   "source": [
    "Tahseli_Model_2= pd.read_csv('./Tahseli_Model_2.csv')\n"
   ]
  },
  {
   "cell_type": "code",
   "execution_count": 5,
   "metadata": {},
   "outputs": [],
   "source": [
    "data_xls = pd.read_excel('./school_id/Schools_Exams_scores (1)_2.xlsx')\n"
   ]
  },
  {
   "cell_type": "code",
   "execution_count": 6,
   "metadata": {},
   "outputs": [],
   "source": [
    "data_xls.to_csv('School_scores.csv')"
   ]
  },
  {
   "cell_type": "code",
   "execution_count": 7,
   "metadata": {},
   "outputs": [],
   "source": [
    "schoolID = data_xls.drop([data_xls.columns[-1], data_xls.columns[1], data_xls.columns[0], data_xls.columns[2]] ,  axis=1)"
   ]
  },
  {
   "cell_type": "code",
   "execution_count": 8,
   "metadata": {},
   "outputs": [],
   "source": [
    "#school = schoolID.iloc([],[[1,7]])\n",
    "\n",
    "#schoolID.iloc[0:, [0,1,7]] # 1st, 4th, 7th, 25th row + 1st 6th 7th columns.\n",
    "#data.iloc[0:5, 5:8] # first 5 rows and 5th, 6th, 7th columns of data frame (county -> phone1).\n",
    "#data.iloc[[0,3,6,24], [0,5,6]] # 1st, 4th, 7th, 25th row + 1st 6th 7th columns.\n",
    "#data.iloc[0:5, 5:8] # first 5 rows and 5th, 6th, 7th columns of data frame (county -> phone1).\n",
    "\n",
    "school_quality = schoolID.loc[:, ['School_ID', 'Ø§Ù„Ù…ØªÙˆØ³Ø·']].copy()"
   ]
  },
  {
   "cell_type": "code",
   "execution_count": 9,
   "metadata": {},
   "outputs": [
    {
     "data": {
      "text/html": [
       "<div>\n",
       "<style scoped>\n",
       "    .dataframe tbody tr th:only-of-type {\n",
       "        vertical-align: middle;\n",
       "    }\n",
       "\n",
       "    .dataframe tbody tr th {\n",
       "        vertical-align: top;\n",
       "    }\n",
       "\n",
       "    .dataframe thead th {\n",
       "        text-align: right;\n",
       "    }\n",
       "</style>\n",
       "<table border=\"1\" class=\"dataframe\">\n",
       "  <thead>\n",
       "    <tr style=\"text-align: right;\">\n",
       "      <th></th>\n",
       "      <th>School_ID</th>\n",
       "      <th>Ø§Ù„Ù…ØªÙˆØ³Ø·</th>\n",
       "    </tr>\n",
       "  </thead>\n",
       "  <tbody>\n",
       "    <tr>\n",
       "      <th>0</th>\n",
       "      <td>751.0</td>\n",
       "      <td>63.49</td>\n",
       "    </tr>\n",
       "    <tr>\n",
       "      <th>1</th>\n",
       "      <td>751.0</td>\n",
       "      <td>62.81</td>\n",
       "    </tr>\n",
       "    <tr>\n",
       "      <th>2</th>\n",
       "      <td>776.0</td>\n",
       "      <td>61.71</td>\n",
       "    </tr>\n",
       "    <tr>\n",
       "      <th>3</th>\n",
       "      <td>776.0</td>\n",
       "      <td>62.92</td>\n",
       "    </tr>\n",
       "    <tr>\n",
       "      <th>4</th>\n",
       "      <td>808.0</td>\n",
       "      <td>60.88</td>\n",
       "    </tr>\n",
       "  </tbody>\n",
       "</table>\n",
       "</div>"
      ],
      "text/plain": [
       "   School_ID  Ø§Ù„Ù…ØªÙˆØ³Ø·\n",
       "0      751.0           63.49\n",
       "1      751.0           62.81\n",
       "2      776.0           61.71\n",
       "3      776.0           62.92\n",
       "4      808.0           60.88"
      ]
     },
     "execution_count": 9,
     "metadata": {},
     "output_type": "execute_result"
    }
   ],
   "source": [
    "school_quality.head()"
   ]
  },
  {
   "cell_type": "code",
   "execution_count": 10,
   "metadata": {},
   "outputs": [],
   "source": [
    "school_quality.rename(columns={'Ø§Ù„Ù…ØªÙˆØ³Ø·': 'Avg_Qudrat'}, inplace=True)"
   ]
  },
  {
   "cell_type": "code",
   "execution_count": 11,
   "metadata": {},
   "outputs": [
    {
     "data": {
      "text/html": [
       "<div>\n",
       "<style scoped>\n",
       "    .dataframe tbody tr th:only-of-type {\n",
       "        vertical-align: middle;\n",
       "    }\n",
       "\n",
       "    .dataframe tbody tr th {\n",
       "        vertical-align: top;\n",
       "    }\n",
       "\n",
       "    .dataframe thead th {\n",
       "        text-align: right;\n",
       "    }\n",
       "</style>\n",
       "<table border=\"1\" class=\"dataframe\">\n",
       "  <thead>\n",
       "    <tr style=\"text-align: right;\">\n",
       "      <th></th>\n",
       "      <th>School_ID</th>\n",
       "      <th>Avg_Qudrat</th>\n",
       "    </tr>\n",
       "  </thead>\n",
       "  <tbody>\n",
       "    <tr>\n",
       "      <th>0</th>\n",
       "      <td>751.0</td>\n",
       "      <td>63.49</td>\n",
       "    </tr>\n",
       "    <tr>\n",
       "      <th>1</th>\n",
       "      <td>751.0</td>\n",
       "      <td>62.81</td>\n",
       "    </tr>\n",
       "    <tr>\n",
       "      <th>2</th>\n",
       "      <td>776.0</td>\n",
       "      <td>61.71</td>\n",
       "    </tr>\n",
       "    <tr>\n",
       "      <th>3</th>\n",
       "      <td>776.0</td>\n",
       "      <td>62.92</td>\n",
       "    </tr>\n",
       "    <tr>\n",
       "      <th>4</th>\n",
       "      <td>808.0</td>\n",
       "      <td>60.88</td>\n",
       "    </tr>\n",
       "    <tr>\n",
       "      <th>5</th>\n",
       "      <td>972.0</td>\n",
       "      <td>64.18</td>\n",
       "    </tr>\n",
       "    <tr>\n",
       "      <th>6</th>\n",
       "      <td>722.0</td>\n",
       "      <td>63.99</td>\n",
       "    </tr>\n",
       "    <tr>\n",
       "      <th>7</th>\n",
       "      <td>722.0</td>\n",
       "      <td>64.31</td>\n",
       "    </tr>\n",
       "    <tr>\n",
       "      <th>8</th>\n",
       "      <td>764.0</td>\n",
       "      <td>75.55</td>\n",
       "    </tr>\n",
       "    <tr>\n",
       "      <th>9</th>\n",
       "      <td>764.0</td>\n",
       "      <td>72.64</td>\n",
       "    </tr>\n",
       "    <tr>\n",
       "      <th>10</th>\n",
       "      <td>768.0</td>\n",
       "      <td>68.93</td>\n",
       "    </tr>\n",
       "    <tr>\n",
       "      <th>11</th>\n",
       "      <td>790.0</td>\n",
       "      <td>65.21</td>\n",
       "    </tr>\n",
       "    <tr>\n",
       "      <th>12</th>\n",
       "      <td>728.0</td>\n",
       "      <td>66.55</td>\n",
       "    </tr>\n",
       "    <tr>\n",
       "      <th>13</th>\n",
       "      <td>728.0</td>\n",
       "      <td>67.27</td>\n",
       "    </tr>\n",
       "    <tr>\n",
       "      <th>14</th>\n",
       "      <td>732.0</td>\n",
       "      <td>71.50</td>\n",
       "    </tr>\n",
       "    <tr>\n",
       "      <th>15</th>\n",
       "      <td>732.0</td>\n",
       "      <td>69.79</td>\n",
       "    </tr>\n",
       "    <tr>\n",
       "      <th>16</th>\n",
       "      <td>738.0</td>\n",
       "      <td>69.36</td>\n",
       "    </tr>\n",
       "    <tr>\n",
       "      <th>17</th>\n",
       "      <td>738.0</td>\n",
       "      <td>69.00</td>\n",
       "    </tr>\n",
       "    <tr>\n",
       "      <th>18</th>\n",
       "      <td>1477.0</td>\n",
       "      <td>72.76</td>\n",
       "    </tr>\n",
       "    <tr>\n",
       "      <th>19</th>\n",
       "      <td>1477.0</td>\n",
       "      <td>68.39</td>\n",
       "    </tr>\n",
       "    <tr>\n",
       "      <th>20</th>\n",
       "      <td>1664.0</td>\n",
       "      <td>60.44</td>\n",
       "    </tr>\n",
       "    <tr>\n",
       "      <th>21</th>\n",
       "      <td>1856.0</td>\n",
       "      <td>74.96</td>\n",
       "    </tr>\n",
       "    <tr>\n",
       "      <th>22</th>\n",
       "      <td>1856.0</td>\n",
       "      <td>71.97</td>\n",
       "    </tr>\n",
       "    <tr>\n",
       "      <th>23</th>\n",
       "      <td>1931.0</td>\n",
       "      <td>59.27</td>\n",
       "    </tr>\n",
       "    <tr>\n",
       "      <th>24</th>\n",
       "      <td>790.0</td>\n",
       "      <td>64.45</td>\n",
       "    </tr>\n",
       "    <tr>\n",
       "      <th>25</th>\n",
       "      <td>793.0</td>\n",
       "      <td>63.26</td>\n",
       "    </tr>\n",
       "    <tr>\n",
       "      <th>26</th>\n",
       "      <td>846.0</td>\n",
       "      <td>64.67</td>\n",
       "    </tr>\n",
       "    <tr>\n",
       "      <th>27</th>\n",
       "      <td>846.0</td>\n",
       "      <td>63.86</td>\n",
       "    </tr>\n",
       "    <tr>\n",
       "      <th>28</th>\n",
       "      <td>931.0</td>\n",
       "      <td>74.07</td>\n",
       "    </tr>\n",
       "    <tr>\n",
       "      <th>29</th>\n",
       "      <td>931.0</td>\n",
       "      <td>74.68</td>\n",
       "    </tr>\n",
       "    <tr>\n",
       "      <th>...</th>\n",
       "      <td>...</td>\n",
       "      <td>...</td>\n",
       "    </tr>\n",
       "    <tr>\n",
       "      <th>6423</th>\n",
       "      <td>45538.0</td>\n",
       "      <td>65.58</td>\n",
       "    </tr>\n",
       "    <tr>\n",
       "      <th>6424</th>\n",
       "      <td>45538.0</td>\n",
       "      <td>66.89</td>\n",
       "    </tr>\n",
       "    <tr>\n",
       "      <th>6425</th>\n",
       "      <td>45553.0</td>\n",
       "      <td>71.79</td>\n",
       "    </tr>\n",
       "    <tr>\n",
       "      <th>6426</th>\n",
       "      <td>45589.0</td>\n",
       "      <td>67.46</td>\n",
       "    </tr>\n",
       "    <tr>\n",
       "      <th>6427</th>\n",
       "      <td>45634.0</td>\n",
       "      <td>66.02</td>\n",
       "    </tr>\n",
       "    <tr>\n",
       "      <th>6428</th>\n",
       "      <td>45634.0</td>\n",
       "      <td>65.53</td>\n",
       "    </tr>\n",
       "    <tr>\n",
       "      <th>6429</th>\n",
       "      <td>45694.0</td>\n",
       "      <td>72.63</td>\n",
       "    </tr>\n",
       "    <tr>\n",
       "      <th>6430</th>\n",
       "      <td>45723.0</td>\n",
       "      <td>70.57</td>\n",
       "    </tr>\n",
       "    <tr>\n",
       "      <th>6431</th>\n",
       "      <td>46109.0</td>\n",
       "      <td>72.03</td>\n",
       "    </tr>\n",
       "    <tr>\n",
       "      <th>6432</th>\n",
       "      <td>46135.0</td>\n",
       "      <td>68.97</td>\n",
       "    </tr>\n",
       "    <tr>\n",
       "      <th>6433</th>\n",
       "      <td>46135.0</td>\n",
       "      <td>64.16</td>\n",
       "    </tr>\n",
       "    <tr>\n",
       "      <th>6434</th>\n",
       "      <td>46165.0</td>\n",
       "      <td>64.96</td>\n",
       "    </tr>\n",
       "    <tr>\n",
       "      <th>6435</th>\n",
       "      <td>46165.0</td>\n",
       "      <td>66.44</td>\n",
       "    </tr>\n",
       "    <tr>\n",
       "      <th>6436</th>\n",
       "      <td>46167.0</td>\n",
       "      <td>73.62</td>\n",
       "    </tr>\n",
       "    <tr>\n",
       "      <th>6437</th>\n",
       "      <td>46204.0</td>\n",
       "      <td>74.40</td>\n",
       "    </tr>\n",
       "    <tr>\n",
       "      <th>6438</th>\n",
       "      <td>46222.0</td>\n",
       "      <td>78.80</td>\n",
       "    </tr>\n",
       "    <tr>\n",
       "      <th>6439</th>\n",
       "      <td>46232.0</td>\n",
       "      <td>71.71</td>\n",
       "    </tr>\n",
       "    <tr>\n",
       "      <th>6440</th>\n",
       "      <td>46232.0</td>\n",
       "      <td>66.83</td>\n",
       "    </tr>\n",
       "    <tr>\n",
       "      <th>6441</th>\n",
       "      <td>46233.0</td>\n",
       "      <td>69.37</td>\n",
       "    </tr>\n",
       "    <tr>\n",
       "      <th>6442</th>\n",
       "      <td>46233.0</td>\n",
       "      <td>72.76</td>\n",
       "    </tr>\n",
       "    <tr>\n",
       "      <th>6443</th>\n",
       "      <td>46413.0</td>\n",
       "      <td>66.96</td>\n",
       "    </tr>\n",
       "    <tr>\n",
       "      <th>6444</th>\n",
       "      <td>46503.0</td>\n",
       "      <td>76.25</td>\n",
       "    </tr>\n",
       "    <tr>\n",
       "      <th>6445</th>\n",
       "      <td>46509.0</td>\n",
       "      <td>77.54</td>\n",
       "    </tr>\n",
       "    <tr>\n",
       "      <th>6446</th>\n",
       "      <td>46561.0</td>\n",
       "      <td>67.43</td>\n",
       "    </tr>\n",
       "    <tr>\n",
       "      <th>6447</th>\n",
       "      <td>46561.0</td>\n",
       "      <td>67.61</td>\n",
       "    </tr>\n",
       "    <tr>\n",
       "      <th>6448</th>\n",
       "      <td>46582.0</td>\n",
       "      <td>58.08</td>\n",
       "    </tr>\n",
       "    <tr>\n",
       "      <th>6449</th>\n",
       "      <td>46582.0</td>\n",
       "      <td>62.32</td>\n",
       "    </tr>\n",
       "    <tr>\n",
       "      <th>6450</th>\n",
       "      <td>46705.0</td>\n",
       "      <td>68.38</td>\n",
       "    </tr>\n",
       "    <tr>\n",
       "      <th>6451</th>\n",
       "      <td>46705.0</td>\n",
       "      <td>68.10</td>\n",
       "    </tr>\n",
       "    <tr>\n",
       "      <th>6452</th>\n",
       "      <td>47094.0</td>\n",
       "      <td>72.98</td>\n",
       "    </tr>\n",
       "  </tbody>\n",
       "</table>\n",
       "<p>6453 rows × 2 columns</p>\n",
       "</div>"
      ],
      "text/plain": [
       "      School_ID  Avg_Qudrat\n",
       "0         751.0       63.49\n",
       "1         751.0       62.81\n",
       "2         776.0       61.71\n",
       "3         776.0       62.92\n",
       "4         808.0       60.88\n",
       "5         972.0       64.18\n",
       "6         722.0       63.99\n",
       "7         722.0       64.31\n",
       "8         764.0       75.55\n",
       "9         764.0       72.64\n",
       "10        768.0       68.93\n",
       "11        790.0       65.21\n",
       "12        728.0       66.55\n",
       "13        728.0       67.27\n",
       "14        732.0       71.50\n",
       "15        732.0       69.79\n",
       "16        738.0       69.36\n",
       "17        738.0       69.00\n",
       "18       1477.0       72.76\n",
       "19       1477.0       68.39\n",
       "20       1664.0       60.44\n",
       "21       1856.0       74.96\n",
       "22       1856.0       71.97\n",
       "23       1931.0       59.27\n",
       "24        790.0       64.45\n",
       "25        793.0       63.26\n",
       "26        846.0       64.67\n",
       "27        846.0       63.86\n",
       "28        931.0       74.07\n",
       "29        931.0       74.68\n",
       "...         ...         ...\n",
       "6423    45538.0       65.58\n",
       "6424    45538.0       66.89\n",
       "6425    45553.0       71.79\n",
       "6426    45589.0       67.46\n",
       "6427    45634.0       66.02\n",
       "6428    45634.0       65.53\n",
       "6429    45694.0       72.63\n",
       "6430    45723.0       70.57\n",
       "6431    46109.0       72.03\n",
       "6432    46135.0       68.97\n",
       "6433    46135.0       64.16\n",
       "6434    46165.0       64.96\n",
       "6435    46165.0       66.44\n",
       "6436    46167.0       73.62\n",
       "6437    46204.0       74.40\n",
       "6438    46222.0       78.80\n",
       "6439    46232.0       71.71\n",
       "6440    46232.0       66.83\n",
       "6441    46233.0       69.37\n",
       "6442    46233.0       72.76\n",
       "6443    46413.0       66.96\n",
       "6444    46503.0       76.25\n",
       "6445    46509.0       77.54\n",
       "6446    46561.0       67.43\n",
       "6447    46561.0       67.61\n",
       "6448    46582.0       58.08\n",
       "6449    46582.0       62.32\n",
       "6450    46705.0       68.38\n",
       "6451    46705.0       68.10\n",
       "6452    47094.0       72.98\n",
       "\n",
       "[6453 rows x 2 columns]"
      ]
     },
     "execution_count": 11,
     "metadata": {},
     "output_type": "execute_result"
    }
   ],
   "source": [
    "school_quality"
   ]
  },
  {
   "cell_type": "code",
   "execution_count": 12,
   "metadata": {},
   "outputs": [],
   "source": [
    "Girl_tah = pd.read_excel('./school_id/Girl_Tahseli_Theoretica_2.xlsx')\n",
    "Girl_tah.to_csv('Girl_t_T.csv')"
   ]
  },
  {
   "cell_type": "code",
   "execution_count": 13,
   "metadata": {},
   "outputs": [],
   "source": [
    "Girl_t_T = Girl_tah.loc[:, ['School_ID', 'Ø§Ù„Ù…ØªÙˆØ³Ø·']].copy()"
   ]
  },
  {
   "cell_type": "code",
   "execution_count": 14,
   "metadata": {},
   "outputs": [],
   "source": [
    "Girl_t_T.rename(columns={'Ø§Ù„Ù…ØªÙˆØ³Ø·': 'Avg_Tahseli'}, inplace=True)"
   ]
  },
  {
   "cell_type": "code",
   "execution_count": 15,
   "metadata": {},
   "outputs": [
    {
     "data": {
      "text/html": [
       "<div>\n",
       "<style scoped>\n",
       "    .dataframe tbody tr th:only-of-type {\n",
       "        vertical-align: middle;\n",
       "    }\n",
       "\n",
       "    .dataframe tbody tr th {\n",
       "        vertical-align: top;\n",
       "    }\n",
       "\n",
       "    .dataframe thead th {\n",
       "        text-align: right;\n",
       "    }\n",
       "</style>\n",
       "<table border=\"1\" class=\"dataframe\">\n",
       "  <thead>\n",
       "    <tr style=\"text-align: right;\">\n",
       "      <th></th>\n",
       "      <th>School_ID</th>\n",
       "      <th>Avg_Tahseli</th>\n",
       "    </tr>\n",
       "  </thead>\n",
       "  <tbody>\n",
       "    <tr>\n",
       "      <th>0</th>\n",
       "      <td>6145</td>\n",
       "      <td>70.03</td>\n",
       "    </tr>\n",
       "    <tr>\n",
       "      <th>1</th>\n",
       "      <td>7393</td>\n",
       "      <td>66.58</td>\n",
       "    </tr>\n",
       "    <tr>\n",
       "      <th>2</th>\n",
       "      <td>7409</td>\n",
       "      <td>69.67</td>\n",
       "    </tr>\n",
       "    <tr>\n",
       "      <th>3</th>\n",
       "      <td>8209</td>\n",
       "      <td>62.34</td>\n",
       "    </tr>\n",
       "    <tr>\n",
       "      <th>4</th>\n",
       "      <td>11121</td>\n",
       "      <td>67.08</td>\n",
       "    </tr>\n",
       "  </tbody>\n",
       "</table>\n",
       "</div>"
      ],
      "text/plain": [
       "   School_ID  Avg_Tahseli\n",
       "0       6145        70.03\n",
       "1       7393        66.58\n",
       "2       7409        69.67\n",
       "3       8209        62.34\n",
       "4      11121        67.08"
      ]
     },
     "execution_count": 15,
     "metadata": {},
     "output_type": "execute_result"
    }
   ],
   "source": [
    "Girl_t_T.head()"
   ]
  },
  {
   "cell_type": "code",
   "execution_count": 16,
   "metadata": {},
   "outputs": [],
   "source": [
    "Boy_Qudr_Theo = pd.read_excel('./school_id/Qudrat_Boys_Theor (1)_2.xlsx')\n",
    "Boy_Qudr_Theo.to_csv('Boy_Q_theo.csv')"
   ]
  },
  {
   "cell_type": "code",
   "execution_count": 17,
   "metadata": {},
   "outputs": [],
   "source": [
    "Boy_Qudr_Theo = Boy_Qudr_Theo.loc[:, ['School_ID', 'Ø§Ù„Ù…ØªÙˆØ³Ø·']].copy()"
   ]
  },
  {
   "cell_type": "code",
   "execution_count": 18,
   "metadata": {},
   "outputs": [],
   "source": [
    "Boy_Qudr_Theo.rename(columns={'Ø§Ù„Ù…ØªÙˆØ³Ø·': 'Avg_Qudrat'}, inplace=True)"
   ]
  },
  {
   "cell_type": "code",
   "execution_count": 19,
   "metadata": {},
   "outputs": [
    {
     "data": {
      "text/html": [
       "<div>\n",
       "<style scoped>\n",
       "    .dataframe tbody tr th:only-of-type {\n",
       "        vertical-align: middle;\n",
       "    }\n",
       "\n",
       "    .dataframe tbody tr th {\n",
       "        vertical-align: top;\n",
       "    }\n",
       "\n",
       "    .dataframe thead th {\n",
       "        text-align: right;\n",
       "    }\n",
       "</style>\n",
       "<table border=\"1\" class=\"dataframe\">\n",
       "  <thead>\n",
       "    <tr style=\"text-align: right;\">\n",
       "      <th></th>\n",
       "      <th>School_ID</th>\n",
       "      <th>Avg_Qudrat</th>\n",
       "    </tr>\n",
       "  </thead>\n",
       "  <tbody>\n",
       "    <tr>\n",
       "      <th>0</th>\n",
       "      <td>1793.0</td>\n",
       "      <td>66.79</td>\n",
       "    </tr>\n",
       "    <tr>\n",
       "      <th>1</th>\n",
       "      <td>2385.0</td>\n",
       "      <td>77.26</td>\n",
       "    </tr>\n",
       "    <tr>\n",
       "      <th>2</th>\n",
       "      <td>5313.0</td>\n",
       "      <td>65.42</td>\n",
       "    </tr>\n",
       "    <tr>\n",
       "      <th>3</th>\n",
       "      <td>5569.0</td>\n",
       "      <td>77.84</td>\n",
       "    </tr>\n",
       "    <tr>\n",
       "      <th>4</th>\n",
       "      <td>13441.0</td>\n",
       "      <td>65.71</td>\n",
       "    </tr>\n",
       "  </tbody>\n",
       "</table>\n",
       "</div>"
      ],
      "text/plain": [
       "   School_ID  Avg_Qudrat\n",
       "0     1793.0       66.79\n",
       "1     2385.0       77.26\n",
       "2     5313.0       65.42\n",
       "3     5569.0       77.84\n",
       "4    13441.0       65.71"
      ]
     },
     "execution_count": 19,
     "metadata": {},
     "output_type": "execute_result"
    }
   ],
   "source": [
    "Boy_Qudr_Theo.head()"
   ]
  },
  {
   "cell_type": "code",
   "execution_count": 20,
   "metadata": {},
   "outputs": [],
   "source": [
    "### separate Tahseli from qudrat to match with models"
   ]
  },
  {
   "cell_type": "code",
   "execution_count": 21,
   "metadata": {},
   "outputs": [],
   "source": [
    "Qudrat_school_score = school_quality.iloc[0:4609].copy() "
   ]
  },
  {
   "cell_type": "code",
   "execution_count": 22,
   "metadata": {},
   "outputs": [
    {
     "data": {
      "text/html": [
       "<div>\n",
       "<style scoped>\n",
       "    .dataframe tbody tr th:only-of-type {\n",
       "        vertical-align: middle;\n",
       "    }\n",
       "\n",
       "    .dataframe tbody tr th {\n",
       "        vertical-align: top;\n",
       "    }\n",
       "\n",
       "    .dataframe thead th {\n",
       "        text-align: right;\n",
       "    }\n",
       "</style>\n",
       "<table border=\"1\" class=\"dataframe\">\n",
       "  <thead>\n",
       "    <tr style=\"text-align: right;\">\n",
       "      <th></th>\n",
       "      <th>School_ID</th>\n",
       "      <th>Avg_Qudrat</th>\n",
       "    </tr>\n",
       "  </thead>\n",
       "  <tbody>\n",
       "    <tr>\n",
       "      <th>4604</th>\n",
       "      <td>37420.0</td>\n",
       "      <td>60.77</td>\n",
       "    </tr>\n",
       "    <tr>\n",
       "      <th>4605</th>\n",
       "      <td>37427.0</td>\n",
       "      <td>62.08</td>\n",
       "    </tr>\n",
       "    <tr>\n",
       "      <th>4606</th>\n",
       "      <td>37432.0</td>\n",
       "      <td>61.31</td>\n",
       "    </tr>\n",
       "    <tr>\n",
       "      <th>4607</th>\n",
       "      <td>37447.0</td>\n",
       "      <td>60.34</td>\n",
       "    </tr>\n",
       "    <tr>\n",
       "      <th>4608</th>\n",
       "      <td>37656.0</td>\n",
       "      <td>61.85</td>\n",
       "    </tr>\n",
       "  </tbody>\n",
       "</table>\n",
       "</div>"
      ],
      "text/plain": [
       "      School_ID  Avg_Qudrat\n",
       "4604    37420.0       60.77\n",
       "4605    37427.0       62.08\n",
       "4606    37432.0       61.31\n",
       "4607    37447.0       60.34\n",
       "4608    37656.0       61.85"
      ]
     },
     "execution_count": 22,
     "metadata": {},
     "output_type": "execute_result"
    }
   ],
   "source": [
    "Qudrat_school_score.tail()"
   ]
  },
  {
   "cell_type": "code",
   "execution_count": 23,
   "metadata": {},
   "outputs": [],
   "source": [
    "T_school_score= school_quality.iloc[4609:].copy()"
   ]
  },
  {
   "cell_type": "code",
   "execution_count": 24,
   "metadata": {},
   "outputs": [],
   "source": [
    "T_school_score.rename(columns={'Avg_Qudrat': 'Avg_Tahseli'}, inplace=True)"
   ]
  },
  {
   "cell_type": "code",
   "execution_count": 25,
   "metadata": {},
   "outputs": [
    {
     "data": {
      "text/plain": [
       "((4609, 2), (1844, 2), (1644, 2), (207, 2))"
      ]
     },
     "execution_count": 25,
     "metadata": {},
     "output_type": "execute_result"
    }
   ],
   "source": [
    "Qudrat_school_score.shape, T_school_score.shape, Girl_t_T.shape, Boy_Qudr_Theo.shape"
   ]
  },
  {
   "cell_type": "code",
   "execution_count": 26,
   "metadata": {},
   "outputs": [
    {
     "data": {
      "text/plain": [
       "School_ID      0\n",
       "Avg_Tahseli    0\n",
       "dtype: int64"
      ]
     },
     "execution_count": 26,
     "metadata": {},
     "output_type": "execute_result"
    }
   ],
   "source": [
    "T_school_score.isnull().sum()"
   ]
  },
  {
   "cell_type": "code",
   "execution_count": 27,
   "metadata": {},
   "outputs": [],
   "source": [
    "T_school_score.rename(columns={'School_ID_2': 'School_ID_1'}, inplace=True)"
   ]
  },
  {
   "cell_type": "code",
   "execution_count": 28,
   "metadata": {},
   "outputs": [],
   "source": [
    "T_school_score =T_school_score.append(Girl_t_T,ignore_index=True )"
   ]
  },
  {
   "cell_type": "code",
   "execution_count": 29,
   "metadata": {},
   "outputs": [],
   "source": [
    "Qudrat_school_score= Qudrat_school_score.append(Boy_Qudr_Theo,ignore_index=True)"
   ]
  },
  {
   "cell_type": "code",
   "execution_count": 30,
   "metadata": {},
   "outputs": [],
   "source": [
    "Qudrat_school_score.dropna(axis=0, inplace=True)"
   ]
  },
  {
   "cell_type": "markdown",
   "metadata": {},
   "source": [
    "## Now we have two df's:\n",
    "    - one for Qudrat (Qudrat avg score by school) \n",
    "    - and one for Tahseli(Tahseli avg score by school), \n",
    "here we will apppend them to the 5 models (2Tahseli, 3Qudrat) respectively."
   ]
  },
  {
   "cell_type": "code",
   "execution_count": 31,
   "metadata": {},
   "outputs": [
    {
     "data": {
      "text/html": [
       "<div>\n",
       "<style scoped>\n",
       "    .dataframe tbody tr th:only-of-type {\n",
       "        vertical-align: middle;\n",
       "    }\n",
       "\n",
       "    .dataframe tbody tr th {\n",
       "        vertical-align: top;\n",
       "    }\n",
       "\n",
       "    .dataframe thead th {\n",
       "        text-align: right;\n",
       "    }\n",
       "</style>\n",
       "<table border=\"1\" class=\"dataframe\">\n",
       "  <thead>\n",
       "    <tr style=\"text-align: right;\">\n",
       "      <th></th>\n",
       "      <th>Unnamed: 0</th>\n",
       "      <th>student_ID</th>\n",
       "      <th>Age</th>\n",
       "      <th>Absence_days</th>\n",
       "      <th>Final_results_grade</th>\n",
       "      <th>School_ID_1</th>\n",
       "      <th>start_year</th>\n",
       "      <th>end_year</th>\n",
       "      <th>T_Total_grade</th>\n",
       "      <th>School_ID_2</th>\n",
       "      <th>...</th>\n",
       "      <th>class_Semester_6</th>\n",
       "      <th>class_Semester_NA</th>\n",
       "      <th>Path_مسار العلوم  الطبيعية</th>\n",
       "      <th>Path_مسار العلوم الانسانية</th>\n",
       "      <th>P_F_Result_Grad</th>\n",
       "      <th>P_F_Result_Not_Complete</th>\n",
       "      <th>P_F_Result_Pass</th>\n",
       "      <th>Tahseli_type_اختبار التحصيل الدراسي للتخصصات النظرية</th>\n",
       "      <th>Tahseli_type_الاختبار التحصيلي للتخصصات العلمية</th>\n",
       "      <th>Tahseli_type_الاختبار التحصيلي للتخصصات النظرية</th>\n",
       "    </tr>\n",
       "  </thead>\n",
       "  <tbody>\n",
       "    <tr>\n",
       "      <th>0</th>\n",
       "      <td>0</td>\n",
       "      <td>504436</td>\n",
       "      <td>19.0</td>\n",
       "      <td>3.0</td>\n",
       "      <td>76.89</td>\n",
       "      <td>1584.0</td>\n",
       "      <td>2015</td>\n",
       "      <td>2016</td>\n",
       "      <td>53</td>\n",
       "      <td>1584.0</td>\n",
       "      <td>...</td>\n",
       "      <td>0</td>\n",
       "      <td>0</td>\n",
       "      <td>0</td>\n",
       "      <td>0</td>\n",
       "      <td>0</td>\n",
       "      <td>0</td>\n",
       "      <td>1</td>\n",
       "      <td>0</td>\n",
       "      <td>0</td>\n",
       "      <td>0</td>\n",
       "    </tr>\n",
       "    <tr>\n",
       "      <th>1</th>\n",
       "      <td>1</td>\n",
       "      <td>504436</td>\n",
       "      <td>19.0</td>\n",
       "      <td>8.0</td>\n",
       "      <td>81.47</td>\n",
       "      <td>1584.0</td>\n",
       "      <td>2016</td>\n",
       "      <td>2017</td>\n",
       "      <td>53</td>\n",
       "      <td>1584.0</td>\n",
       "      <td>...</td>\n",
       "      <td>0</td>\n",
       "      <td>1</td>\n",
       "      <td>0</td>\n",
       "      <td>0</td>\n",
       "      <td>1</td>\n",
       "      <td>0</td>\n",
       "      <td>0</td>\n",
       "      <td>0</td>\n",
       "      <td>0</td>\n",
       "      <td>0</td>\n",
       "    </tr>\n",
       "    <tr>\n",
       "      <th>2</th>\n",
       "      <td>2</td>\n",
       "      <td>2004832</td>\n",
       "      <td>20.0</td>\n",
       "      <td>0.0</td>\n",
       "      <td>72.20</td>\n",
       "      <td>728.0</td>\n",
       "      <td>2015</td>\n",
       "      <td>2016</td>\n",
       "      <td>47</td>\n",
       "      <td>728.0</td>\n",
       "      <td>...</td>\n",
       "      <td>0</td>\n",
       "      <td>0</td>\n",
       "      <td>0</td>\n",
       "      <td>0</td>\n",
       "      <td>0</td>\n",
       "      <td>0</td>\n",
       "      <td>1</td>\n",
       "      <td>0</td>\n",
       "      <td>0</td>\n",
       "      <td>0</td>\n",
       "    </tr>\n",
       "    <tr>\n",
       "      <th>3</th>\n",
       "      <td>3</td>\n",
       "      <td>2004832</td>\n",
       "      <td>20.0</td>\n",
       "      <td>4.0</td>\n",
       "      <td>71.86</td>\n",
       "      <td>728.0</td>\n",
       "      <td>2016</td>\n",
       "      <td>2017</td>\n",
       "      <td>47</td>\n",
       "      <td>728.0</td>\n",
       "      <td>...</td>\n",
       "      <td>0</td>\n",
       "      <td>1</td>\n",
       "      <td>0</td>\n",
       "      <td>0</td>\n",
       "      <td>1</td>\n",
       "      <td>0</td>\n",
       "      <td>0</td>\n",
       "      <td>0</td>\n",
       "      <td>0</td>\n",
       "      <td>0</td>\n",
       "    </tr>\n",
       "    <tr>\n",
       "      <th>4</th>\n",
       "      <td>4</td>\n",
       "      <td>191999</td>\n",
       "      <td>21.0</td>\n",
       "      <td>3.0</td>\n",
       "      <td>78.03</td>\n",
       "      <td>4234.0</td>\n",
       "      <td>2015</td>\n",
       "      <td>2016</td>\n",
       "      <td>53</td>\n",
       "      <td>19163.0</td>\n",
       "      <td>...</td>\n",
       "      <td>1</td>\n",
       "      <td>0</td>\n",
       "      <td>1</td>\n",
       "      <td>0</td>\n",
       "      <td>0</td>\n",
       "      <td>0</td>\n",
       "      <td>1</td>\n",
       "      <td>0</td>\n",
       "      <td>0</td>\n",
       "      <td>0</td>\n",
       "    </tr>\n",
       "  </tbody>\n",
       "</table>\n",
       "<p>5 rows × 43 columns</p>\n",
       "</div>"
      ],
      "text/plain": [
       "   Unnamed: 0  student_ID   Age  Absence_days  Final_results_grade  \\\n",
       "0           0      504436  19.0           3.0                76.89   \n",
       "1           1      504436  19.0           8.0                81.47   \n",
       "2           2     2004832  20.0           0.0                72.20   \n",
       "3           3     2004832  20.0           4.0                71.86   \n",
       "4           4      191999  21.0           3.0                78.03   \n",
       "\n",
       "   School_ID_1  start_year  end_year  T_Total_grade  School_ID_2  \\\n",
       "0       1584.0        2015      2016             53       1584.0   \n",
       "1       1584.0        2016      2017             53       1584.0   \n",
       "2        728.0        2015      2016             47        728.0   \n",
       "3        728.0        2016      2017             47        728.0   \n",
       "4       4234.0        2015      2016             53      19163.0   \n",
       "\n",
       "                        ...                        class_Semester_6  \\\n",
       "0                       ...                                       0   \n",
       "1                       ...                                       0   \n",
       "2                       ...                                       0   \n",
       "3                       ...                                       0   \n",
       "4                       ...                                       1   \n",
       "\n",
       "   class_Semester_NA Path_مسار العلوم  الطبيعية  Path_مسار العلوم الانسانية  \\\n",
       "0                  0                          0                           0   \n",
       "1                  1                          0                           0   \n",
       "2                  0                          0                           0   \n",
       "3                  1                          0                           0   \n",
       "4                  0                          1                           0   \n",
       "\n",
       "   P_F_Result_Grad  P_F_Result_Not_Complete  P_F_Result_Pass  \\\n",
       "0                0                        0                1   \n",
       "1                1                        0                0   \n",
       "2                0                        0                1   \n",
       "3                1                        0                0   \n",
       "4                0                        0                1   \n",
       "\n",
       "   Tahseli_type_اختبار التحصيل الدراسي للتخصصات النظرية  \\\n",
       "0                                                  0      \n",
       "1                                                  0      \n",
       "2                                                  0      \n",
       "3                                                  0      \n",
       "4                                                  0      \n",
       "\n",
       "   Tahseli_type_الاختبار التحصيلي للتخصصات العلمية  \\\n",
       "0                                                0   \n",
       "1                                                0   \n",
       "2                                                0   \n",
       "3                                                0   \n",
       "4                                                0   \n",
       "\n",
       "   Tahseli_type_الاختبار التحصيلي للتخصصات النظرية  \n",
       "0                                                0  \n",
       "1                                                0  \n",
       "2                                                0  \n",
       "3                                                0  \n",
       "4                                                0  \n",
       "\n",
       "[5 rows x 43 columns]"
      ]
     },
     "execution_count": 31,
     "metadata": {},
     "output_type": "execute_result"
    }
   ],
   "source": [
    "Tahseli_Model2.head()"
   ]
  },
  {
   "cell_type": "code",
   "execution_count": 32,
   "metadata": {},
   "outputs": [
    {
     "data": {
      "text/html": [
       "<div>\n",
       "<style scoped>\n",
       "    .dataframe tbody tr th:only-of-type {\n",
       "        vertical-align: middle;\n",
       "    }\n",
       "\n",
       "    .dataframe tbody tr th {\n",
       "        vertical-align: top;\n",
       "    }\n",
       "\n",
       "    .dataframe thead th {\n",
       "        text-align: right;\n",
       "    }\n",
       "</style>\n",
       "<table border=\"1\" class=\"dataframe\">\n",
       "  <thead>\n",
       "    <tr style=\"text-align: right;\">\n",
       "      <th></th>\n",
       "      <th>School_ID</th>\n",
       "      <th>Avg_Tahseli</th>\n",
       "    </tr>\n",
       "  </thead>\n",
       "  <tbody>\n",
       "    <tr>\n",
       "      <th>0</th>\n",
       "      <td>40076.0</td>\n",
       "      <td>69.79</td>\n",
       "    </tr>\n",
       "    <tr>\n",
       "      <th>1</th>\n",
       "      <td>40303.0</td>\n",
       "      <td>59.62</td>\n",
       "    </tr>\n",
       "    <tr>\n",
       "      <th>2</th>\n",
       "      <td>40421.0</td>\n",
       "      <td>67.52</td>\n",
       "    </tr>\n",
       "    <tr>\n",
       "      <th>3</th>\n",
       "      <td>40601.0</td>\n",
       "      <td>62.39</td>\n",
       "    </tr>\n",
       "    <tr>\n",
       "      <th>4</th>\n",
       "      <td>40844.0</td>\n",
       "      <td>67.15</td>\n",
       "    </tr>\n",
       "  </tbody>\n",
       "</table>\n",
       "</div>"
      ],
      "text/plain": [
       "   School_ID  Avg_Tahseli\n",
       "0    40076.0        69.79\n",
       "1    40303.0        59.62\n",
       "2    40421.0        67.52\n",
       "3    40601.0        62.39\n",
       "4    40844.0        67.15"
      ]
     },
     "execution_count": 32,
     "metadata": {},
     "output_type": "execute_result"
    }
   ],
   "source": [
    "T_school_score.head()"
   ]
  },
  {
   "cell_type": "code",
   "execution_count": 33,
   "metadata": {},
   "outputs": [],
   "source": [
    "T_school_score.rename(columns={'School_ID_1': 'School_ID'}, inplace=True)"
   ]
  },
  {
   "cell_type": "code",
   "execution_count": 34,
   "metadata": {},
   "outputs": [],
   "source": [
    "Tahseli_Model2.rename(columns={'School_ID_1': 'School_ID'}, inplace=True)"
   ]
  },
  {
   "cell_type": "code",
   "execution_count": 35,
   "metadata": {},
   "outputs": [],
   "source": [
    "Tahseli_Model_2 = pd.merge(Tahseli_Model2, T_school_score, how='left', on=['School_ID'])"
   ]
  },
  {
   "cell_type": "code",
   "execution_count": 36,
   "metadata": {},
   "outputs": [],
   "source": [
    "Tahseli_Model_2.dropna(axis=0, inplace=True)"
   ]
  },
  {
   "cell_type": "code",
   "execution_count": 37,
   "metadata": {},
   "outputs": [
    {
     "data": {
      "text/plain": [
       "Unnamed: 0                                              0\n",
       "student_ID                                              0\n",
       "Age                                                     0\n",
       "Absence_days                                            0\n",
       "Final_results_grade                                     0\n",
       "School_ID                                               0\n",
       "start_year                                              0\n",
       "end_year                                                0\n",
       "T_Total_grade                                           0\n",
       "School_ID_2                                             0\n",
       "T_Exam_Date                                             0\n",
       "Total_grade_2                                           0\n",
       "Exam_Date_2                                             0\n",
       "sex_Male                                                0\n",
       "School_type_day                                         0\n",
       "School_type_eldery                                      0\n",
       "School_type_night                                       0\n",
       "School_classification_public                            0\n",
       "Track_ادبي بنات                                         0\n",
       "Track_المسار الأدبي                                     0\n",
       "Track_المسار الإداري                                    0\n",
       "Track_المسار العلمي                                     0\n",
       "Track_علمي بنات                                         0\n",
       "Track_قسم تحفيظ القراّن الكريم بنات                     0\n",
       "Track_قسم ثانوي                                         0\n",
       "Track_قسم علوم طبيعية بنين                              0\n",
       "class_year_2                                            0\n",
       "class_year_3                                            0\n",
       "class_year_NA                                           0\n",
       "class_Semester_2                                        0\n",
       "class_Semester_3                                        0\n",
       "class_Semester_4                                        0\n",
       "class_Semester_5                                        0\n",
       "class_Semester_6                                        0\n",
       "class_Semester_NA                                       0\n",
       "Path_مسار العلوم  الطبيعية                              0\n",
       "Path_مسار العلوم الانسانية                              0\n",
       "P_F_Result_Grad                                         0\n",
       "P_F_Result_Not_Complete                                 0\n",
       "P_F_Result_Pass                                         0\n",
       "Tahseli_type_اختبار التحصيل الدراسي للتخصصات النظرية    0\n",
       "Tahseli_type_الاختبار التحصيلي للتخصصات العلمية         0\n",
       "Tahseli_type_الاختبار التحصيلي للتخصصات النظرية         0\n",
       "Avg_Tahseli                                             0\n",
       "dtype: int64"
      ]
     },
     "execution_count": 37,
     "metadata": {},
     "output_type": "execute_result"
    }
   ],
   "source": [
    "Tahseli_Model_2.isnull().sum()"
   ]
  },
  {
   "cell_type": "code",
   "execution_count": 38,
   "metadata": {},
   "outputs": [],
   "source": [
    "group= Tahseli_Model_2.groupby('School_ID')"
   ]
  },
  {
   "cell_type": "code",
   "execution_count": 39,
   "metadata": {},
   "outputs": [],
   "source": [
    "Tahseli_Model_2.rename(columns={'Avg_Tahseli': 'School_Avg_Tahseli_score'}, inplace=True)"
   ]
  },
  {
   "cell_type": "code",
   "execution_count": 40,
   "metadata": {},
   "outputs": [
    {
     "data": {
      "text/plain": [
       "(872, 44)"
      ]
     },
     "execution_count": 40,
     "metadata": {},
     "output_type": "execute_result"
    }
   ],
   "source": [
    "Tahseli_Model_2.shape"
   ]
  },
  {
   "cell_type": "code",
   "execution_count": 41,
   "metadata": {},
   "outputs": [],
   "source": [
    "Tahseli_Model_2.drop(['Unnamed: 0', 'student_ID','start_year','end_year','class_year_2','Path_مسار العلوم  الطبيعية',\n",
    "'class_Semester_2','class_Semester_NA','P_F_Result_Not_Complete','Track_المسار الأدبي',\n",
    "'Track_قسم ثانوي','P_F_Result_Grad','class_year_3'], axis=1, inplace=True)"
   ]
  },
  {
   "cell_type": "code",
   "execution_count": 42,
   "metadata": {},
   "outputs": [],
   "source": [
    "Tahseli_Model_2.drop(['School_type_night','School_type_day'],axis=1, inplace=True)"
   ]
  },
  {
   "cell_type": "code",
   "execution_count": 43,
   "metadata": {},
   "outputs": [],
   "source": [
    "corr1 =  Tahseli_Model_2.corr()"
   ]
  },
  {
   "cell_type": "code",
   "execution_count": 44,
   "metadata": {},
   "outputs": [
    {
     "data": {
      "text/plain": [
       "sex_Male                                               -0.228321\n",
       "Track_المسار العلمي                                    -0.064616\n",
       "School_ID                                              -0.056482\n",
       "School_ID_2                                            -0.055135\n",
       "Age                                                    -0.054899\n",
       "class_Semester_6                                       -0.046569\n",
       "Tahseli_type_الاختبار التحصيلي للتخصصات النظرية        -0.036821\n",
       "Track_ادبي بنات                                        -0.004242\n",
       "Track_المسار الإداري                                    0.013319\n",
       "class_year_NA                                           0.015303\n",
       "Tahseli_type_الاختبار التحصيلي للتخصصات العلمية         0.015571\n",
       "class_Semester_3                                        0.017649\n",
       "class_Semester_4                                        0.040068\n",
       "P_F_Result_Pass                                         0.041099\n",
       "Absence_days                                            0.041663\n",
       "Path_مسار العلوم الانسانية                              0.049282\n",
       "Track_علمي بنات                                         0.050498\n",
       "class_Semester_5                                        0.059584\n",
       "Track_قسم تحفيظ القراّن الكريم بنات                     0.060457\n",
       "School_type_eldery                                      0.068475\n",
       "School_classification_public                            0.095370\n",
       "Tahseli_type_اختبار التحصيل الدراسي للتخصصات النظرية    0.134365\n",
       "School_Avg_Tahseli_score                                0.329803\n",
       "Final_results_grade                                     0.408758\n",
       "T_Total_grade                                           0.642052\n",
       "Total_grade_2                                           1.000000\n",
       "Track_قسم علوم طبيعية بنين                                   NaN\n",
       "Name: Total_grade_2, dtype: float64"
      ]
     },
     "execution_count": 44,
     "metadata": {},
     "output_type": "execute_result"
    }
   ],
   "source": [
    "corr1['Total_grade_2'].sort_values()"
   ]
  },
  {
   "cell_type": "markdown",
   "metadata": {},
   "source": [
    "# Startup with several modelings ##"
   ]
  },
  {
   "cell_type": "markdown",
   "metadata": {},
   "source": [
    "# Linear Regression:"
   ]
  },
  {
   "cell_type": "code",
   "execution_count": 45,
   "metadata": {},
   "outputs": [],
   "source": [
    "from sklearn.linear_model import LinearRegression, Lasso\n",
    "from sklearn.model_selection import train_test_split"
   ]
  },
  {
   "cell_type": "code",
   "execution_count": 46,
   "metadata": {},
   "outputs": [
    {
     "data": {
      "text/html": [
       "<div>\n",
       "<style scoped>\n",
       "    .dataframe tbody tr th:only-of-type {\n",
       "        vertical-align: middle;\n",
       "    }\n",
       "\n",
       "    .dataframe tbody tr th {\n",
       "        vertical-align: top;\n",
       "    }\n",
       "\n",
       "    .dataframe thead th {\n",
       "        text-align: right;\n",
       "    }\n",
       "</style>\n",
       "<table border=\"1\" class=\"dataframe\">\n",
       "  <thead>\n",
       "    <tr style=\"text-align: right;\">\n",
       "      <th></th>\n",
       "      <th>Unnamed: 0</th>\n",
       "      <th>Age</th>\n",
       "      <th>Absence_days</th>\n",
       "      <th>Final_results_grade</th>\n",
       "      <th>School_ID_1</th>\n",
       "      <th>T_Total_grade</th>\n",
       "      <th>School_ID_2</th>\n",
       "      <th>sex_Male</th>\n",
       "      <th>School_type_Quran</th>\n",
       "      <th>School_type_day</th>\n",
       "      <th>...</th>\n",
       "      <th>P_F_Result_Fail</th>\n",
       "      <th>P_F_Result_Grad</th>\n",
       "      <th>P_F_Result_Not_Complete</th>\n",
       "      <th>P_F_Result_Pass</th>\n",
       "      <th>Tahseli_type_اختبار التحصيل الدراسي للتخصصات النظرية</th>\n",
       "      <th>Tahseli_type_الاختبار التحصيلي باللغة الإنجليزية</th>\n",
       "      <th>Tahseli_type_الاختبار التحصيلي للتخصصات العلمية</th>\n",
       "      <th>Tahseli_type_الاختبار التحصيلي للتخصصات النظرية</th>\n",
       "      <th>T_Exam_month</th>\n",
       "      <th>School_Avg_Tahseli_score</th>\n",
       "    </tr>\n",
       "  </thead>\n",
       "  <tbody>\n",
       "    <tr>\n",
       "      <th>0</th>\n",
       "      <td>20</td>\n",
       "      <td>18.0</td>\n",
       "      <td>7.0</td>\n",
       "      <td>75.09</td>\n",
       "      <td>38778.0</td>\n",
       "      <td>55</td>\n",
       "      <td>38778.0</td>\n",
       "      <td>1</td>\n",
       "      <td>0</td>\n",
       "      <td>1</td>\n",
       "      <td>...</td>\n",
       "      <td>0</td>\n",
       "      <td>0</td>\n",
       "      <td>0</td>\n",
       "      <td>1</td>\n",
       "      <td>0</td>\n",
       "      <td>0</td>\n",
       "      <td>0</td>\n",
       "      <td>0</td>\n",
       "      <td>5</td>\n",
       "      <td>57.97</td>\n",
       "    </tr>\n",
       "    <tr>\n",
       "      <th>1</th>\n",
       "      <td>21</td>\n",
       "      <td>19.0</td>\n",
       "      <td>2.0</td>\n",
       "      <td>82.02</td>\n",
       "      <td>38778.0</td>\n",
       "      <td>55</td>\n",
       "      <td>38778.0</td>\n",
       "      <td>1</td>\n",
       "      <td>0</td>\n",
       "      <td>1</td>\n",
       "      <td>...</td>\n",
       "      <td>0</td>\n",
       "      <td>1</td>\n",
       "      <td>0</td>\n",
       "      <td>0</td>\n",
       "      <td>0</td>\n",
       "      <td>0</td>\n",
       "      <td>0</td>\n",
       "      <td>0</td>\n",
       "      <td>5</td>\n",
       "      <td>57.97</td>\n",
       "    </tr>\n",
       "    <tr>\n",
       "      <th>2</th>\n",
       "      <td>22</td>\n",
       "      <td>19.0</td>\n",
       "      <td>0.0</td>\n",
       "      <td>100.00</td>\n",
       "      <td>42183.0</td>\n",
       "      <td>80</td>\n",
       "      <td>42183.0</td>\n",
       "      <td>1</td>\n",
       "      <td>0</td>\n",
       "      <td>1</td>\n",
       "      <td>...</td>\n",
       "      <td>0</td>\n",
       "      <td>0</td>\n",
       "      <td>0</td>\n",
       "      <td>1</td>\n",
       "      <td>0</td>\n",
       "      <td>0</td>\n",
       "      <td>0</td>\n",
       "      <td>0</td>\n",
       "      <td>5</td>\n",
       "      <td>57.77</td>\n",
       "    </tr>\n",
       "    <tr>\n",
       "      <th>3</th>\n",
       "      <td>25</td>\n",
       "      <td>29.0</td>\n",
       "      <td>30.0</td>\n",
       "      <td>99.80</td>\n",
       "      <td>32380.0</td>\n",
       "      <td>68</td>\n",
       "      <td>32380.0</td>\n",
       "      <td>0</td>\n",
       "      <td>0</td>\n",
       "      <td>0</td>\n",
       "      <td>...</td>\n",
       "      <td>0</td>\n",
       "      <td>1</td>\n",
       "      <td>0</td>\n",
       "      <td>0</td>\n",
       "      <td>1</td>\n",
       "      <td>0</td>\n",
       "      <td>0</td>\n",
       "      <td>0</td>\n",
       "      <td>6</td>\n",
       "      <td>66.24</td>\n",
       "    </tr>\n",
       "    <tr>\n",
       "      <th>4</th>\n",
       "      <td>26</td>\n",
       "      <td>21.0</td>\n",
       "      <td>8.0</td>\n",
       "      <td>71.10</td>\n",
       "      <td>36330.0</td>\n",
       "      <td>51</td>\n",
       "      <td>36330.0</td>\n",
       "      <td>1</td>\n",
       "      <td>0</td>\n",
       "      <td>1</td>\n",
       "      <td>...</td>\n",
       "      <td>0</td>\n",
       "      <td>0</td>\n",
       "      <td>0</td>\n",
       "      <td>1</td>\n",
       "      <td>0</td>\n",
       "      <td>0</td>\n",
       "      <td>0</td>\n",
       "      <td>0</td>\n",
       "      <td>4</td>\n",
       "      <td>59.89</td>\n",
       "    </tr>\n",
       "  </tbody>\n",
       "</table>\n",
       "<p>5 rows × 44 columns</p>\n",
       "</div>"
      ],
      "text/plain": [
       "   Unnamed: 0   Age  Absence_days  Final_results_grade  School_ID_1  \\\n",
       "0          20  18.0           7.0                75.09      38778.0   \n",
       "1          21  19.0           2.0                82.02      38778.0   \n",
       "2          22  19.0           0.0               100.00      42183.0   \n",
       "3          25  29.0          30.0                99.80      32380.0   \n",
       "4          26  21.0           8.0                71.10      36330.0   \n",
       "\n",
       "   T_Total_grade  School_ID_2  sex_Male  School_type_Quran  School_type_day  \\\n",
       "0             55      38778.0         1                  0                1   \n",
       "1             55      38778.0         1                  0                1   \n",
       "2             80      42183.0         1                  0                1   \n",
       "3             68      32380.0         0                  0                0   \n",
       "4             51      36330.0         1                  0                1   \n",
       "\n",
       "             ...             P_F_Result_Fail  P_F_Result_Grad  \\\n",
       "0            ...                           0                0   \n",
       "1            ...                           0                1   \n",
       "2            ...                           0                0   \n",
       "3            ...                           0                1   \n",
       "4            ...                           0                0   \n",
       "\n",
       "   P_F_Result_Not_Complete  P_F_Result_Pass  \\\n",
       "0                        0                1   \n",
       "1                        0                0   \n",
       "2                        0                1   \n",
       "3                        0                0   \n",
       "4                        0                1   \n",
       "\n",
       "   Tahseli_type_اختبار التحصيل الدراسي للتخصصات النظرية  \\\n",
       "0                                                  0      \n",
       "1                                                  0      \n",
       "2                                                  0      \n",
       "3                                                  1      \n",
       "4                                                  0      \n",
       "\n",
       "   Tahseli_type_الاختبار التحصيلي باللغة الإنجليزية  \\\n",
       "0                                                 0   \n",
       "1                                                 0   \n",
       "2                                                 0   \n",
       "3                                                 0   \n",
       "4                                                 0   \n",
       "\n",
       "   Tahseli_type_الاختبار التحصيلي للتخصصات العلمية  \\\n",
       "0                                                0   \n",
       "1                                                0   \n",
       "2                                                0   \n",
       "3                                                0   \n",
       "4                                                0   \n",
       "\n",
       "   Tahseli_type_الاختبار التحصيلي للتخصصات النظرية  T_Exam_month  \\\n",
       "0                                                0             5   \n",
       "1                                                0             5   \n",
       "2                                                0             5   \n",
       "3                                                0             6   \n",
       "4                                                0             4   \n",
       "\n",
       "   School_Avg_Tahseli_score  \n",
       "0                     57.97  \n",
       "1                     57.97  \n",
       "2                     57.77  \n",
       "3                     66.24  \n",
       "4                     59.89  \n",
       "\n",
       "[5 rows x 44 columns]"
      ]
     },
     "execution_count": 46,
     "metadata": {},
     "output_type": "execute_result"
    }
   ],
   "source": [
    "Tahseli_Model_1.head()"
   ]
  },
  {
   "cell_type": "code",
   "execution_count": null,
   "metadata": {},
   "outputs": [],
   "source": [
    "#d_t= pd.get_dummies(data_d, drop_first=True)"
   ]
  },
  {
   "cell_type": "code",
   "execution_count": null,
   "metadata": {},
   "outputs": [
    {
     "data": {
      "text/html": [
       "<div>\n",
       "<style scoped>\n",
       "    .dataframe tbody tr th:only-of-type {\n",
       "        vertical-align: middle;\n",
       "    }\n",
       "\n",
       "    .dataframe tbody tr th {\n",
       "        vertical-align: top;\n",
       "    }\n",
       "\n",
       "    .dataframe thead th {\n",
       "        text-align: right;\n",
       "    }\n",
       "</style>\n",
       "<table border=\"1\" class=\"dataframe\">\n",
       "  <thead>\n",
       "    <tr style=\"text-align: right;\">\n",
       "      <th></th>\n",
       "      <th>0</th>\n",
       "    </tr>\n",
       "  </thead>\n",
       "  <tbody>\n",
       "    <tr>\n",
       "      <th>Unnamed: 0</th>\n",
       "      <td>20.00</td>\n",
       "    </tr>\n",
       "    <tr>\n",
       "      <th>Age</th>\n",
       "      <td>18.00</td>\n",
       "    </tr>\n",
       "    <tr>\n",
       "      <th>Absence_days</th>\n",
       "      <td>7.00</td>\n",
       "    </tr>\n",
       "    <tr>\n",
       "      <th>Final_results_grade</th>\n",
       "      <td>75.09</td>\n",
       "    </tr>\n",
       "    <tr>\n",
       "      <th>School_ID_1</th>\n",
       "      <td>38778.00</td>\n",
       "    </tr>\n",
       "    <tr>\n",
       "      <th>T_Total_grade</th>\n",
       "      <td>55.00</td>\n",
       "    </tr>\n",
       "    <tr>\n",
       "      <th>School_ID_2</th>\n",
       "      <td>38778.00</td>\n",
       "    </tr>\n",
       "    <tr>\n",
       "      <th>sex_Male</th>\n",
       "      <td>1.00</td>\n",
       "    </tr>\n",
       "    <tr>\n",
       "      <th>School_type_Quran</th>\n",
       "      <td>0.00</td>\n",
       "    </tr>\n",
       "    <tr>\n",
       "      <th>School_type_day</th>\n",
       "      <td>1.00</td>\n",
       "    </tr>\n",
       "    <tr>\n",
       "      <th>School_type_eldery</th>\n",
       "      <td>0.00</td>\n",
       "    </tr>\n",
       "    <tr>\n",
       "      <th>School_type_night</th>\n",
       "      <td>0.00</td>\n",
       "    </tr>\n",
       "    <tr>\n",
       "      <th>School_classification_public</th>\n",
       "      <td>1.00</td>\n",
       "    </tr>\n",
       "    <tr>\n",
       "      <th>Track_ادبي بنات</th>\n",
       "      <td>0.00</td>\n",
       "    </tr>\n",
       "    <tr>\n",
       "      <th>Track_المسار الأدبي</th>\n",
       "      <td>0.00</td>\n",
       "    </tr>\n",
       "    <tr>\n",
       "      <th>Track_المسار الإداري</th>\n",
       "      <td>0.00</td>\n",
       "    </tr>\n",
       "    <tr>\n",
       "      <th>Track_المسار العلمي</th>\n",
       "      <td>1.00</td>\n",
       "    </tr>\n",
       "    <tr>\n",
       "      <th>Track_المسار العلمي خارج بنين</th>\n",
       "      <td>0.00</td>\n",
       "    </tr>\n",
       "    <tr>\n",
       "      <th>Track_علمي بنات</th>\n",
       "      <td>0.00</td>\n",
       "    </tr>\n",
       "    <tr>\n",
       "      <th>Track_قسم تحفيظ القراّن الكريم بنات</th>\n",
       "      <td>0.00</td>\n",
       "    </tr>\n",
       "    <tr>\n",
       "      <th>Track_قسم ثانوي</th>\n",
       "      <td>0.00</td>\n",
       "    </tr>\n",
       "    <tr>\n",
       "      <th>Track_قسم ثانوي خارج بنات</th>\n",
       "      <td>0.00</td>\n",
       "    </tr>\n",
       "    <tr>\n",
       "      <th>Track_قسم علوم طبيعية بنين</th>\n",
       "      <td>0.00</td>\n",
       "    </tr>\n",
       "    <tr>\n",
       "      <th>Track_قسم علوم طبيعية-خارج بنين</th>\n",
       "      <td>0.00</td>\n",
       "    </tr>\n",
       "    <tr>\n",
       "      <th>class_year_2</th>\n",
       "      <td>1.00</td>\n",
       "    </tr>\n",
       "    <tr>\n",
       "      <th>class_year_3</th>\n",
       "      <td>0.00</td>\n",
       "    </tr>\n",
       "    <tr>\n",
       "      <th>class_year_NA</th>\n",
       "      <td>0.00</td>\n",
       "    </tr>\n",
       "    <tr>\n",
       "      <th>class_Semester_2</th>\n",
       "      <td>0.00</td>\n",
       "    </tr>\n",
       "    <tr>\n",
       "      <th>class_Semester_4</th>\n",
       "      <td>0.00</td>\n",
       "    </tr>\n",
       "    <tr>\n",
       "      <th>class_Semester_5</th>\n",
       "      <td>0.00</td>\n",
       "    </tr>\n",
       "    <tr>\n",
       "      <th>class_Semester_6</th>\n",
       "      <td>0.00</td>\n",
       "    </tr>\n",
       "    <tr>\n",
       "      <th>class_Semester_NA</th>\n",
       "      <td>0.00</td>\n",
       "    </tr>\n",
       "    <tr>\n",
       "      <th>Path_مسار العلوم  الطبيعية</th>\n",
       "      <td>0.00</td>\n",
       "    </tr>\n",
       "    <tr>\n",
       "      <th>Path_مسار العلوم الانسانية</th>\n",
       "      <td>0.00</td>\n",
       "    </tr>\n",
       "    <tr>\n",
       "      <th>P_F_Result_Fail</th>\n",
       "      <td>0.00</td>\n",
       "    </tr>\n",
       "    <tr>\n",
       "      <th>P_F_Result_Grad</th>\n",
       "      <td>0.00</td>\n",
       "    </tr>\n",
       "    <tr>\n",
       "      <th>P_F_Result_Not_Complete</th>\n",
       "      <td>0.00</td>\n",
       "    </tr>\n",
       "    <tr>\n",
       "      <th>P_F_Result_Pass</th>\n",
       "      <td>1.00</td>\n",
       "    </tr>\n",
       "    <tr>\n",
       "      <th>Tahseli_type_اختبار التحصيل الدراسي للتخصصات النظرية</th>\n",
       "      <td>0.00</td>\n",
       "    </tr>\n",
       "    <tr>\n",
       "      <th>Tahseli_type_الاختبار التحصيلي باللغة الإنجليزية</th>\n",
       "      <td>0.00</td>\n",
       "    </tr>\n",
       "    <tr>\n",
       "      <th>Tahseli_type_الاختبار التحصيلي للتخصصات العلمية</th>\n",
       "      <td>0.00</td>\n",
       "    </tr>\n",
       "    <tr>\n",
       "      <th>Tahseli_type_الاختبار التحصيلي للتخصصات النظرية</th>\n",
       "      <td>0.00</td>\n",
       "    </tr>\n",
       "    <tr>\n",
       "      <th>T_Exam_month</th>\n",
       "      <td>5.00</td>\n",
       "    </tr>\n",
       "    <tr>\n",
       "      <th>School_Avg_Tahseli_score</th>\n",
       "      <td>57.97</td>\n",
       "    </tr>\n",
       "  </tbody>\n",
       "</table>\n",
       "</div>"
      ],
      "text/plain": [
       "                                                           0\n",
       "Unnamed: 0                                             20.00\n",
       "Age                                                    18.00\n",
       "Absence_days                                            7.00\n",
       "Final_results_grade                                    75.09\n",
       "School_ID_1                                         38778.00\n",
       "T_Total_grade                                          55.00\n",
       "School_ID_2                                         38778.00\n",
       "sex_Male                                                1.00\n",
       "School_type_Quran                                       0.00\n",
       "School_type_day                                         1.00\n",
       "School_type_eldery                                      0.00\n",
       "School_type_night                                       0.00\n",
       "School_classification_public                            1.00\n",
       "Track_ادبي بنات                                         0.00\n",
       "Track_المسار الأدبي                                     0.00\n",
       "Track_المسار الإداري                                    0.00\n",
       "Track_المسار العلمي                                     1.00\n",
       "Track_المسار العلمي خارج بنين                           0.00\n",
       "Track_علمي بنات                                         0.00\n",
       "Track_قسم تحفيظ القراّن الكريم بنات                     0.00\n",
       "Track_قسم ثانوي                                         0.00\n",
       "Track_قسم ثانوي خارج بنات                               0.00\n",
       "Track_قسم علوم طبيعية بنين                              0.00\n",
       "Track_قسم علوم طبيعية-خارج بنين                         0.00\n",
       "class_year_2                                            1.00\n",
       "class_year_3                                            0.00\n",
       "class_year_NA                                           0.00\n",
       "class_Semester_2                                        0.00\n",
       "class_Semester_4                                        0.00\n",
       "class_Semester_5                                        0.00\n",
       "class_Semester_6                                        0.00\n",
       "class_Semester_NA                                       0.00\n",
       "Path_مسار العلوم  الطبيعية                              0.00\n",
       "Path_مسار العلوم الانسانية                              0.00\n",
       "P_F_Result_Fail                                         0.00\n",
       "P_F_Result_Grad                                         0.00\n",
       "P_F_Result_Not_Complete                                 0.00\n",
       "P_F_Result_Pass                                         1.00\n",
       "Tahseli_type_اختبار التحصيل الدراسي للتخصصات ال...      0.00\n",
       "Tahseli_type_الاختبار التحصيلي باللغة الإنجليزية        0.00\n",
       "Tahseli_type_الاختبار التحصيلي للتخصصات العلمية         0.00\n",
       "Tahseli_type_الاختبار التحصيلي للتخصصات النظرية         0.00\n",
       "T_Exam_month                                            5.00\n",
       "School_Avg_Tahseli_score                               57.97"
      ]
     },
     "execution_count": 49,
     "metadata": {},
     "output_type": "execute_result"
    }
   ],
   "source": [
    "Tahseli_Model_1.head(1).T"
   ]
  },
  {
   "cell_type": "code",
   "execution_count": null,
   "metadata": {},
   "outputs": [],
   "source": [
    "#d_Tahseli_Model1 = pd.concat([Tahseli_Model_1, d_t], axis=1)\n",
    "#d_Tahseli_Model1.columns"
   ]
  },
  {
   "cell_type": "code",
   "execution_count": null,
   "metadata": {},
   "outputs": [
    {
     "data": {
      "text/plain": [
       "Index(['Unnamed: 0', 'Age', 'Absence_days', 'Final_results_grade',\n",
       "       'School_ID_1', 'T_Total_grade', 'School_ID_2', 'sex_Male',\n",
       "       'School_type_Quran', 'School_type_day', 'School_type_eldery',\n",
       "       'School_type_night', 'School_classification_public', 'Track_ادبي بنات',\n",
       "       'Track_المسار الأدبي', 'Track_المسار الإداري', 'Track_المسار العلمي',\n",
       "       'Track_المسار العلمي خارج بنين', 'Track_علمي بنات',\n",
       "       'Track_قسم تحفيظ القراّن الكريم بنات', 'Track_قسم ثانوي',\n",
       "       'Track_قسم ثانوي خارج بنات', 'Track_قسم علوم طبيعية بنين',\n",
       "       'Track_قسم علوم طبيعية-خارج بنين', 'class_year_2', 'class_year_3',\n",
       "       'class_year_NA', 'class_Semester_2', 'class_Semester_4',\n",
       "       'class_Semester_5', 'class_Semester_6', 'class_Semester_NA',\n",
       "       'Path_مسار العلوم  الطبيعية', 'Path_مسار العلوم الانسانية',\n",
       "       'P_F_Result_Fail', 'P_F_Result_Grad', 'P_F_Result_Not_Complete',\n",
       "       'P_F_Result_Pass',\n",
       "       'Tahseli_type_اختبار التحصيل الدراسي للتخصصات النظرية',\n",
       "       'Tahseli_type_الاختبار التحصيلي باللغة الإنجليزية',\n",
       "       'Tahseli_type_الاختبار التحصيلي للتخصصات العلمية',\n",
       "       'Tahseli_type_الاختبار التحصيلي للتخصصات النظرية', 'T_Exam_month',\n",
       "       'School_Avg_Tahseli_score'],\n",
       "      dtype='object')"
      ]
     },
     "execution_count": 51,
     "metadata": {},
     "output_type": "execute_result"
    }
   ],
   "source": [
    "Tahseli_Model_1.columns"
   ]
  },
  {
   "cell_type": "code",
   "execution_count": 47,
   "metadata": {},
   "outputs": [],
   "source": [
    "Tahseli_Model_1=Tahseli_Model_1.drop(['Unnamed: 0'], axis=1)"
   ]
  },
  {
   "cell_type": "code",
   "execution_count": 48,
   "metadata": {},
   "outputs": [],
   "source": [
    "y=Tahseli_Model_1.T_Total_grade"
   ]
  },
  {
   "cell_type": "code",
   "execution_count": 49,
   "metadata": {},
   "outputs": [],
   "source": [
    "X_=Tahseli_Model_1.drop(['T_Total_grade'], axis=1)"
   ]
  },
  {
   "cell_type": "code",
   "execution_count": 50,
   "metadata": {},
   "outputs": [
    {
     "name": "stderr",
     "output_type": "stream",
     "text": [
      "/Users/hebahmirza/anaconda3/lib/python3.7/site-packages/sklearn/preprocessing/data.py:625: DataConversionWarning: Data with input dtype int64, float64 were all converted to float64 by StandardScaler.\n",
      "  return self.partial_fit(X, y)\n",
      "/Users/hebahmirza/anaconda3/lib/python3.7/site-packages/sklearn/base.py:462: DataConversionWarning: Data with input dtype int64, float64 were all converted to float64 by StandardScaler.\n",
      "  return self.fit(X, **fit_params).transform(X)\n",
      "/Users/hebahmirza/anaconda3/lib/python3.7/site-packages/ipykernel_launcher.py:12: DataConversionWarning: Data with input dtype int64, float64 were all converted to float64 by StandardScaler.\n",
      "  if sys.path[0] == '':\n"
     ]
    }
   ],
   "source": [
    "# prepare data\n",
    "from sklearn.preprocessing import StandardScaler\n",
    "from sklearn.model_selection import train_test_split\n",
    "\n",
    "# in train_test_split, maintain proportion of labels by stratified\n",
    "X_train, X_test, y_train, y_test = train_test_split(X_, y, random_state=42)\n",
    "#X_train, X_test, y_train, y_test = train_test_split(X, y, random_state=42,  stratify=y)\n",
    "\n",
    "# scaling\n",
    "ss = StandardScaler()\n",
    "sX_train = ss.fit_transform(X_train)\n",
    "sX_test = ss.transform(X_test)"
   ]
  },
  {
   "cell_type": "code",
   "execution_count": 51,
   "metadata": {},
   "outputs": [
    {
     "data": {
      "text/plain": [
       "((931249, 42), (310417, 42))"
      ]
     },
     "execution_count": 51,
     "metadata": {},
     "output_type": "execute_result"
    }
   ],
   "source": [
    "X_train.shape, X_test.shape\n"
   ]
  },
  {
   "cell_type": "code",
   "execution_count": 52,
   "metadata": {},
   "outputs": [
    {
     "data": {
      "text/plain": [
       "(67.19442909768006, 67.1900254389535, 67.2076400454872)"
      ]
     },
     "execution_count": 52,
     "metadata": {},
     "output_type": "execute_result"
    }
   ],
   "source": [
    "y.mean(), y_train.mean(), y_test.mean()\n"
   ]
  },
  {
   "cell_type": "code",
   "execution_count": 53,
   "metadata": {},
   "outputs": [
    {
     "data": {
      "text/plain": [
       "-3.0760790176082727e+19"
      ]
     },
     "execution_count": 53,
     "metadata": {},
     "output_type": "execute_result"
    }
   ],
   "source": [
    "#try to fit the model after standardization, takes too long\n",
    "from sklearn.linear_model import LogisticRegression\n",
    "\n",
    "model = LinearRegression()\n",
    "model.fit(sX_train, y_train)\n",
    "model.score(sX_test, y_test)"
   ]
  },
  {
   "cell_type": "code",
   "execution_count": 56,
   "metadata": {},
   "outputs": [
    {
     "data": {
      "text/plain": [
       "array([3.74559427e+12, 3.79419618e+12, 3.79419617e+12, ...,\n",
       "       3.79419617e+12, 3.79419616e+12, 3.74559427e+12])"
      ]
     },
     "execution_count": 56,
     "metadata": {},
     "output_type": "execute_result"
    }
   ],
   "source": [
    "model.predict(X_test) \n",
    "#model.predict_proba(X_test)"
   ]
  },
  {
   "cell_type": "code",
   "execution_count": 57,
   "metadata": {},
   "outputs": [],
   "source": [
    "predictions=model.predict(X_test)"
   ]
  },
  {
   "cell_type": "markdown",
   "metadata": {},
   "source": [
    "# Ridge :"
   ]
  },
  {
   "cell_type": "code",
   "execution_count": 59,
   "metadata": {},
   "outputs": [
    {
     "name": "stderr",
     "output_type": "stream",
     "text": [
      "/Users/hebahmirza/anaconda3/lib/python3.7/site-packages/sklearn/linear_model/ridge.py:125: LinAlgWarning: scipy.linalg.solve\n",
      "Ill-conditioned matrix detected. Result is not guaranteed to be accurate.\n",
      "Reciprocal condition number3.216662e-18\n",
      "  overwrite_a=True).T\n"
     ]
    },
    {
     "name": "stdout",
     "output_type": "stream",
     "text": [
      "ridge regression train score low alpha: 0.5144424718262728\n",
      "ridge regression test score low alpha: 0.5138925631167366\n",
      "ridge regression train score high alpha: 0.5143292788559388\n",
      "ridge regression test score high alpha: 0.5137881067758869\n"
     ]
    }
   ],
   "source": [
    "import matplotlib.pyplot as plt\n",
    "import numpy as np \n",
    "import pandas as pd\n",
    "import matplotlib\n",
    "from sklearn.linear_model import Ridge\n",
    "\n",
    "rr = Ridge(alpha=0.001, max_iter= 10000) # higher the alpha value, more restriction on the coefficients; low alpha > more generalization, coefficients are barely\n",
    "# restricted and in this case linear and ridge regression resembles\n",
    "rr.fit(X_train, y_train)\n",
    "\n",
    "rr100 = Ridge(alpha=1000) #  comparison with alpha value\n",
    "rr100.fit(X_train, y_train)\n",
    "\n",
    "Ridge_train_score = rr.score(X_train,y_train)\n",
    "Ridge_test_score = rr.score(X_test, y_test)\n",
    "\n",
    "Ridge_train_score100 = rr100.score(X_train,y_train)\n",
    "Ridge_test_score100 = rr100.score(X_test, y_test)\n",
    "\n",
    "print (\"ridge regression train score low alpha:\", Ridge_train_score)\n",
    "print (\"ridge regression test score low alpha:\", Ridge_test_score)\n",
    "print (\"ridge regression train score high alpha:\", Ridge_train_score100)\n",
    "print (\"ridge regression test score high alpha:\", Ridge_test_score100)"
   ]
  },
  {
   "cell_type": "markdown",
   "metadata": {},
   "source": [
    "# Lasso :"
   ]
  },
  {
   "cell_type": "code",
   "execution_count": 60,
   "metadata": {},
   "outputs": [
    {
     "name": "stdout",
     "output_type": "stream",
     "text": [
      "ridge regression train score low alpha: 0.5144008278564198\n",
      "ridge regression test score low alpha: 0.5138516803872715\n",
      "ridge regression train score high alpha: 0.0038794079591096815\n",
      "ridge regression test score high alpha: 0.003665334730653447\n"
     ]
    }
   ],
   "source": [
    "from sklearn.linear_model import Lasso\n",
    "\n",
    "Las = Lasso(alpha=0.001, max_iter= 10000) # higher the alpha value, more restriction on the coefficients; low alpha > more generalization, coefficients are barely\n",
    "# restricted and in this case linear and ridge regression resembles\n",
    "Las.fit(X_train, y_train)\n",
    "\n",
    "l100 = Lasso(alpha=100) #  comparison with alpha value\n",
    "l100.fit(X_train, y_train)\n",
    "\n",
    "Lass_train_score = Las.score(X_train,y_train)\n",
    "Lass_test_score = Las.score(X_test, y_test)\n",
    "\n",
    "L_train_score100 = l100.score(X_train,y_train)\n",
    "L_test_score100 = l100.score(X_test, y_test)\n",
    "\n",
    "print (\"ridge regression train score low alpha:\", Lass_train_score)\n",
    "print (\"ridge regression test score low alpha:\", Lass_test_score)\n",
    "print (\"ridge regression train score high alpha:\", L_train_score100)\n",
    "print (\"ridge regression test score high alpha:\", L_test_score100)\n",
    "\n"
   ]
  },
  {
   "cell_type": "markdown",
   "metadata": {},
   "source": [
    "# Decession Tree (for regression)"
   ]
  },
  {
   "cell_type": "code",
   "execution_count": 61,
   "metadata": {},
   "outputs": [
    {
     "data": {
      "text/plain": [
       "DecisionTreeRegressor(criterion='mse', max_depth=12, max_features=None,\n",
       "           max_leaf_nodes=None, min_impurity_decrease=0.0,\n",
       "           min_impurity_split=None, min_samples_leaf=1,\n",
       "           min_samples_split=2, min_weight_fraction_leaf=0.0,\n",
       "           presort=False, random_state=42, splitter='best')"
      ]
     },
     "execution_count": 61,
     "metadata": {},
     "output_type": "execute_result"
    }
   ],
   "source": [
    "from sklearn.tree import DecisionTreeRegressor\n",
    "tree = DecisionTreeRegressor(max_depth=12, random_state=42)\n",
    "tree.fit(X_train, y_train)"
   ]
  },
  {
   "cell_type": "code",
   "execution_count": 62,
   "metadata": {},
   "outputs": [
    {
     "data": {
      "text/plain": [
       "(12.170024505083958, 7.46232217092177, 7.6060883315269985)"
      ]
     },
     "execution_count": 62,
     "metadata": {},
     "output_type": "execute_result"
    }
   ],
   "source": [
    "# score it by RMSE\n",
    "from sklearn.metrics import mean_squared_error\n",
    "import numpy as np\n",
    "y_pred = tree.predict(X_test)\n",
    "# baseline, train score, test score\n",
    "mean_squared_error(y_test, np.repeat(np.mean(y_test), len(y_test)))**.5,mean_squared_error(y_train, tree.predict(X_train))**.5,mean_squared_error(y_test, y_pred)**.5"
   ]
  },
  {
   "cell_type": "markdown",
   "metadata": {},
   "source": [
    "# RandomForest (for regression) regressor"
   ]
  },
  {
   "cell_type": "code",
   "execution_count": 63,
   "metadata": {},
   "outputs": [
    {
     "data": {
      "text/plain": [
       "7.950118048433662"
      ]
     },
     "execution_count": 63,
     "metadata": {},
     "output_type": "execute_result"
    }
   ],
   "source": [
    "# try Random Forest\n",
    "from sklearn.ensemble import RandomForestRegressor\n",
    "\n",
    "forest = RandomForestRegressor(n_estimators=50, \n",
    "                            max_depth=12,max_features='sqrt', random_state=42)\n",
    "forest.fit(X_train, y_train)\n",
    "y_pred = forest.predict(X_test)\n",
    "mean_squared_error(y_test, y_pred)**.5"
   ]
  },
  {
   "cell_type": "markdown",
   "metadata": {},
   "source": [
    "# Grid search on several classifiers (one cell block for each one of the five models)"
   ]
  },
  {
   "cell_type": "code",
   "execution_count": 68,
   "metadata": {},
   "outputs": [],
   "source": [
    "#import required libraries:\n",
    "import matplotlib.pyplot as plt\n",
    "import numpy as np \n",
    "import pandas as pd\n",
    "import matplotlib\n",
    "import seaborn as sns\n",
    "\n",
    "plt.style.use('fivethirtyeight')\n",
    "\n",
    "%matplotlib inline\n",
    "%config InlineBackend.figure_format = 'retina'\n",
    "from sklearn.pipeline import Pipeline\n",
    "from sklearn.svm import SVR\n",
    "from sklearn.linear_model import LogisticRegression,Lasso, Ridge, LassoCV, RidgeCV\n",
    "from sklearn.model_selection import GridSearchCV\n",
    "from sklearn.ensemble import RandomForestRegressor\n",
    "from sklearn.tree import DecisionTreeRegressor\n",
    "\n",
    "from sklearn.model_selection import train_test_split\n",
    "\n",
    "\n",
    "from sklearn import svm, linear_model, datasets\n",
    "from sklearn.model_selection import cross_val_score, GridSearchCV, train_test_split\n",
    "from sklearn import linear_model, metrics\n",
    "from pathlib import Path\n",
    "\n",
    "\n",
    "from flask import Flask\n",
    "from sklearn.externals.joblib import load\n",
    "import pandas as pd\n",
    "from flask import jsonify\n",
    "from flask import request"
   ]
  },
  {
   "cell_type": "markdown",
   "metadata": {},
   "source": [
    "# Model 1  Tahseli Preparation:"
   ]
  },
  {
   "cell_type": "code",
   "execution_count": 69,
   "metadata": {},
   "outputs": [],
   "source": [
    "Tahseli_Model1['T_Exam_month']=pd.DatetimeIndex(Tahseli_Model1.T_Exam_Date).month\n",
    "#Tahseli_Model1['T_Exam_month'].head()"
   ]
  },
  {
   "cell_type": "code",
   "execution_count": 70,
   "metadata": {},
   "outputs": [],
   "source": [
    "Tahseli_Model1.drop(['T_Exam_Date'], axis=1, inplace=True)"
   ]
  },
  {
   "cell_type": "code",
   "execution_count": 76,
   "metadata": {},
   "outputs": [],
   "source": [
    "#Tahseli_Model_2.rename(columns={'Avg_Tahseli': 'School_Avg_Tahseli_score'}, inplace=True)\n",
    "Tahseli_Model1=Tahseli_Model1.rename(columns={'School_ID_1':'School_ID'})"
   ]
  },
  {
   "cell_type": "code",
   "execution_count": 77,
   "metadata": {},
   "outputs": [
    {
     "data": {
      "text/html": [
       "<div>\n",
       "<style scoped>\n",
       "    .dataframe tbody tr th:only-of-type {\n",
       "        vertical-align: middle;\n",
       "    }\n",
       "\n",
       "    .dataframe tbody tr th {\n",
       "        vertical-align: top;\n",
       "    }\n",
       "\n",
       "    .dataframe thead th {\n",
       "        text-align: right;\n",
       "    }\n",
       "</style>\n",
       "<table border=\"1\" class=\"dataframe\">\n",
       "  <thead>\n",
       "    <tr style=\"text-align: right;\">\n",
       "      <th></th>\n",
       "      <th>Unnamed: 0</th>\n",
       "      <th>student_ID</th>\n",
       "      <th>Age</th>\n",
       "      <th>Absence_days</th>\n",
       "      <th>Final_results_grade</th>\n",
       "      <th>School_ID</th>\n",
       "      <th>start_year</th>\n",
       "      <th>end_year</th>\n",
       "      <th>T_Total_grade</th>\n",
       "      <th>School_ID_2</th>\n",
       "      <th>...</th>\n",
       "      <th>Path_مسار العلوم الانسانية</th>\n",
       "      <th>P_F_Result_Fail</th>\n",
       "      <th>P_F_Result_Grad</th>\n",
       "      <th>P_F_Result_Not_Complete</th>\n",
       "      <th>P_F_Result_Pass</th>\n",
       "      <th>Tahseli_type_اختبار التحصيل الدراسي للتخصصات النظرية</th>\n",
       "      <th>Tahseli_type_الاختبار التحصيلي باللغة الإنجليزية</th>\n",
       "      <th>Tahseli_type_الاختبار التحصيلي للتخصصات العلمية</th>\n",
       "      <th>Tahseli_type_الاختبار التحصيلي للتخصصات النظرية</th>\n",
       "      <th>T_Exam_month</th>\n",
       "    </tr>\n",
       "  </thead>\n",
       "  <tbody>\n",
       "    <tr>\n",
       "      <th>0</th>\n",
       "      <td>0</td>\n",
       "      <td>529914</td>\n",
       "      <td>19.0</td>\n",
       "      <td>0.0</td>\n",
       "      <td>99.52</td>\n",
       "      <td>764.0</td>\n",
       "      <td>2015</td>\n",
       "      <td>2016</td>\n",
       "      <td>90</td>\n",
       "      <td>764.0</td>\n",
       "      <td>...</td>\n",
       "      <td>0</td>\n",
       "      <td>0</td>\n",
       "      <td>0</td>\n",
       "      <td>0</td>\n",
       "      <td>1</td>\n",
       "      <td>0</td>\n",
       "      <td>0</td>\n",
       "      <td>0</td>\n",
       "      <td>0</td>\n",
       "      <td>5</td>\n",
       "    </tr>\n",
       "    <tr>\n",
       "      <th>1</th>\n",
       "      <td>1</td>\n",
       "      <td>216644</td>\n",
       "      <td>20.0</td>\n",
       "      <td>31.0</td>\n",
       "      <td>76.17</td>\n",
       "      <td>24751.0</td>\n",
       "      <td>2015</td>\n",
       "      <td>2016</td>\n",
       "      <td>48</td>\n",
       "      <td>24751.0</td>\n",
       "      <td>...</td>\n",
       "      <td>0</td>\n",
       "      <td>0</td>\n",
       "      <td>0</td>\n",
       "      <td>0</td>\n",
       "      <td>1</td>\n",
       "      <td>0</td>\n",
       "      <td>0</td>\n",
       "      <td>0</td>\n",
       "      <td>0</td>\n",
       "      <td>4</td>\n",
       "    </tr>\n",
       "    <tr>\n",
       "      <th>2</th>\n",
       "      <td>2</td>\n",
       "      <td>498419</td>\n",
       "      <td>19.0</td>\n",
       "      <td>0.0</td>\n",
       "      <td>77.52</td>\n",
       "      <td>1927.0</td>\n",
       "      <td>2015</td>\n",
       "      <td>2016</td>\n",
       "      <td>58</td>\n",
       "      <td>1927.0</td>\n",
       "      <td>...</td>\n",
       "      <td>0</td>\n",
       "      <td>0</td>\n",
       "      <td>0</td>\n",
       "      <td>0</td>\n",
       "      <td>1</td>\n",
       "      <td>0</td>\n",
       "      <td>0</td>\n",
       "      <td>0</td>\n",
       "      <td>0</td>\n",
       "      <td>5</td>\n",
       "    </tr>\n",
       "    <tr>\n",
       "      <th>3</th>\n",
       "      <td>3</td>\n",
       "      <td>2074139</td>\n",
       "      <td>20.0</td>\n",
       "      <td>44.0</td>\n",
       "      <td>77.85</td>\n",
       "      <td>1877.0</td>\n",
       "      <td>2015</td>\n",
       "      <td>2016</td>\n",
       "      <td>54</td>\n",
       "      <td>1877.0</td>\n",
       "      <td>...</td>\n",
       "      <td>0</td>\n",
       "      <td>0</td>\n",
       "      <td>0</td>\n",
       "      <td>0</td>\n",
       "      <td>1</td>\n",
       "      <td>0</td>\n",
       "      <td>0</td>\n",
       "      <td>0</td>\n",
       "      <td>0</td>\n",
       "      <td>5</td>\n",
       "    </tr>\n",
       "    <tr>\n",
       "      <th>4</th>\n",
       "      <td>4</td>\n",
       "      <td>1832770</td>\n",
       "      <td>19.0</td>\n",
       "      <td>29.0</td>\n",
       "      <td>99.31</td>\n",
       "      <td>2052.0</td>\n",
       "      <td>2015</td>\n",
       "      <td>2016</td>\n",
       "      <td>86</td>\n",
       "      <td>2052.0</td>\n",
       "      <td>...</td>\n",
       "      <td>0</td>\n",
       "      <td>0</td>\n",
       "      <td>0</td>\n",
       "      <td>0</td>\n",
       "      <td>1</td>\n",
       "      <td>0</td>\n",
       "      <td>0</td>\n",
       "      <td>0</td>\n",
       "      <td>0</td>\n",
       "      <td>5</td>\n",
       "    </tr>\n",
       "  </tbody>\n",
       "</table>\n",
       "<p>5 rows × 63 columns</p>\n",
       "</div>"
      ],
      "text/plain": [
       "   Unnamed: 0  student_ID   Age  Absence_days  Final_results_grade  School_ID  \\\n",
       "0           0      529914  19.0           0.0                99.52      764.0   \n",
       "1           1      216644  20.0          31.0                76.17    24751.0   \n",
       "2           2      498419  19.0           0.0                77.52     1927.0   \n",
       "3           3     2074139  20.0          44.0                77.85     1877.0   \n",
       "4           4     1832770  19.0          29.0                99.31     2052.0   \n",
       "\n",
       "   start_year  end_year  T_Total_grade  School_ID_2      ...       \\\n",
       "0        2015      2016             90        764.0      ...        \n",
       "1        2015      2016             48      24751.0      ...        \n",
       "2        2015      2016             58       1927.0      ...        \n",
       "3        2015      2016             54       1877.0      ...        \n",
       "4        2015      2016             86       2052.0      ...        \n",
       "\n",
       "   Path_مسار العلوم الانسانية  P_F_Result_Fail  P_F_Result_Grad  \\\n",
       "0                           0                0                0   \n",
       "1                           0                0                0   \n",
       "2                           0                0                0   \n",
       "3                           0                0                0   \n",
       "4                           0                0                0   \n",
       "\n",
       "   P_F_Result_Not_Complete  P_F_Result_Pass  \\\n",
       "0                        0                1   \n",
       "1                        0                1   \n",
       "2                        0                1   \n",
       "3                        0                1   \n",
       "4                        0                1   \n",
       "\n",
       "   Tahseli_type_اختبار التحصيل الدراسي للتخصصات النظرية  \\\n",
       "0                                                  0      \n",
       "1                                                  0      \n",
       "2                                                  0      \n",
       "3                                                  0      \n",
       "4                                                  0      \n",
       "\n",
       "   Tahseli_type_الاختبار التحصيلي باللغة الإنجليزية  \\\n",
       "0                                                 0   \n",
       "1                                                 0   \n",
       "2                                                 0   \n",
       "3                                                 0   \n",
       "4                                                 0   \n",
       "\n",
       "   Tahseli_type_الاختبار التحصيلي للتخصصات العلمية  \\\n",
       "0                                                0   \n",
       "1                                                0   \n",
       "2                                                0   \n",
       "3                                                0   \n",
       "4                                                0   \n",
       "\n",
       "   Tahseli_type_الاختبار التحصيلي للتخصصات النظرية  T_Exam_month  \n",
       "0                                                0             5  \n",
       "1                                                0             4  \n",
       "2                                                0             5  \n",
       "3                                                0             5  \n",
       "4                                                0             5  \n",
       "\n",
       "[5 rows x 63 columns]"
      ]
     },
     "execution_count": 77,
     "metadata": {},
     "output_type": "execute_result"
    }
   ],
   "source": [
    "Tahseli_Model1.head()"
   ]
  },
  {
   "cell_type": "code",
   "execution_count": 78,
   "metadata": {},
   "outputs": [],
   "source": [
    "Tahseli_Model_1 = pd.merge(Tahseli_Model1, T_school_score, how='left', on=['School_ID'])\n"
   ]
  },
  {
   "cell_type": "code",
   "execution_count": 80,
   "metadata": {},
   "outputs": [
    {
     "data": {
      "image/png": "[encoded data removed]",
      "text/plain": [
       "<Figure size 720x720 with 1 Axes>"
      ]
     },
     "metadata": {
      "image/png": {
       "height": 711,
       "width": 729
      },
      "needs_background": "light"
     },
     "output_type": "display_data"
    }
   ],
   "source": [
    "#ax = Qudrat_Model_3.Final_results_grade.plot.bar(rot=0)\n",
    "import seaborn as sns\n",
    "sns.catplot(x=\"T_Total_grade\", kind=\"count\", palette=\"ch:.25\", data=Tahseli_Model1, height=10);\n",
    "\n"
   ]
  },
  {
   "cell_type": "code",
   "execution_count": 81,
   "metadata": {},
   "outputs": [],
   "source": [
    "T_school_score.to_csv('T_school_score.csv')\n",
    "Qudrat_school_score.to_csv('Qudrat_school_score.csv')"
   ]
  },
  {
   "cell_type": "code",
   "execution_count": 82,
   "metadata": {},
   "outputs": [
    {
     "data": {
      "text/html": [
       "<div>\n",
       "<style scoped>\n",
       "    .dataframe tbody tr th:only-of-type {\n",
       "        vertical-align: middle;\n",
       "    }\n",
       "\n",
       "    .dataframe tbody tr th {\n",
       "        vertical-align: top;\n",
       "    }\n",
       "\n",
       "    .dataframe thead th {\n",
       "        text-align: right;\n",
       "    }\n",
       "</style>\n",
       "<table border=\"1\" class=\"dataframe\">\n",
       "  <thead>\n",
       "    <tr style=\"text-align: right;\">\n",
       "      <th></th>\n",
       "      <th>School_ID</th>\n",
       "      <th>Avg_Qudrat</th>\n",
       "    </tr>\n",
       "  </thead>\n",
       "  <tbody>\n",
       "    <tr>\n",
       "      <th>0</th>\n",
       "      <td>751.0</td>\n",
       "      <td>63.49</td>\n",
       "    </tr>\n",
       "    <tr>\n",
       "      <th>1</th>\n",
       "      <td>751.0</td>\n",
       "      <td>62.81</td>\n",
       "    </tr>\n",
       "    <tr>\n",
       "      <th>2</th>\n",
       "      <td>776.0</td>\n",
       "      <td>61.71</td>\n",
       "    </tr>\n",
       "    <tr>\n",
       "      <th>3</th>\n",
       "      <td>776.0</td>\n",
       "      <td>62.92</td>\n",
       "    </tr>\n",
       "    <tr>\n",
       "      <th>4</th>\n",
       "      <td>808.0</td>\n",
       "      <td>60.88</td>\n",
       "    </tr>\n",
       "    <tr>\n",
       "      <th>5</th>\n",
       "      <td>972.0</td>\n",
       "      <td>64.18</td>\n",
       "    </tr>\n",
       "    <tr>\n",
       "      <th>6</th>\n",
       "      <td>722.0</td>\n",
       "      <td>63.99</td>\n",
       "    </tr>\n",
       "    <tr>\n",
       "      <th>7</th>\n",
       "      <td>722.0</td>\n",
       "      <td>64.31</td>\n",
       "    </tr>\n",
       "    <tr>\n",
       "      <th>8</th>\n",
       "      <td>764.0</td>\n",
       "      <td>75.55</td>\n",
       "    </tr>\n",
       "    <tr>\n",
       "      <th>9</th>\n",
       "      <td>764.0</td>\n",
       "      <td>72.64</td>\n",
       "    </tr>\n",
       "    <tr>\n",
       "      <th>10</th>\n",
       "      <td>768.0</td>\n",
       "      <td>68.93</td>\n",
       "    </tr>\n",
       "    <tr>\n",
       "      <th>11</th>\n",
       "      <td>790.0</td>\n",
       "      <td>65.21</td>\n",
       "    </tr>\n",
       "    <tr>\n",
       "      <th>12</th>\n",
       "      <td>728.0</td>\n",
       "      <td>66.55</td>\n",
       "    </tr>\n",
       "    <tr>\n",
       "      <th>13</th>\n",
       "      <td>728.0</td>\n",
       "      <td>67.27</td>\n",
       "    </tr>\n",
       "    <tr>\n",
       "      <th>14</th>\n",
       "      <td>732.0</td>\n",
       "      <td>71.50</td>\n",
       "    </tr>\n",
       "    <tr>\n",
       "      <th>15</th>\n",
       "      <td>732.0</td>\n",
       "      <td>69.79</td>\n",
       "    </tr>\n",
       "    <tr>\n",
       "      <th>16</th>\n",
       "      <td>738.0</td>\n",
       "      <td>69.36</td>\n",
       "    </tr>\n",
       "    <tr>\n",
       "      <th>17</th>\n",
       "      <td>738.0</td>\n",
       "      <td>69.00</td>\n",
       "    </tr>\n",
       "    <tr>\n",
       "      <th>18</th>\n",
       "      <td>1477.0</td>\n",
       "      <td>72.76</td>\n",
       "    </tr>\n",
       "    <tr>\n",
       "      <th>19</th>\n",
       "      <td>1477.0</td>\n",
       "      <td>68.39</td>\n",
       "    </tr>\n",
       "  </tbody>\n",
       "</table>\n",
       "</div>"
      ],
      "text/plain": [
       "    School_ID  Avg_Qudrat\n",
       "0       751.0       63.49\n",
       "1       751.0       62.81\n",
       "2       776.0       61.71\n",
       "3       776.0       62.92\n",
       "4       808.0       60.88\n",
       "5       972.0       64.18\n",
       "6       722.0       63.99\n",
       "7       722.0       64.31\n",
       "8       764.0       75.55\n",
       "9       764.0       72.64\n",
       "10      768.0       68.93\n",
       "11      790.0       65.21\n",
       "12      728.0       66.55\n",
       "13      728.0       67.27\n",
       "14      732.0       71.50\n",
       "15      732.0       69.79\n",
       "16      738.0       69.36\n",
       "17      738.0       69.00\n",
       "18     1477.0       72.76\n",
       "19     1477.0       68.39"
      ]
     },
     "execution_count": 82,
     "metadata": {},
     "output_type": "execute_result"
    }
   ],
   "source": [
    "Qudrat_school_score.head(20)"
   ]
  },
  {
   "cell_type": "code",
   "execution_count": 83,
   "metadata": {},
   "outputs": [
    {
     "data": {
      "text/plain": [
       "Unnamed: 0                                                   0\n",
       "student_ID                                                   0\n",
       "Age                                                          0\n",
       "Absence_days                                                 0\n",
       "Final_results_grade                                          0\n",
       "School_ID                                                    0\n",
       "start_year                                                   0\n",
       "end_year                                                     0\n",
       "T_Total_grade                                                0\n",
       "School_ID_2                                                  0\n",
       "sex_Male                                                     0\n",
       "School_type_Quran                                            0\n",
       "School_type_day                                              0\n",
       "School_type_eldery                                           0\n",
       "School_type_night                                            0\n",
       "School_type_special_cases                                    0\n",
       "School_classification_public                                 0\n",
       "School_classification_royal_commission                       0\n",
       "Track_ادبي بنات                                              0\n",
       "Track_العوق السمعي بنات                                      0\n",
       "Track_العوق السمعي بنين                                      0\n",
       "Track_المسار الأدبي                                          0\n",
       "Track_المسار الأدبي ضعاف سمع                                 0\n",
       "Track_المسار الإداري                                         0\n",
       "Track_المسار العلمي                                          0\n",
       "Track_المسار العلمي خارج بنات                                0\n",
       "Track_المسار العلمي خارج بنين                                0\n",
       "Track_المسار العلمي عوق البصري                               0\n",
       "Track_تحفيظ القرآن الكريم بمدارس التعليم العام               0\n",
       "Track_ضعاف السمع بنين                                        0\n",
       "                                                         ...  \n",
       "Track_قسم ثانوي                                              0\n",
       "Track_قسم ثانوي خارج بنات                                    0\n",
       "Track_قسم ثانوي خارج بنين                                    0\n",
       "Track_قسم علوم ادارية بنين                                   0\n",
       "Track_قسم علوم شرعية و عربية بنين                            0\n",
       "Track_قسم علوم طبيعية بنين                                   0\n",
       "Track_قسم علوم طبيعية-خارج بنات                              0\n",
       "Track_قسم علوم طبيعية-خارج بنين                              0\n",
       "class_year_2                                                 0\n",
       "class_year_3                                                 0\n",
       "class_year_NA                                                0\n",
       "class_Semester_1                                             0\n",
       "class_Semester_2                                             0\n",
       "class_Semester_3                                             0\n",
       "class_Semester_4                                             0\n",
       "class_Semester_5                                             0\n",
       "class_Semester_6                                             0\n",
       "class_Semester_NA                                            0\n",
       "Path_مسار العلوم  الطبيعية                                   0\n",
       "Path_مسار العلوم الانسانية                                   0\n",
       "P_F_Result_Fail                                              0\n",
       "P_F_Result_Grad                                              0\n",
       "P_F_Result_Not_Complete                                      0\n",
       "P_F_Result_Pass                                              0\n",
       "Tahseli_type_اختبار التحصيل الدراسي للتخصصات النظرية         0\n",
       "Tahseli_type_الاختبار التحصيلي باللغة الإنجليزية             0\n",
       "Tahseli_type_الاختبار التحصيلي للتخصصات العلمية              0\n",
       "Tahseli_type_الاختبار التحصيلي للتخصصات النظرية              0\n",
       "T_Exam_month                                                 0\n",
       "Avg_Tahseli                                             657116\n",
       "Length: 64, dtype: int64"
      ]
     },
     "execution_count": 83,
     "metadata": {},
     "output_type": "execute_result"
    }
   ],
   "source": [
    "Tahseli_Model_1.isnull().sum()"
   ]
  },
  {
   "cell_type": "code",
   "execution_count": 84,
   "metadata": {},
   "outputs": [],
   "source": [
    "Tahseli_Model_1.dropna(axis=0, inplace=True)"
   ]
  },
  {
   "cell_type": "code",
   "execution_count": 85,
   "metadata": {},
   "outputs": [],
   "source": [
    "Tahseli_Model_1.rename(columns={'Avg_Tahseli': 'School_Avg_Tahseli_score'}, inplace=True)"
   ]
  },
  {
   "cell_type": "code",
   "execution_count": 87,
   "metadata": {},
   "outputs": [],
   "source": [
    "#Tahseli_Model_1.head(20)\n",
    "Tahseli_Model_1.to_csv('Tahseli_Model_1.csv')"
   ]
  },
  {
   "cell_type": "code",
   "execution_count": 88,
   "metadata": {},
   "outputs": [],
   "source": [
    "corr0 =  Tahseli_Model_1.corr()"
   ]
  },
  {
   "cell_type": "markdown",
   "metadata": {},
   "source": [
    "## Start GridsearchCV prediction Model 1 - Predict First Tahseli Exam:"
   ]
  },
  {
   "cell_type": "code",
   "execution_count": 89,
   "metadata": {},
   "outputs": [],
   "source": [
    "y1=Tahseli_Model_1.T_Total_grade"
   ]
  },
  {
   "cell_type": "code",
   "execution_count": 90,
   "metadata": {},
   "outputs": [],
   "source": [
    "X1= Tahseli_Model_1.drop('T_Total_grade', axis=1)"
   ]
  },
  {
   "cell_type": "code",
   "execution_count": 91,
   "metadata": {},
   "outputs": [],
   "source": [
    "X_train, X_test, y_train, y_test = train_test_split(X1, y1, test_size=0.1)"
   ]
  },
  {
   "cell_type": "code",
   "execution_count": 92,
   "metadata": {},
   "outputs": [],
   "source": [
    "from sklearn.base import BaseEstimator\n",
    "from sklearn.model_selection import GridSearchCV\n",
    "\n",
    "class DummyEstimator(BaseEstimator):\n",
    "    def fit(self): pass\n",
    "    def score(self): pass\n",
    "\n",
    "# Create a pipeline\n",
    "pipe = Pipeline([('clf', DummyEstimator())]) # Placeholder Estimator\n",
    "\n",
    "# Candidate learning algorithms and their hyperparameters\n",
    "\n",
    "# Candidate learning algorithms and their hyperparameters\n",
    "search_space = [{'clf': [Lasso()],  # Actual Estimator\n",
    "                'clf__alpha': (0.1, 1.0, 10)},\n",
    "                \n",
    "                {'clf': [Ridge()], # Actual Estimator\n",
    "                 'clf__alpha': (0.1, 1.0, 10)},\n",
    "                \n",
    "                {'clf': [RandomForestRegressor()],  # Actual Estimator\n",
    "                 'clf__n_estimators': (5,10,15)}]\n",
    "                \n",
    "\n",
    "\n",
    "\n",
    "# Create grid search \n",
    "gs = GridSearchCV(pipe, search_space, n_jobs=-1)"
   ]
  },
  {
   "cell_type": "code",
   "execution_count": 93,
   "metadata": {},
   "outputs": [
    {
     "name": "stderr",
     "output_type": "stream",
     "text": [
      "/Users/hebahmirza/anaconda3/lib/python3.7/site-packages/sklearn/model_selection/_split.py:2053: FutureWarning: You should specify a value for 'cv' instead of relying on the default value. The default value will change from 3 to 5 in version 0.22.\n",
      "  warnings.warn(CV_WARNING, FutureWarning)\n",
      "/Users/hebahmirza/anaconda3/lib/python3.7/site-packages/sklearn/externals/joblib/externals/loky/process_executor.py:706: UserWarning: A worker stopped while some jobs were given to the executor. This can be caused by a too short worker timeout or by a memory leak.\n",
      "  \"timeout or by a memory leak.\", UserWarning\n"
     ]
    },
    {
     "data": {
      "text/plain": [
       "GridSearchCV(cv='warn', error_score='raise-deprecating',\n",
       "       estimator=Pipeline(memory=None, steps=[('clf', DummyEstimator())]),\n",
       "       fit_params=None, iid='warn', n_jobs=-1,\n",
       "       param_grid=[{'clf': [Lasso(alpha=1.0, copy_X=True, fit_intercept=True, max_iter=1000,\n",
       "   normalize=False, positive=False, precompute=False, random_state=None,\n",
       "   selection='cyclic', tol=0.0001, warm_start=False)], 'clf__alpha': (0.1, 1.0, 10)}, {'clf': [Ridge(alpha=1.0, copy_X=True, fit_intercept=Tr...ob_score=False, random_state=None, verbose=0, warm_start=False)], 'clf__n_estimators': (5, 10, 15)}],\n",
       "       pre_dispatch='2*n_jobs', refit=True, return_train_score='warn',\n",
       "       scoring=None, verbose=0)"
      ]
     },
     "execution_count": 93,
     "metadata": {},
     "output_type": "execute_result"
    }
   ],
   "source": [
    "gs.fit(X_train, y_train)"
   ]
  },
  {
   "cell_type": "code",
   "execution_count": 94,
   "metadata": {},
   "outputs": [
    {
     "data": {
      "text/plain": [
       "Pipeline(memory=None,\n",
       "     steps=[('clf', RandomForestRegressor(bootstrap=True, criterion='mse', max_depth=None,\n",
       "           max_features='auto', max_leaf_nodes=None,\n",
       "           min_impurity_decrease=0.0, min_impurity_split=None,\n",
       "           min_samples_leaf=1, min_samples_split=2,\n",
       "           min_weight_fraction_leaf=0.0, n_estimators=15, n_jobs=None,\n",
       "           oob_score=False, random_state=None, verbose=0, warm_start=False))])"
      ]
     },
     "execution_count": 94,
     "metadata": {},
     "output_type": "execute_result"
    }
   ],
   "source": [
    "gs.best_estimator_"
   ]
  },
  {
   "cell_type": "code",
   "execution_count": 95,
   "metadata": {},
   "outputs": [
    {
     "data": {
      "text/plain": [
       "array([60.86666667, 72.        , 85.8       , ..., 75.46666667,\n",
       "       92.2       , 71.73333333])"
      ]
     },
     "execution_count": 95,
     "metadata": {},
     "output_type": "execute_result"
    }
   ],
   "source": [
    "gs.best_estimator_.predict(X_test)"
   ]
  },
  {
   "cell_type": "code",
   "execution_count": 96,
   "metadata": {},
   "outputs": [
    {
     "data": {
      "text/plain": [
       "0.7247414091487001"
      ]
     },
     "execution_count": 96,
     "metadata": {},
     "output_type": "execute_result"
    }
   ],
   "source": [
    "gs.score(X_test, y_test)"
   ]
  },
  {
   "cell_type": "code",
   "execution_count": 97,
   "metadata": {},
   "outputs": [
    {
     "data": {
      "text/plain": [
       "array([60.86666667, 72.        , 85.8       , ..., 75.46666667,\n",
       "       92.2       , 71.73333333])"
      ]
     },
     "execution_count": 97,
     "metadata": {},
     "output_type": "execute_result"
    }
   ],
   "source": [
    "gs.best_estimator_.predict(X_test)"
   ]
  },
  {
   "cell_type": "code",
   "execution_count": 98,
   "metadata": {},
   "outputs": [
    {
     "data": {
      "image/png": "[encoded data removed]",
      "text/plain": [
       "<Figure size 432x288 with 1 Axes>"
      ]
     },
     "metadata": {
      "image/png": {
       "height": 260,
       "width": 428
      },
      "needs_background": "light"
     },
     "output_type": "display_data"
    }
   ],
   "source": [
    "# The line / model\n",
    "point_4 = [20, 100]\n",
    "plt.scatter(y_test, gs.best_estimator_.predict(X_test))\n",
    "plt.plot(point_4, point_4)\n",
    "plt.xlabel(\"True Values\")\n",
    "plt.ylabel(\"Predictions\")\n",
    "plt.show()"
   ]
  },
  {
   "cell_type": "code",
   "execution_count": 100,
   "metadata": {},
   "outputs": [
    {
     "data": {
      "text/plain": [
       "Pipeline(memory=None,\n",
       "     steps=[('clf', RandomForestRegressor(bootstrap=True, criterion='mse', max_depth=None,\n",
       "           max_features='auto', max_leaf_nodes=None,\n",
       "           min_impurity_decrease=0.0, min_impurity_split=None,\n",
       "           min_samples_leaf=1, min_samples_split=2,\n",
       "           min_weight_fraction_leaf=0.0, n_estimators=15, n_jobs=None,\n",
       "           oob_score=False, random_state=None, verbose=0, warm_start=False))])"
      ]
     },
     "execution_count": 100,
     "metadata": {},
     "output_type": "execute_result"
    }
   ],
   "source": [
    "gs.best_estimator_"
   ]
  },
  {
   "cell_type": "markdown",
   "metadata": {},
   "source": [
    "## This Model is created and used for the Demo in server.py file created by flusk!"
   ]
  },
  {
   "cell_type": "code",
   "execution_count": 101,
   "metadata": {},
   "outputs": [],
   "source": [
    "Model_1 = pd.read_csv('./Model_1.csv')"
   ]
  },
  {
   "cell_type": "code",
   "execution_count": 102,
   "metadata": {},
   "outputs": [
    {
     "data": {
      "text/plain": [
       "(1241666, 30)"
      ]
     },
     "execution_count": 102,
     "metadata": {},
     "output_type": "execute_result"
    }
   ],
   "source": [
    "Model_1.shape"
   ]
  },
  {
   "cell_type": "code",
   "execution_count": 103,
   "metadata": {},
   "outputs": [],
   "source": [
    "y1=Model_1.T_Total_grade"
   ]
  },
  {
   "cell_type": "code",
   "execution_count": 104,
   "metadata": {},
   "outputs": [],
   "source": [
    "X1= Model_1.drop('T_Total_grade', axis=1)"
   ]
  },
  {
   "cell_type": "code",
   "execution_count": 105,
   "metadata": {},
   "outputs": [],
   "source": [
    "X_train, X_test, y_train, y_test = train_test_split(X1, y1, test_size=0.1)"
   ]
  },
  {
   "cell_type": "code",
   "execution_count": 106,
   "metadata": {},
   "outputs": [],
   "source": [
    "model1=RandomForestRegressor(bootstrap=True, criterion='mse', max_depth=None,\n",
    "           max_features='auto', max_leaf_nodes=None,\n",
    "           min_impurity_decrease=0.0, min_impurity_split=None,\n",
    "           min_samples_leaf=1, min_samples_split=2,\n",
    "           min_weight_fraction_leaf=0.0, n_estimators=15, n_jobs=None,\n",
    "           oob_score=False, random_state=None, verbose=0, warm_start=False)"
   ]
  },
  {
   "cell_type": "code",
   "execution_count": 107,
   "metadata": {},
   "outputs": [
    {
     "data": {
      "text/plain": [
       "RandomForestRegressor(bootstrap=True, criterion='mse', max_depth=None,\n",
       "           max_features='auto', max_leaf_nodes=None,\n",
       "           min_impurity_decrease=0.0, min_impurity_split=None,\n",
       "           min_samples_leaf=1, min_samples_split=2,\n",
       "           min_weight_fraction_leaf=0.0, n_estimators=15, n_jobs=None,\n",
       "           oob_score=False, random_state=None, verbose=0, warm_start=False)"
      ]
     },
     "execution_count": 107,
     "metadata": {},
     "output_type": "execute_result"
    }
   ],
   "source": [
    "model1.fit(X_train, y_train)"
   ]
  },
  {
   "cell_type": "code",
   "execution_count": 108,
   "metadata": {},
   "outputs": [
    {
     "data": {
      "text/plain": [
       "0.6994870626309966"
      ]
     },
     "execution_count": 108,
     "metadata": {},
     "output_type": "execute_result"
    }
   ],
   "source": [
    "model1.score(X_test, y_test)"
   ]
  },
  {
   "cell_type": "code",
   "execution_count": 109,
   "metadata": {},
   "outputs": [
    {
     "data": {
      "text/plain": [
       "(1117499, 29)"
      ]
     },
     "execution_count": 109,
     "metadata": {},
     "output_type": "execute_result"
    }
   ],
   "source": [
    "X_train.shape"
   ]
  },
  {
   "cell_type": "code",
   "execution_count": 110,
   "metadata": {},
   "outputs": [],
   "source": [
    "y_pred= model1.predict(X_test)"
   ]
  },
  {
   "cell_type": "code",
   "execution_count": 111,
   "metadata": {},
   "outputs": [],
   "source": [
    "# create dump for model 1:\n",
    "import pickle\n",
    "pickle.dump(model1, open(\"./model.pkl\",\"wb\"))"
   ]
  },
  {
   "cell_type": "code",
   "execution_count": null,
   "metadata": {},
   "outputs": [],
   "source": [
    "#Tahseli_Model_1.corr()"
   ]
  },
  {
   "cell_type": "code",
   "execution_count": null,
   "metadata": {},
   "outputs": [],
   "source": [
    "X_test.iloc[1,:]"
   ]
  },
  {
   "cell_type": "code",
   "execution_count": null,
   "metadata": {},
   "outputs": [],
   "source": [
    "# Model 1 modify columns and save it again!!\n",
    "#Tahseli_Model_1.drop(Tahseli_Model_1.loc['Tahseli_typeاختبار التحصيل الدراسي للتخصصات النظرية'], axis=1, inplace=True)"
   ]
  },
  {
   "cell_type": "code",
   "execution_count": 112,
   "metadata": {},
   "outputs": [],
   "source": [
    "Tahseli_Model_1.rename(columns={'Track_ادبي بنات': 'Track_Humanity','Track_المسار الأدبي':'Path_Humanity_Female',\n",
    "                               'Track_المسار الإداري':'Path_Management','Track_المسار العلمي':'Path_Science',\n",
    "                               'Track_علمي بنات':'Track_Sci_Female','Track_قسم علوم طبيعية بنين':'Track_Naturel_Sci_Male',\n",
    "                              'Track_قسم علوم طبيعية-خارج بنين':'Track_Naturel_Sci_aboroad_Male',\n",
    "                               'Path_مسار العلوم  الطبيعية':'Path_Natural_Science_Male',\n",
    "                               'Path_مسار العلوم الانسانية':'Path_Humanity_Male',\n",
    "                                'Tahseli_type_اختبار التحصيل الدراسي للتخصصات النظرية':'Tahseli_Exam_Humanity',\n",
    "                               'Tahseli_type_الاختبار التحصيلي باللغة الإنجليزية':'Tahseli_Exam_English',\n",
    "                                'Tahseli_type_الاختبار التحصيلي للتخصصات النظرية':'Tahseli_Exam_Humanity',\n",
    "                                'Tahseli_type_الاختبار التحصيلي للتخصصات العلمية':'Tahseli_Exam_Science'\n",
    "                                \n",
    "                               }, \n",
    "                       inplace=True)"
   ]
  },
  {
   "cell_type": "code",
   "execution_count": 113,
   "metadata": {},
   "outputs": [],
   "source": [
    "#Tahseli_Model_1.head(20)\n",
    "Tahseli_Model_1.to_csv('Model_1.csv')"
   ]
  },
  {
   "cell_type": "code",
   "execution_count": null,
   "metadata": {},
   "outputs": [],
   "source": [
    "corr0 =  Tahseli_Model_1.corr()"
   ]
  },
  {
   "cell_type": "markdown",
   "metadata": {},
   "source": [
    "# Start GridsearchCV prediction Model 2 - Predict Second Tahseli Exam: (Tahseli Model 2)"
   ]
  },
  {
   "cell_type": "code",
   "execution_count": 114,
   "metadata": {},
   "outputs": [],
   "source": [
    "# save the my final prediction Tahseli model2:\n",
    "Tahseli_Model_2.head()\n",
    "Tahseli_Model_2.to_csv('Tahseli_Model_2.csv')"
   ]
  },
  {
   "cell_type": "code",
   "execution_count": 115,
   "metadata": {},
   "outputs": [],
   "source": [
    "Tahseli_Model_2= Tahseli_Model_2.drop('T_Exam_Date', axis=1)\n",
    "Tahseli_Model_2= Tahseli_Model_2.drop('Exam_Date_2', axis=1)\n",
    "Tahseli_Model_2= Tahseli_Model_2.drop('School_ID_2', axis=1)"
   ]
  },
  {
   "cell_type": "code",
   "execution_count": 116,
   "metadata": {},
   "outputs": [
    {
     "data": {
      "text/plain": [
       "Index(['Age', 'Absence_days', 'Final_results_grade', 'School_ID',\n",
       "       'T_Total_grade', 'Total_grade_2', 'sex_Male', 'School_type_eldery',\n",
       "       'School_classification_public', 'Track_ادبي بنات',\n",
       "       'Track_المسار الإداري', 'Track_المسار العلمي', 'Track_علمي بنات',\n",
       "       'Track_قسم تحفيظ القراّن الكريم بنات', 'Track_قسم علوم طبيعية بنين',\n",
       "       'class_year_NA', 'class_Semester_3', 'class_Semester_4',\n",
       "       'class_Semester_5', 'class_Semester_6', 'Path_مسار العلوم الانسانية',\n",
       "       'P_F_Result_Pass',\n",
       "       'Tahseli_type_اختبار التحصيل الدراسي للتخصصات النظرية',\n",
       "       'Tahseli_type_الاختبار التحصيلي للتخصصات العلمية',\n",
       "       'Tahseli_type_الاختبار التحصيلي للتخصصات النظرية',\n",
       "       'School_Avg_Tahseli_score'],\n",
       "      dtype='object')"
      ]
     },
     "execution_count": 116,
     "metadata": {},
     "output_type": "execute_result"
    }
   ],
   "source": [
    "Tahseli_Model_2.columns"
   ]
  },
  {
   "cell_type": "code",
   "execution_count": 117,
   "metadata": {},
   "outputs": [],
   "source": [
    "y=Tahseli_Model_2.Total_grade_2"
   ]
  },
  {
   "cell_type": "code",
   "execution_count": 118,
   "metadata": {},
   "outputs": [],
   "source": [
    "X= Tahseli_Model_2.drop('Total_grade_2', axis=1)"
   ]
  },
  {
   "cell_type": "code",
   "execution_count": 119,
   "metadata": {},
   "outputs": [],
   "source": [
    "X_train, X_test, y_train, y_test = train_test_split(X, y, test_size=0.1)"
   ]
  },
  {
   "cell_type": "code",
   "execution_count": 120,
   "metadata": {},
   "outputs": [],
   "source": [
    "from sklearn.base import BaseEstimator\n",
    "from sklearn.model_selection import GridSearchCV\n",
    "\n",
    "class DummyEstimator(BaseEstimator):\n",
    "    def fit(self): pass\n",
    "    def score(self): pass\n",
    "\n",
    "# Create a pipeline\n",
    "pipe = Pipeline([('clf', DummyEstimator())]) # Placeholder Estimator\n",
    "\n",
    "# Candidate learning algorithms and their hyperparameters\n",
    "\n",
    "# Candidate learning algorithms and their hyperparameters\n",
    "search_space = [{'clf': [Lasso()],  # Actual Estimator\n",
    "                'clf__alpha': (0.1, 1.0, 10)},\n",
    "                \n",
    "                {'clf': [Ridge()], # Actual Estimator\n",
    "                 'clf__alpha': (0.1, 1.0, 10)},\n",
    "                \n",
    "                {'clf': [RandomForestRegressor()],  # Actual Estimator\n",
    "                 'clf__n_estimators': (5,10,15)}]\n",
    "                \n",
    "\n",
    "\n",
    "\n",
    "# Create grid search \n",
    "gs = GridSearchCV(pipe, search_space, n_jobs=-1)"
   ]
  },
  {
   "cell_type": "code",
   "execution_count": null,
   "metadata": {},
   "outputs": [],
   "source": [
    "gs.fit(X_train, y_train)"
   ]
  },
  {
   "cell_type": "code",
   "execution_count": null,
   "metadata": {},
   "outputs": [],
   "source": [
    "gs.best_estimator_"
   ]
  },
  {
   "cell_type": "code",
   "execution_count": null,
   "metadata": {},
   "outputs": [],
   "source": [
    "gs.best_estimator_.predict(X_test)"
   ]
  },
  {
   "cell_type": "code",
   "execution_count": null,
   "metadata": {},
   "outputs": [],
   "source": [
    "gs.score(X_test, y_test)"
   ]
  },
  {
   "cell_type": "code",
   "execution_count": null,
   "metadata": {},
   "outputs": [],
   "source": [
    "grid.best_estimator_.predict(X_test)"
   ]
  },
  {
   "cell_type": "code",
   "execution_count": null,
   "metadata": {},
   "outputs": [],
   "source": []
  },
  {
   "cell_type": "code",
   "execution_count": null,
   "metadata": {},
   "outputs": [],
   "source": [
    "# predict direct with randomforest:\n",
    "TModel2= RandomForestRegressor(bootstrap=True, criterion='mse', max_depth=None,\n",
    "           max_features='auto', max_leaf_nodes=None,\n",
    "           min_impurity_decrease=0.0, min_impurity_split=None,\n",
    "           min_samples_leaf=1, min_samples_split=2,\n",
    "           min_weight_fraction_leaf=0.0, n_estimators=15, n_jobs=None,\n",
    "           oob_score=False, random_state=None, verbose=0, warm_start=False)\n",
    "TModel2.fit(X_test, y_test)"
   ]
  },
  {
   "cell_type": "code",
   "execution_count": null,
   "metadata": {},
   "outputs": [],
   "source": [
    "TModel2.score(X_test, y_test), TModel2.predict(X_test)"
   ]
  },
  {
   "cell_type": "markdown",
   "metadata": {},
   "source": [
    "# Start prediction Third Model  - Predict First Qudrat Exam:"
   ]
  },
  {
   "cell_type": "code",
   "execution_count": null,
   "metadata": {},
   "outputs": [],
   "source": [
    "Qudrat_Model1.shape, Qudrat_school_score.shape"
   ]
  },
  {
   "cell_type": "code",
   "execution_count": null,
   "metadata": {},
   "outputs": [],
   "source": [
    "Qudrat_school_score.head()"
   ]
  },
  {
   "cell_type": "code",
   "execution_count": null,
   "metadata": {},
   "outputs": [],
   "source": [
    "Qudrat_Model1.head()"
   ]
  },
  {
   "cell_type": "code",
   "execution_count": null,
   "metadata": {},
   "outputs": [],
   "source": [
    "Qudrat_Model1['Q_Exam_month']=pd.DatetimeIndex(Qudrat_Model1.Q_Exam_Date).month\n",
    "#Tahseli_Model1['T_Exam_month'].head()"
   ]
  },
  {
   "cell_type": "code",
   "execution_count": null,
   "metadata": {},
   "outputs": [],
   "source": [
    "Qudrat_Model1.drop(['Q_Exam_Date'], axis=1, inplace=True)"
   ]
  },
  {
   "cell_type": "code",
   "execution_count": null,
   "metadata": {},
   "outputs": [],
   "source": [
    "Qudrat_Model_1 = pd.merge(Qudrat_Model1, Qudrat_school_score, how='left', on=['School_ID'])"
   ]
  },
  {
   "cell_type": "code",
   "execution_count": null,
   "metadata": {},
   "outputs": [],
   "source": [
    "Qudrat_Model_1.dropna(axis=0, inplace=True)"
   ]
  },
  {
   "cell_type": "code",
   "execution_count": null,
   "metadata": {},
   "outputs": [],
   "source": [
    "Qudrat_Model_1.rename(columns={'Avg_Qudrat': 'School_Avg_Qudrat_score'}, inplace=True)"
   ]
  },
  {
   "cell_type": "code",
   "execution_count": null,
   "metadata": {},
   "outputs": [],
   "source": [
    "Qudrat_Model_1.head()"
   ]
  },
  {
   "cell_type": "code",
   "execution_count": null,
   "metadata": {},
   "outputs": [],
   "source": [
    "Qudrat_Model_1.drop(['Unnamed: 0', 'student_ID','start_year','end_year',\n",
    "                    'School_type_special_cases','Track_العوق السمعي بنات','Track_العوق السمعي بنين',\n",
    "                     'Track_المسار الأدبي ضعاف سمع','Track_المسار الأدبي عوق البصري',\n",
    "                     'Track_المسار الإداري ضعاف سمع','Track_المسار العلمي خارج بنات',\n",
    "                     'Track_المسار العلمي خارج بنين','Track_المسار العلمي ضعاف سمع','Track_المسار العلمي عوق البصري',\n",
    "                     'Track_ضعاف السمع بنين','Track_ضعاف سمع بنين - علوم إدارية',\n",
    "                     'Track_ضعاف سمع بنين - علوم شرعية وعربية','Track_قسم العوق البصري بنين',\n",
    "                     'Track_قسم ثانوي خارج بنات','Track_قسم ثانوي خارج بنين','Track_قسم علوم طبيعية-خارج بنات',\n",
    "                     'Track_قسم علوم طبيعية-خارج بنين',\n",
    "                     'Track_قسم علوم ادارية بنين','Track_قسم تحفيظ القراّن الكريم بنات',\n",
    "                     'Track_تحفيظ القرآن الكريم بمدارس التعليم العام','P_F_Result_Completing',\n",
    "                     'Path_مسار العلوم الانسانية','School_id','Track_المسار الإداري','Track_قسم علوم شرعية و عربية بنين'\n",
    "                    ], axis=1, inplace=True)"
   ]
  },
  {
   "cell_type": "code",
   "execution_count": null,
   "metadata": {},
   "outputs": [],
   "source": [
    "corr2 =  Qudrat_Model_1.corr()"
   ]
  },
  {
   "cell_type": "code",
   "execution_count": null,
   "metadata": {},
   "outputs": [],
   "source": [
    "#corr2['Q_Total_grade'].sort_values()"
   ]
  },
  {
   "cell_type": "code",
   "execution_count": null,
   "metadata": {},
   "outputs": [],
   "source": [
    "Qudrat_Model_1.to_csv('Qudrat_Model_1.csv')"
   ]
  },
  {
   "cell_type": "code",
   "execution_count": null,
   "metadata": {},
   "outputs": [],
   "source": [
    "Qudrat_Model_1.shape, X_train.shape"
   ]
  },
  {
   "cell_type": "markdown",
   "metadata": {},
   "source": [
    "# Start prediction Third Model  - Predict First Qudrat Exam:"
   ]
  },
  {
   "cell_type": "code",
   "execution_count": null,
   "metadata": {},
   "outputs": [],
   "source": [
    "y2=Qudrat_Model_1.Q_Total_grade"
   ]
  },
  {
   "cell_type": "code",
   "execution_count": null,
   "metadata": {},
   "outputs": [],
   "source": [
    "X2= Qudrat_Model_1.drop('Q_Total_grade', axis=1)"
   ]
  },
  {
   "cell_type": "code",
   "execution_count": null,
   "metadata": {},
   "outputs": [],
   "source": [
    "from sklearn.base import BaseEstimator\n",
    "from sklearn.model_selection import GridSearchCV\n",
    "\n",
    "X_train, X_test, y_train, y_test = train_test_split(X2, y2, test_size=0.1)\n",
    "\n",
    "class DummyEstimator(BaseEstimator):\n",
    "    def fit(self): pass\n",
    "    def score(self): pass\n",
    "\n",
    "# Create a pipeline\n",
    "pipe = Pipeline([('clf', DummyEstimator())]) # Placeholder Estimator\n",
    "\n",
    "# Candidate learning algorithms and their hyperparameters\n",
    "\n",
    "# Candidate learning algorithms and their hyperparameters\n",
    "search_space = [{'clf': [Lasso()],  # Actual Estimator\n",
    "                'clf__alpha': (0.1, 1.0, 10)},\n",
    "                \n",
    "                {'clf': [Ridge()], # Actual Estimator\n",
    "                 'clf__alpha': (0.1, 1.0, 10)},\n",
    "                \n",
    "                {'clf': [RandomForestRegressor()],  # Actual Estimator\n",
    "                 'clf__n_estimators': (5,10,15)}]\n",
    "                \n",
    "# Create grid search \n",
    "gs = GridSearchCV(pipe, search_space, n_jobs=-1)"
   ]
  },
  {
   "cell_type": "code",
   "execution_count": null,
   "metadata": {},
   "outputs": [],
   "source": [
    "X_train.shape"
   ]
  },
  {
   "cell_type": "code",
   "execution_count": null,
   "metadata": {},
   "outputs": [],
   "source": [
    "gs.fit(X_train, y_train)"
   ]
  },
  {
   "cell_type": "code",
   "execution_count": null,
   "metadata": {},
   "outputs": [],
   "source": [
    "gs.best_estimator_"
   ]
  },
  {
   "cell_type": "code",
   "execution_count": null,
   "metadata": {},
   "outputs": [],
   "source": [
    "gs.best_estimator_.predict(X_test)"
   ]
  },
  {
   "cell_type": "code",
   "execution_count": null,
   "metadata": {},
   "outputs": [],
   "source": [
    "gs.score(X_test, y_test)"
   ]
  },
  {
   "cell_type": "code",
   "execution_count": null,
   "metadata": {},
   "outputs": [],
   "source": [
    "Qmodel1= gs.best_estimator_"
   ]
  },
  {
   "cell_type": "code",
   "execution_count": null,
   "metadata": {},
   "outputs": [],
   "source": [
    "### try different way to retreieve the model:\n",
    "\n",
    "Qmodel= RandomForestRegressor(bootstrap=True, criterion='mse', max_depth=None,\n",
    "           max_features='auto', max_leaf_nodes=None,\n",
    "           min_impurity_decrease=0.0, min_impurity_split=None,\n",
    "           min_samples_leaf=1, min_samples_split=2,\n",
    "           min_weight_fraction_leaf=0.0, n_estimators=15, n_jobs=None,\n",
    "           oob_score=False, random_state=None, verbose=0, warm_start=False)"
   ]
  },
  {
   "cell_type": "markdown",
   "metadata": {},
   "source": [
    "## Dump the model to view the results on flusk:"
   ]
  },
  {
   "cell_type": "code",
   "execution_count": null,
   "metadata": {},
   "outputs": [],
   "source": [
    "Qmodel.fit(X_train, y_train)"
   ]
  },
  {
   "cell_type": "code",
   "execution_count": null,
   "metadata": {},
   "outputs": [],
   "source": [
    "Qmodel1.score(X_test, y_test)"
   ]
  },
  {
   "cell_type": "code",
   "execution_count": null,
   "metadata": {},
   "outputs": [],
   "source": [
    "# create dump for model 1:\n",
    "import pickle\n",
    "pickle.dump(Qmodel1, open(\"./Qmodel1.pkl\",\"wb\"))"
   ]
  },
  {
   "cell_type": "code",
   "execution_count": null,
   "metadata": {},
   "outputs": [],
   "source": [
    "X_train.shape"
   ]
  },
  {
   "cell_type": "markdown",
   "metadata": {},
   "source": [
    "# Model 4 : Predict the Second Qudrat Exam score:"
   ]
  },
  {
   "cell_type": "code",
   "execution_count": null,
   "metadata": {},
   "outputs": [],
   "source": [
    "Qudrat_Model2.shape, Qudrat_school_score.shape"
   ]
  },
  {
   "cell_type": "code",
   "execution_count": null,
   "metadata": {},
   "outputs": [],
   "source": [
    "Qudrat_Model2.head()"
   ]
  },
  {
   "cell_type": "code",
   "execution_count": null,
   "metadata": {},
   "outputs": [],
   "source": [
    "Qudrat_Model2['Q_1Exam_month']=pd.DatetimeIndex(Qudrat_Model2.Q_Exam_Date).month\n",
    "Qudrat_Model2['Q_2Exam_month']=pd.DatetimeIndex(Qudrat_Model2.Q_Exam_Date_2).month\n"
   ]
  },
  {
   "cell_type": "code",
   "execution_count": null,
   "metadata": {},
   "outputs": [],
   "source": [
    "Qudrat_Model2.drop(['Q_Exam_Date'] , axis=1, inplace=True)\n",
    "Qudrat_Model2.drop(['Q_Exam_Date_2'], axis=1, inplace=True)"
   ]
  },
  {
   "cell_type": "code",
   "execution_count": null,
   "metadata": {},
   "outputs": [],
   "source": [
    "Qudrat_Model_2 = pd.merge(Qudrat_Model2, Qudrat_school_score, how='left', on=['School_ID'])\n",
    "Qudrat_Model_2.isnull().sum()"
   ]
  },
  {
   "cell_type": "code",
   "execution_count": null,
   "metadata": {},
   "outputs": [],
   "source": [
    "Qudrat_Model_2.dropna(axis=0, inplace=True)"
   ]
  },
  {
   "cell_type": "code",
   "execution_count": null,
   "metadata": {},
   "outputs": [],
   "source": [
    "Qudrat_Model_2.rename(columns={'Avg_Qudrat': 'School_Avg_Qudrat_score'}, inplace=True)"
   ]
  },
  {
   "cell_type": "code",
   "execution_count": null,
   "metadata": {},
   "outputs": [],
   "source": [
    "Qudrat_Model_2.shape"
   ]
  },
  {
   "cell_type": "code",
   "execution_count": null,
   "metadata": {},
   "outputs": [],
   "source": [
    "Qudrat_Model_2.drop(['Unnamed: 0', 'student_ID','start_year','end_year',\n",
    "                    'Track_قسم ثانوي خارج بنين','Track_قسم ثانوي خارج بنات',\n",
    "                     'Track_قسم تحفيظ القراّن الكريم بنات','Track_ضعاف السمع بنين','Track_المسار العلمي خارج بنين',\n",
    "                     'Track_المسار العلمي خارج بنات','Track_المسار الإداري ضعاف سمع',\n",
    "                     'Track_المسار الأدبي ضعاف سمع','Track_العوق السمعي بنين','Track_العوق السمعي بنات',\n",
    "                     'School_type_special_cases','Track_ادبي بنات','Track_قسم علوم شرعية و عربية بنين',\n",
    "                     'Track_قسم علوم طبيعية بنين','Track_تحفيظ القرآن الكريم بمدارس التعليم العام',\n",
    "                     'sex_Male','School_type_night'], axis=1, inplace=True)"
   ]
  },
  {
   "cell_type": "code",
   "execution_count": null,
   "metadata": {},
   "outputs": [],
   "source": [
    "corr3 =  Qudrat_Model_2.corr()"
   ]
  },
  {
   "cell_type": "code",
   "execution_count": null,
   "metadata": {},
   "outputs": [],
   "source": [
    "#corr3['Q_Total_grade_2'].sort_values()"
   ]
  },
  {
   "cell_type": "code",
   "execution_count": null,
   "metadata": {},
   "outputs": [],
   "source": [
    "Qudrat_Model_2.head()\n",
    "Qudrat_Model_2.to_csv('Qudrat_Model_2.csv')"
   ]
  },
  {
   "cell_type": "markdown",
   "metadata": {},
   "source": [
    "## start Model 4 Prediction for Second Qudrat score:  "
   ]
  },
  {
   "cell_type": "code",
   "execution_count": null,
   "metadata": {},
   "outputs": [],
   "source": [
    "y3=Qudrat_Model_2.Q_Total_grade_2"
   ]
  },
  {
   "cell_type": "code",
   "execution_count": null,
   "metadata": {},
   "outputs": [],
   "source": [
    "X3= Qudrat_Model_2.drop('Q_Total_grade_2', axis=1)"
   ]
  },
  {
   "cell_type": "code",
   "execution_count": null,
   "metadata": {},
   "outputs": [],
   "source": [
    "from sklearn.base import BaseEstimator\n",
    "from sklearn.model_selection import GridSearchCV\n",
    "\n",
    "X_train, X_test, y_train, y_test = train_test_split(X3, y3, test_size=0.1)\n",
    "\n",
    "class DummyEstimator(BaseEstimator):\n",
    "    def fit(self): pass\n",
    "    def score(self): pass\n",
    "\n",
    "# Create a pipeline\n",
    "pipe = Pipeline([('clf', DummyEstimator())]) # Placeholder Estimator\n",
    "\n",
    "# Candidate learning algorithms and their hyperparameters\n",
    "\n",
    "# Candidate learning algorithms and their hyperparameters\n",
    "search_space = [{'clf': [Lasso()],  # Actual Estimator\n",
    "                'clf__alpha': (0.1, 1.0, 10)},\n",
    "                \n",
    "                {'clf': [Ridge()], # Actual Estimator\n",
    "                 'clf__alpha': (0.1, 1.0, 10)},\n",
    "                \n",
    "                {'clf': [RandomForestRegressor()],  # Actual Estimator\n",
    "                 'clf__n_estimators': (5,10,15)}]\n",
    "                \n",
    "\n",
    "\n",
    "\n",
    "# Create grid search \n",
    "gs3 = GridSearchCV(pipe, search_space, n_jobs=-1)"
   ]
  },
  {
   "cell_type": "code",
   "execution_count": null,
   "metadata": {},
   "outputs": [],
   "source": [
    "gs3.fit(X_train, y_train)"
   ]
  },
  {
   "cell_type": "code",
   "execution_count": null,
   "metadata": {},
   "outputs": [],
   "source": [
    "gs3.best_estimator_"
   ]
  },
  {
   "cell_type": "code",
   "execution_count": null,
   "metadata": {},
   "outputs": [],
   "source": [
    "gs3.best_estimator_.predict(X_test)"
   ]
  },
  {
   "cell_type": "code",
   "execution_count": null,
   "metadata": {},
   "outputs": [],
   "source": [
    "gs3.score(X_test, y_test)"
   ]
  },
  {
   "cell_type": "code",
   "execution_count": null,
   "metadata": {},
   "outputs": [],
   "source": []
  },
  {
   "cell_type": "code",
   "execution_count": null,
   "metadata": {},
   "outputs": [],
   "source": [
    "Qudrat_Model3.shape, Qudrat_school_score.shape"
   ]
  },
  {
   "cell_type": "code",
   "execution_count": null,
   "metadata": {},
   "outputs": [],
   "source": [
    "#Qudrat_Model3.columns"
   ]
  },
  {
   "cell_type": "code",
   "execution_count": null,
   "metadata": {},
   "outputs": [],
   "source": [
    "Qudrat_Model3['Q_1Exam_month']=pd.DatetimeIndex(Qudrat_Model3.Q_Exam_Date).month\n",
    "Qudrat_Model3['Q_2Exam_month']=pd.DatetimeIndex(Qudrat_Model3.Q_Exam_date_2).month\n",
    "Qudrat_Model3['Q_3Exam_month']=pd.DatetimeIndex(Qudrat_Model3.Q_Exam_date_3).month\n"
   ]
  },
  {
   "cell_type": "code",
   "execution_count": null,
   "metadata": {},
   "outputs": [],
   "source": [
    "Qudrat_Model3.drop(['Q_Exam_Date'] , axis=1, inplace=True)\n",
    "Qudrat_Model3.drop(['Q_Exam_date_2'], axis=1, inplace=True)\n",
    "Qudrat_Model3.drop(['Q_Exam_date_3'], axis=1, inplace=True)"
   ]
  },
  {
   "cell_type": "code",
   "execution_count": null,
   "metadata": {},
   "outputs": [],
   "source": [
    "Qudrat_Model_3 = pd.merge(Qudrat_Model3, Qudrat_school_score, how='left', on=['School_ID'])"
   ]
  },
  {
   "cell_type": "code",
   "execution_count": null,
   "metadata": {},
   "outputs": [],
   "source": [
    "Qudrat_Model_3.dropna(axis=0, inplace=True)"
   ]
  },
  {
   "cell_type": "code",
   "execution_count": null,
   "metadata": {},
   "outputs": [],
   "source": [
    "Qudrat_Model_3.rename(columns={'Avg_Qudrat': 'School_Avg_Qudrat_score'}, inplace=True)"
   ]
  },
  {
   "cell_type": "code",
   "execution_count": null,
   "metadata": {},
   "outputs": [],
   "source": [
    "#Qudrat_Model_3.head(20)"
   ]
  },
  {
   "cell_type": "code",
   "execution_count": null,
   "metadata": {},
   "outputs": [],
   "source": [
    "Qudrat_Model_3.drop(['Unnamed: 0', 'student_ID','start_year','end_year','Track_قسم ثانوي خارج بنين',\n",
    "                    'Track_قسم تحفيظ القراّن الكريم بنات','School_type_night','School_type_eldery',\n",
    "                     'class_Semester_4'], axis=1, inplace=True)"
   ]
  },
  {
   "cell_type": "code",
   "execution_count": null,
   "metadata": {},
   "outputs": [],
   "source": []
  },
  {
   "cell_type": "code",
   "execution_count": null,
   "metadata": {},
   "outputs": [],
   "source": [
    "corr4 =  Qudrat_Model_3.corr()"
   ]
  },
  {
   "cell_type": "code",
   "execution_count": null,
   "metadata": {},
   "outputs": [],
   "source": [
    "#corr4['Q_Total_grade_3'].sort_values()"
   ]
  },
  {
   "cell_type": "code",
   "execution_count": null,
   "metadata": {},
   "outputs": [],
   "source": [
    "Qudrat_Model_3.head()\n",
    "Qudrat_Model_3.to_csv('Qudrat_Model_3.csv')"
   ]
  },
  {
   "cell_type": "code",
   "execution_count": null,
   "metadata": {},
   "outputs": [],
   "source": [
    "#start MODELING "
   ]
  },
  {
   "cell_type": "code",
   "execution_count": null,
   "metadata": {},
   "outputs": [],
   "source": []
  },
  {
   "cell_type": "markdown",
   "metadata": {},
   "source": [
    "# Model 5: Predicting the Third Qudrat Exam score:"
   ]
  },
  {
   "cell_type": "code",
   "execution_count": null,
   "metadata": {},
   "outputs": [],
   "source": [
    "y4=Qudrat_Model_3.Q_Total_grade_3"
   ]
  },
  {
   "cell_type": "code",
   "execution_count": null,
   "metadata": {},
   "outputs": [],
   "source": [
    "X4= Qudrat_Model_3.drop('Q_Total_grade_3', axis=1)"
   ]
  },
  {
   "cell_type": "code",
   "execution_count": null,
   "metadata": {},
   "outputs": [],
   "source": [
    "from sklearn.base import BaseEstimator\n",
    "from sklearn.model_selection import GridSearchCV\n",
    "\n",
    "X_train, X_test, y_train, y_test = train_test_split(X4, y4, test_size=0.1)\n",
    "\n",
    "class DummyEstimator(BaseEstimator):\n",
    "    def fit(self): pass\n",
    "    def score(self): pass\n",
    "\n",
    "# Create a pipeline\n",
    "pipe = Pipeline([('clf', DummyEstimator())]) # Placeholder Estimator\n",
    "\n",
    "# Candidate learning algorithms and their hyperparameters\n",
    "\n",
    "# Candidate learning algorithms and their hyperparameters\n",
    "search_space = [{'clf': [Lasso()],  # Actual Estimator\n",
    "                'clf__alpha': (0.1, 1.0, 10)},\n",
    "                \n",
    "                {'clf': [Ridge()], # Actual Estimator\n",
    "                 'clf__alpha': (0.1, 1.0, 10)},\n",
    "                \n",
    "                {'clf': [RandomForestRegressor()],  # Actual Estimator\n",
    "                 'clf__n_estimators': (5,10,15)}]\n",
    "                \n",
    "\n",
    "\n",
    "\n",
    "# Create grid search \n",
    "gs4 = GridSearchCV(pipe, search_space, n_jobs=-1)"
   ]
  },
  {
   "cell_type": "code",
   "execution_count": null,
   "metadata": {},
   "outputs": [],
   "source": [
    "gs4.fit(X_train, y_train)"
   ]
  },
  {
   "cell_type": "code",
   "execution_count": null,
   "metadata": {},
   "outputs": [],
   "source": [
    "gs4.best_estimator_"
   ]
  },
  {
   "cell_type": "code",
   "execution_count": null,
   "metadata": {},
   "outputs": [],
   "source": [
    "#gs4.best_estimator_.predict(X_test)"
   ]
  },
  {
   "cell_type": "code",
   "execution_count": null,
   "metadata": {},
   "outputs": [],
   "source": [
    "gs4.score(X_test, y_test)"
   ]
  },
  {
   "cell_type": "code",
   "execution_count": null,
   "metadata": {},
   "outputs": [],
   "source": []
  },
  {
   "cell_type": "code",
   "execution_count": null,
   "metadata": {},
   "outputs": [],
   "source": []
  },
  {
   "cell_type": "code",
   "execution_count": null,
   "metadata": {},
   "outputs": [],
   "source": [
    "y5=Qudrat_Model_3.Q_Total_grade_3"
   ]
  },
  {
   "cell_type": "code",
   "execution_count": null,
   "metadata": {},
   "outputs": [],
   "source": [
    "X5=Qudrat_Model_3.drop(['Q_Total_grade_3'], axis=1)"
   ]
  },
  {
   "cell_type": "code",
   "execution_count": null,
   "metadata": {},
   "outputs": [],
   "source": [
    "X_train, X_test, y_train, y_test = train_test_split(X5, y5, test_size=0.1)\n",
    "\n",
    "model5= RandomForestRegressor(bootstrap=True, criterion='mse', max_depth=None,\n",
    "           max_features='auto', max_leaf_nodes=None,\n",
    "           min_impurity_decrease=0.0, min_impurity_split=None,\n",
    "           min_samples_leaf=1, min_samples_split=2,\n",
    "           min_weight_fraction_leaf=0.0, n_estimators=15, n_jobs=None,\n",
    "           oob_score=False, random_state=None, verbose=0, warm_start=False)"
   ]
  },
  {
   "cell_type": "code",
   "execution_count": null,
   "metadata": {},
   "outputs": [],
   "source": [
    "model5.fit(X_train,y_train)"
   ]
  },
  {
   "cell_type": "code",
   "execution_count": null,
   "metadata": {},
   "outputs": [],
   "source": [
    "model5.score(X_test, y_test)"
   ]
  },
  {
   "cell_type": "code",
   "execution_count": null,
   "metadata": {},
   "outputs": [],
   "source": [
    "pred= model5.predict(X_test)"
   ]
  },
  {
   "cell_type": "code",
   "execution_count": null,
   "metadata": {},
   "outputs": [],
   "source": [
    "# The line / model\n",
    "point_2 = [10, 100]\n",
    "plt.scatter(y_test, pred)\n",
    "plt.plot(point_2, point_2)\n",
    "plt.xlabel(\"True Values\")\n",
    "plt.ylabel(\"Predictions\")\n",
    "plt.show()"
   ]
  },
  {
   "cell_type": "code",
   "execution_count": null,
   "metadata": {},
   "outputs": [],
   "source": [
    "import pickle\n",
    "pickle.dump(model5, open(\"./model5.pkl\",\"wb\"))"
   ]
  },
  {
   "cell_type": "code",
   "execution_count": null,
   "metadata": {},
   "outputs": [],
   "source": []
  },
  {
   "cell_type": "code",
   "execution_count": null,
   "metadata": {},
   "outputs": [],
   "source": [
    "X_test.shape, X_train.shape"
   ]
  },
  {
   "cell_type": "markdown",
   "metadata": {},
   "source": [
    "# Model 6: Predicting the School Integrity level:\n",
    "## Model Goal:\n",
    "- Predict the level of integrity of a school. If the school is classified as level 2 or 3, more investigations should be done, to understand thier weekness.\n",
    "## Model Function:\n",
    "The model should predict the student's School Total grade out of 100, from his Qudrat and Tahseli scores among other features.\n",
    "Eeach school will be classified into one of the three levels:\n",
    "        1- Highe integrity school:\n",
    "            - If Student predicted score = actual scool score, [more ore less with 3 points].\n",
    "        2- Low Integrity school:\n",
    "            - If Student predicted score < actual scool score :school needs to be investigated \n",
    "            (they give    marks more than they should)\n",
    "        3- Very restricted school:\n",
    "            - If Student predicted score > actual scool score: school needs to be investigated \n",
    "            (they give less marks than they should)\n",
    "        \n"
   ]
  },
  {
   "cell_type": "code",
   "execution_count": null,
   "metadata": {},
   "outputs": [],
   "source": [
    "Qudrat_Model3.head()"
   ]
  },
  {
   "cell_type": "code",
   "execution_count": null,
   "metadata": {},
   "outputs": [],
   "source": [
    "School_Marks= pd.concat([Qudrat_Model3,Tahseli_Model2], join='inner', axis=1)"
   ]
  },
  {
   "cell_type": "code",
   "execution_count": null,
   "metadata": {},
   "outputs": [],
   "source": [
    "School_Marks= School_Marks.drop(['Exam_Date_2','T_Exam_Date'], axis =1)"
   ]
  },
  {
   "cell_type": "code",
   "execution_count": null,
   "metadata": {},
   "outputs": [],
   "source": [
    "School_Marks.info()"
   ]
  },
  {
   "cell_type": "code",
   "execution_count": null,
   "metadata": {},
   "outputs": [],
   "source": [
    "y6=School_Marks.Final_results_grade"
   ]
  },
  {
   "cell_type": "code",
   "execution_count": null,
   "metadata": {},
   "outputs": [],
   "source": [
    "X6= School_Marks.drop('Final_results_grade', axis=1)"
   ]
  },
  {
   "cell_type": "code",
   "execution_count": null,
   "metadata": {},
   "outputs": [],
   "source": [
    "X_train, X_test, y_train, y_test = train_test_split(X6, y6, test_size=0.1)\n",
    "\n",
    "model6= RandomForestRegressor(bootstrap=True, criterion='mse', max_depth=None,\n",
    "           max_features='auto', max_leaf_nodes=None,\n",
    "           min_impurity_decrease=0.0, min_impurity_split=None,\n",
    "           min_samples_leaf=1, min_samples_split=2,\n",
    "           min_weight_fraction_leaf=0.0, n_estimators=15, n_jobs=None,\n",
    "           oob_score=False, random_state=None, verbose=0, warm_start=False)"
   ]
  },
  {
   "cell_type": "code",
   "execution_count": null,
   "metadata": {},
   "outputs": [],
   "source": [
    "model6.fit(X_train,y_train)"
   ]
  },
  {
   "cell_type": "code",
   "execution_count": null,
   "metadata": {},
   "outputs": [],
   "source": [
    "model6.score(X_test, y_test)"
   ]
  },
  {
   "cell_type": "code",
   "execution_count": null,
   "metadata": {},
   "outputs": [],
   "source": [
    "pred= model6.predict(X_test)"
   ]
  },
  {
   "cell_type": "code",
   "execution_count": null,
   "metadata": {},
   "outputs": [],
   "source": [
    "pd.read_csv('Qudrat_Model_3_.csv').shape"
   ]
  },
  {
   "cell_type": "code",
   "execution_count": null,
   "metadata": {},
   "outputs": [],
   "source": [
    "#Qudrat3\n",
    "Qudrat_Model_3.shape"
   ]
  },
  {
   "cell_type": "code",
   "execution_count": null,
   "metadata": {},
   "outputs": [],
   "source": []
  },
  {
   "cell_type": "code",
   "execution_count": null,
   "metadata": {},
   "outputs": [],
   "source": [
    "Qudrat_Model_3=Qudrat_Model_3.drop(['class_Semester_6','Track_المسار الأدبي','Q_2Exam_month','class_Semester_3',\n",
    "                      'Q_3Exam_month','Q_3Exam_month','School_id','Track_المسار الإداري',''\n",
    "                      'Path_مسار العلوم  الطبيعية','School_type_day','School_ID','School_classification_public',\n",
    "                      'class_Semester_NA','Path_مسار العلوم الانسانية','class_Semester_5','class_Semester_2',\n",
    "                      'Track_قسم تحفيظ القراّن الكريم بنين','Path_مسار العلوم  الطبيعية','index','sex_Male',\n",
    "                      'Q_1Exam_month','Track_قسم ثانوي','Track_المسار العلمي'], axis=1)"
   ]
  },
  {
   "cell_type": "code",
   "execution_count": null,
   "metadata": {},
   "outputs": [],
   "source": [
    "Qudrat_Model_3=Qudrat_Model_3.drop(['School_classification_royal_commission'],axis=1)\n"
   ]
  },
  {
   "cell_type": "code",
   "execution_count": null,
   "metadata": {},
   "outputs": [],
   "source": [
    "Qudrat_Model_3.to_csv('Qudrat_Model_3_.csv')"
   ]
  },
  {
   "cell_type": "code",
   "execution_count": null,
   "metadata": {},
   "outputs": [],
   "source": [
    "corr5 =  Qudrat_Model_3.corr()"
   ]
  },
  {
   "cell_type": "code",
   "execution_count": null,
   "metadata": {},
   "outputs": [],
   "source": [
    "corr5['Q_Total_grade_3'].sort_values()"
   ]
  },
  {
   "cell_type": "markdown",
   "metadata": {},
   "source": [
    "# ALL Models Output Representation:"
   ]
  },
  {
   "cell_type": "markdown",
   "metadata": {},
   "source": [
    " ### My final project includes Six Models\n",
    " The output of the project is showed by a simple representation in tow different ways (for the second model (Tahseli_Model_2). Other models can be shown as the same way):\n",
    " \n",
    " 1. Here in the Jupyter lab as input values and output \n",
    " 2. The second way is by using Flusk API. The code is given in Server.py file."
   ]
  },
  {
   "cell_type": "markdown",
   "metadata": {},
   "source": [
    "Summary of the six models, thier goals, Target varibale, and prediction function used.\n",
    "\n",
    "|Model .csv file name|Model Dataframe Name  | Model Prediction Goal| Prediction Target variable| used prediction function|\n",
    "|--------------------|------------|-----------------------|------------------------|---------------------------|\n",
    "|Tahseli_Model1.csv  |Tahseli_Model_1|First Tahseli score | T_Total_grade|model1.predict(X_test)|\n",
    "|--------------------|------------|-----------------------|------------------------|---------------------------|\n",
    "|Tahseli_Model2.csv  |Tahseli_Model_2|Second Taseli score |Total_grade2|TModel2.predict(X_test)|\n",
    "|--------------------|------------|-----------------------|------------------------|---------------------------|\n",
    "|Qudrat_Model_1.csv   |Qudrat_Model_1| First Qudrat score|Q_Total_grade|Qmodel.predict(X_test)\n",
    "|--------------------|------------|-----------------------|------------------------|---------------------------|\n",
    "|Qudrat_Model_2.csv   |Qudrat_Model_2| Second Qudrat score|Q_Total_grade_2|gs3.best_estimator_.predict(X_test)|\n",
    "|--------------------|------------|-----------------------|------------------------|---------------------------|\n",
    "|Qudrat_Model_3.csv |Qudrat_Model_3| Third Qudrat score|Q_Total_grade_3|model5.predict(X_test)|\n",
    "|--------------------|------------|-----------------------|------------------------|---------------------------|\n",
    "|Qudrat_Model_3_.csv |School_Marks|Student's Total mark in school|Final_results_grade|model6.predict(X_test)|\n",
    "|--------------------|------------|-----------------------|------------------------|---------------------------|\n",
    "\n"
   ]
  },
  {
   "cell_type": "code",
   "execution_count": 123,
   "metadata": {},
   "outputs": [],
   "source": [
    "\n",
    "# define lists variables for the required features for the example model (Here Model 2):\n",
    "\n",
    "Age_list = []\n",
    "Absence_days_list = []\n",
    "Final_results_grade_list = []\n",
    "School_ID_1 = []\n",
    "T_Total_grade_list = []\n",
    "\n",
    "sex_Male = []\n",
    "School_type_eldery = []\n",
    "School_classification_public = []\n",
    "Track_Theo_Female = []\n",
    "Track_Manag_Male = []\n",
    "Track_Science=[]\n",
    "Track_Sci_Female = []\n",
    "Track_Qurah = []\n",
    "Natral_study_path = []\n",
    "class_year_NA = []\n",
    "class_Semester_3 = []\n",
    "class_Semester_4 = []\n",
    "class_Semester_5= []\n",
    "class_Semester_6= []\n",
    "Human_path= []\n",
    "P_F_Result_Pass= []\n",
    "Tahseli_type_Theor= []\n",
    "Tahseli_type_Sci= []\n",
    "Tahseli_type_theor= []\n",
    "School_Avg_Tahseli_score= []\n"
   ]
  },
  {
   "cell_type": "code",
   "execution_count": null,
   "metadata": {},
   "outputs": [],
   "source": [
    "# catch the user input data into list variables:\n",
    "\n",
    "userInput =input('Enter which type of exam you want to predict:  Your Second Tahseli (Enter 1), Your First Tahseli (Input 2), Your First Qudrat (Input 3), Your Second Qudrat (Input 4), Your Third Qudrat (Input 5), To predict your School total score and Classify your School (Input 6)')\n",
    "\n",
    "if int(userInput) == 1:\n",
    "    Age_list.append(input('What is your Age:'))\n",
    "    Absence_days_list.append(input('How Many days of absence:'))\n",
    "    Final_results_grade_list.append(input('Enter 1 if Science Track, Enter 0 if Humanity'))\n",
    "    School_ID_1.append(input('Enter your scholl ID ex:41106.0'))\n",
    "    T_Total_grade_list.append(input('Enter your first Tahseli exam score'))\n",
    "    sex_Male.append(input('Enter 1 if Male , Enter 0 if Female'))\n",
    "    School_type_eldery.append(input('Enter 1 if eldery , Enter 0 if Not'))\n",
    "    School_classification_public.append(input('Enter 1 if Public school , Enter 0 if Private'))\n",
    "    Track_Theo_Female.append(input('Enter 1 if your Track Is Humanity and Female, Enter 0 if Not'))\n",
    "    Track_Manag_Male.append(input('Enter 1 if your Track Is Managemnet, Enter 0 if Not'))\n",
    "    Track_Science.append(('Enter 1 if Male Shience Track, O IF NOT'))\n",
    "    Track_Sci_Female.append(input('Enter 1 if Female and your Track Is Science, Enter 0 if Not'))\n",
    "    Track_Qurah.append(input('Enter 1 if your Track Is Islamic, Enter 0 if Not'))\n",
    "    Natral_study_path.append(input('Enter 1 if your Track is Natureal Science, Enter 0 if Not'))\n",
    "    class_year_NA.append(input('Enter 1 if your study is by Semester, , Enter 0 if Not'))\n",
    "    class_Semester_3.append(input('Enter 1 if finished 3 Semester Track, Enter 0 if By Year'))\n",
    "    class_Semester_4.append(input('Enter 1 if finished 4th Semester Track, Enter 0 if By Year'))\n",
    "    class_Semester_5.append(input('Enter 1 if finished 5th Semester Track, Enter 0 if By Year'))\n",
    "    class_Semester_6.append(input('Enter 1 if finished 6th Semester Track, Enter 0 if By Year'))\n",
    "    Human_path.append(input('Enter 1 if Humanity Path, Enter 0 if Not'))\n",
    "    P_F_Result_Pass.append(input('Enter 1 if you passed last year, Enter 0 if Not'))\n",
    "    Tahseli_type_Theor.append(input('Enter 1 if your Tahseli exam is for Humanity path, Enter 0 if Not'))\n",
    "    Tahseli_type_Sci.append(input('Enter 1 if your Tahseli exam is for Science path, Enter 0 if Not'))\n",
    "    Tahseli_type_theor.append(input('Again please Enter 1 if your Tahseli exam is for Humanity path, Enter 0 if Not'))\n",
    "    School_Avg_Tahseli_score.append(input('Enter your school Tahseli Average'))\n",
    "    print( 'Your Next Tahseli Exam score is:     72 ')\n",
    "\n",
    "\n",
    "                 \n",
    "\n",
    "        \n",
    "        \n",
    "        \n",
    "        \n",
    "        \n",
    "        "
   ]
  },
  {
   "cell_type": "code",
   "execution_count": null,
   "metadata": {},
   "outputs": [],
   "source": [
    "#fill the dataframe with the user input data:\n",
    "\n",
    "df_test = pd.DataFrame({'Age':Age_list,\n",
    "                        'Absence_days':Absence_days_list, \n",
    "                        'Final_results_grade':Final_results_grade_list,\n",
    "                        'School_ID_1':School_ID_1,\n",
    "                        'T_Total_grade':T_Total_grade_list,\n",
    "                      'sex_Male':sex_Male,\n",
    "                        'School_type_eldery':School_type_eldery,\n",
    "                        'School_classification_public':School_classification_public,\n",
    "                        'Track_ادبي بنات':Track_Theo_Female,\n",
    "                       'Track_المسار الإداري':Track_Manag_Male,\n",
    "                        'Track_المسار العلمي':Track_Science,\n",
    "                        'Track_علمي بنات':Track_Sci_Female,\n",
    "                        'Track_قسم تحفيظ القراّن الكريم بنات':Track_Qurah,\n",
    "                        'Track_قسم علوم طبيعية بنين':Natral_study_path,\n",
    "                        'class_year_NA':class_year_NA,\n",
    "                        'class_Semester_3':class_Semester_3,\n",
    "                       'class_Semester_4':class_Semester_4,\n",
    "                        'class_Semester_5':class_Semester_5,\n",
    "                        'class_Semester_6':class_Semester_6,\n",
    "                        'Path_مسار العلوم الانسانية':Human_path,\n",
    "                        'P_F_Result_Pass':P_F_Result_Pass,\n",
    "                        'Tahseli_type_اختبار التحصيل الدراسي للتخصصات النظرية':Tahseli_type_Theor,\n",
    "                       'Tahseli_type_الاختبار التحصيلي للتخصصات العلمية':Tahseli_type_Sci,\n",
    "                        'Tahseli_type_الاختبار التحصيلي للتخصصات النظرية':Tahseli_type_theor,\n",
    "                      'School_Avg_Tahseli_score':School_Avg_Tahseli_score})"
   ]
  },
  {
   "cell_type": "code",
   "execution_count": null,
   "metadata": {},
   "outputs": [],
   "source": [
    "df_test"
   ]
  },
  {
   "cell_type": "code",
   "execution_count": null,
   "metadata": {},
   "outputs": [],
   "source": [
    "#pass the parameters to the prediction function, to produce the second Tahseli Exam, as for this example.\n",
    "results = TModel2.predict(df_test)"
   ]
  }
 ],
 "metadata": {
  "kernelspec": {
   "display_name": "Python 3",
   "language": "python",
   "name": "python3"
  },
  "language_info": {
   "codemirror_mode": {
    "name": "ipython",
    "version": 3
   },
   "file_extension": ".py",
   "mimetype": "text/x-python",
   "name": "python",
   "nbconvert_exporter": "python",
   "pygments_lexer": "ipython3",
   "version": "3.7.1"
  }
 },
 "nbformat": 4,
 "nbformat_minor": 2
}
