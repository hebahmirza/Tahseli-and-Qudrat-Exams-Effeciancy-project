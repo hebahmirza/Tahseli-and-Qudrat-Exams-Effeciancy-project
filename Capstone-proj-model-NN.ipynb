{
 "cells": [
  {
   "cell_type": "markdown",
   "metadata": {},
   "source": [
    "# Trying NurelNetwork on Model 1 (Tahseli_Model_1)\n",
    "\n",
    "In this file, i will start with reducing the number of features in Tahseli_Model_1,\n",
    "Then, apply the Neural Network modle."
   ]
  },
  {
   "cell_type": "code",
   "execution_count": 5,
   "metadata": {},
   "outputs": [],
   "source": [
    "import pandas as pd\n",
    "import numpy as np\n",
    "import matplotlib.pyplot as plt\n",
    "import seaborn as sns"
   ]
  },
  {
   "cell_type": "code",
   "execution_count": 6,
   "metadata": {},
   "outputs": [],
   "source": [
    "# Read Models:\n",
    "Tahseli_Model_1= pd.read_csv('./Tahseli_Model_1.csv')\n",
    "Tahseli_Model_2=pd.read_csv('./Tahseli_Model_2.csv')\n",
    "\n",
    "Qudrat_Model_1=pd.read_csv('./Qudrat_Model_1.csv')\n",
    "Qudrat_Model_2=pd.read_csv('./Qudrat_Model_2.csv')\n",
    "Qudrat_Model_3=pd.read_csv('./Qudrat_Model_3.csv')"
   ]
  },
  {
   "cell_type": "code",
   "execution_count": 34,
   "metadata": {},
   "outputs": [
    {
     "data": {
      "text/plain": [
       "(1241666, 44)"
      ]
     },
     "execution_count": 34,
     "metadata": {},
     "output_type": "execute_result"
    }
   ],
   "source": [
    "Tahseli_Model_1.shape"
   ]
  },
  {
   "cell_type": "code",
   "execution_count": 12,
   "metadata": {},
   "outputs": [],
   "source": [
    "Tahseli_Model1= pd.read_csv('./Tahseli_Model1.csv')"
   ]
  },
  {
   "cell_type": "code",
   "execution_count": 11,
   "metadata": {},
   "outputs": [],
   "source": [
    "Tahseli_Model_1= pd.read_csv('./Tahseli_Model_1.csv')"
   ]
  },
  {
   "cell_type": "code",
   "execution_count": 1,
   "metadata": {},
   "outputs": [],
   "source": [
    "#Tahseli_Model_1.shape, "
   ]
  },
  {
   "cell_type": "code",
   "execution_count": 21,
   "metadata": {},
   "outputs": [],
   "source": [
    "T1= Tahseli_Model1.class_Semester_1\n",
    "#,'class_Semester_3']"
   ]
  },
  {
   "cell_type": "code",
   "execution_count": 25,
   "metadata": {},
   "outputs": [],
   "source": [
    "Tahseli_Model_1 =pd.concat([Tahseli_Model_1, Tahseli_Model1['class_Semester_1']], axis=1)\n"
   ]
  },
  {
   "cell_type": "code",
   "execution_count": 27,
   "metadata": {},
   "outputs": [],
   "source": [
    "Tahseli_Model_1 =pd.concat([Tahseli_Model_1, Tahseli_Model1['class_Semester_3']], axis=1)\n"
   ]
  },
  {
   "cell_type": "markdown",
   "metadata": {},
   "source": [
    "# to minize the number of features even more !! "
   ]
  },
  {
   "cell_type": "code",
   "execution_count": 3,
   "metadata": {},
   "outputs": [],
   "source": [
    "corr1 =  Tahseli_Model_1.corr()"
   ]
  },
  {
   "cell_type": "code",
   "execution_count": 4,
   "metadata": {},
   "outputs": [
    {
     "data": {
      "text/plain": [
       "sex_Male                                               -0.187808\n",
       "Age                                                    -0.110896\n",
       "Absence_days                                           -0.102680\n",
       "Tahseli_type_اختبار التحصيل الدراسي للتخصصات النظرية   -0.090551\n",
       "Track_المسار الأدبي                                    -0.090216\n",
       "School_type_day                                        -0.079625\n",
       "Track_قسم علوم طبيعية بنين                             -0.070016\n",
       "P_F_Result_Fail                                        -0.064362\n",
       "School_ID_1                                            -0.061170\n",
       "class_year_3                                           -0.056426\n",
       "School_ID_2                                            -0.054956\n",
       "Tahseli_type_الاختبار التحصيلي للتخصصات النظرية        -0.045187\n",
       "class_Semester_NA                                      -0.040258\n",
       "P_F_Result_Not_Complete                                -0.038846\n",
       "class_year_2                                           -0.036108\n",
       "P_F_Result_Grad                                        -0.034894\n",
       "class_Semester_6                                       -0.032560\n",
       "Track_ادبي بنات                                        -0.031207\n",
       "Tahseli_type_الاختبار التحصيلي للتخصصات العلمية        -0.027034\n",
       "Path_مسار العلوم الانسانية                             -0.018333\n",
       "Track_قسم ثانوي                                        -0.015602\n",
       "Track_المسار الإداري                                   -0.009478\n",
       "Tahseli_type_الاختبار التحصيلي باللغة الإنجليزية       -0.006931\n",
       "Track_المسار العلمي                                    -0.005199\n",
       "School_type_eldery                                      0.000613\n",
       "Track_قسم علوم طبيعية-خارج بنين                         0.000620\n",
       "Track_المسار العلمي خارج بنين                           0.000793\n",
       "Track_قسم ثانوي خارج بنات                               0.000990\n",
       "Unnamed: 0                                              0.001092\n",
       "Track_علمي بنات                                         0.014900\n",
       "class_Semester_5                                        0.030404\n",
       "School_classification_public                            0.042863\n",
       "T_Exam_month                                            0.043347\n",
       "P_F_Result_Pass                                         0.046894\n",
       "class_Semester_2                                        0.080084\n",
       "Track_قسم تحفيظ القراّن الكريم بنات                     0.087394\n",
       "School_type_Quran                                       0.087394\n",
       "class_Semester_4                                        0.094607\n",
       "class_year_NA                                           0.129866\n",
       "Path_مسار العلوم  الطبيعية                              0.155606\n",
       "School_Avg_Tahseli_score                                0.411864\n",
       "Final_results_grade                                     0.565834\n",
       "T_Total_grade                                           1.000000\n",
       "School_type_night                                            NaN\n",
       "Name: T_Total_grade, dtype: float64"
      ]
     },
     "execution_count": 4,
     "metadata": {},
     "output_type": "execute_result"
    }
   ],
   "source": [
    "corr1['T_Total_grade'].sort_values()"
   ]
  },
  {
   "cell_type": "code",
   "execution_count": 7,
   "metadata": {},
   "outputs": [],
   "source": [
    "# Drop unnessessary values\n",
    "\n",
    "#Tahseli_Model_1.drop(['student_ID'], axis=1, inplace= True)\n",
    "Tahseli_Model_1.drop(['School_type_night','School_ID_2','Track_قسم تحفيظ القراّن الكريم بنات',\n",
    "                      'School_classification_public',\n",
    "                      'Track_علمي بنات','Unnamed: 0','Track_قسم ثانوي خارج بنات','Track_المسار العلمي خارج بنين',\n",
    "                      'Track_قسم علوم طبيعية-خارج بنين','School_type_eldery','Track_المسار العلمي',\n",
    "                      'Tahseli_type_الاختبار التحصيلي باللغة الإنجليزية','Track_المسار الإداري',\n",
    "                      'Track_قسم ثانوي','Path_مسار العلوم الانسانية','School_type_day','Track_المسار الأدبي',\n",
    "                      'Track_قسم علوم طبيعية بنين','Path_مسار العلوم الانسانية','School_type_Quran','Track_ادبي بنات',\n",
    "                     'class_Semester_2','class_Semester_4','class_Semester_5','class_Semester_6','class_Semester_NA'], axis=1, inplace= True)\n"
   ]
  },
  {
   "cell_type": "code",
   "execution_count": null,
   "metadata": {},
   "outputs": [],
   "source": []
  },
  {
   "cell_type": "code",
   "execution_count": 38,
   "metadata": {},
   "outputs": [
    {
     "data": {
      "text/html": [
       "<div>\n",
       "<style scoped>\n",
       "    .dataframe tbody tr th:only-of-type {\n",
       "        vertical-align: middle;\n",
       "    }\n",
       "\n",
       "    .dataframe tbody tr th {\n",
       "        vertical-align: top;\n",
       "    }\n",
       "\n",
       "    .dataframe thead th {\n",
       "        text-align: right;\n",
       "    }\n",
       "</style>\n",
       "<table border=\"1\" class=\"dataframe\">\n",
       "  <thead>\n",
       "    <tr style=\"text-align: right;\">\n",
       "      <th></th>\n",
       "      <th>0</th>\n",
       "      <th>1</th>\n",
       "      <th>2</th>\n",
       "      <th>3</th>\n",
       "      <th>4</th>\n",
       "    </tr>\n",
       "  </thead>\n",
       "  <tbody>\n",
       "    <tr>\n",
       "      <th>Age</th>\n",
       "      <td>18.00</td>\n",
       "      <td>19.00</td>\n",
       "      <td>19.00</td>\n",
       "      <td>29.00</td>\n",
       "      <td>21.00</td>\n",
       "    </tr>\n",
       "    <tr>\n",
       "      <th>Absence_days</th>\n",
       "      <td>7.00</td>\n",
       "      <td>2.00</td>\n",
       "      <td>0.00</td>\n",
       "      <td>30.00</td>\n",
       "      <td>8.00</td>\n",
       "    </tr>\n",
       "    <tr>\n",
       "      <th>Final_results_grade</th>\n",
       "      <td>75.09</td>\n",
       "      <td>82.02</td>\n",
       "      <td>100.00</td>\n",
       "      <td>99.80</td>\n",
       "      <td>71.10</td>\n",
       "    </tr>\n",
       "    <tr>\n",
       "      <th>School_ID_1</th>\n",
       "      <td>38778.00</td>\n",
       "      <td>38778.00</td>\n",
       "      <td>42183.00</td>\n",
       "      <td>32380.00</td>\n",
       "      <td>36330.00</td>\n",
       "    </tr>\n",
       "    <tr>\n",
       "      <th>T_Total_grade</th>\n",
       "      <td>55.00</td>\n",
       "      <td>55.00</td>\n",
       "      <td>80.00</td>\n",
       "      <td>68.00</td>\n",
       "      <td>51.00</td>\n",
       "    </tr>\n",
       "    <tr>\n",
       "      <th>sex_Male</th>\n",
       "      <td>1.00</td>\n",
       "      <td>1.00</td>\n",
       "      <td>1.00</td>\n",
       "      <td>0.00</td>\n",
       "      <td>1.00</td>\n",
       "    </tr>\n",
       "    <tr>\n",
       "      <th>class_year_2</th>\n",
       "      <td>1.00</td>\n",
       "      <td>0.00</td>\n",
       "      <td>0.00</td>\n",
       "      <td>0.00</td>\n",
       "      <td>0.00</td>\n",
       "    </tr>\n",
       "    <tr>\n",
       "      <th>class_year_3</th>\n",
       "      <td>0.00</td>\n",
       "      <td>1.00</td>\n",
       "      <td>1.00</td>\n",
       "      <td>1.00</td>\n",
       "      <td>1.00</td>\n",
       "    </tr>\n",
       "    <tr>\n",
       "      <th>class_year_NA</th>\n",
       "      <td>0.00</td>\n",
       "      <td>0.00</td>\n",
       "      <td>0.00</td>\n",
       "      <td>0.00</td>\n",
       "      <td>0.00</td>\n",
       "    </tr>\n",
       "    <tr>\n",
       "      <th>Path_مسار العلوم  الطبيعية</th>\n",
       "      <td>0.00</td>\n",
       "      <td>0.00</td>\n",
       "      <td>0.00</td>\n",
       "      <td>0.00</td>\n",
       "      <td>0.00</td>\n",
       "    </tr>\n",
       "    <tr>\n",
       "      <th>P_F_Result_Fail</th>\n",
       "      <td>0.00</td>\n",
       "      <td>0.00</td>\n",
       "      <td>0.00</td>\n",
       "      <td>0.00</td>\n",
       "      <td>0.00</td>\n",
       "    </tr>\n",
       "    <tr>\n",
       "      <th>P_F_Result_Grad</th>\n",
       "      <td>0.00</td>\n",
       "      <td>1.00</td>\n",
       "      <td>0.00</td>\n",
       "      <td>1.00</td>\n",
       "      <td>0.00</td>\n",
       "    </tr>\n",
       "    <tr>\n",
       "      <th>P_F_Result_Not_Complete</th>\n",
       "      <td>0.00</td>\n",
       "      <td>0.00</td>\n",
       "      <td>0.00</td>\n",
       "      <td>0.00</td>\n",
       "      <td>0.00</td>\n",
       "    </tr>\n",
       "    <tr>\n",
       "      <th>P_F_Result_Pass</th>\n",
       "      <td>1.00</td>\n",
       "      <td>0.00</td>\n",
       "      <td>1.00</td>\n",
       "      <td>0.00</td>\n",
       "      <td>1.00</td>\n",
       "    </tr>\n",
       "    <tr>\n",
       "      <th>Tahseli_type_اختبار التحصيل الدراسي للتخصصات النظرية</th>\n",
       "      <td>0.00</td>\n",
       "      <td>0.00</td>\n",
       "      <td>0.00</td>\n",
       "      <td>1.00</td>\n",
       "      <td>0.00</td>\n",
       "    </tr>\n",
       "    <tr>\n",
       "      <th>Tahseli_type_الاختبار التحصيلي للتخصصات العلمية</th>\n",
       "      <td>0.00</td>\n",
       "      <td>0.00</td>\n",
       "      <td>0.00</td>\n",
       "      <td>0.00</td>\n",
       "      <td>0.00</td>\n",
       "    </tr>\n",
       "    <tr>\n",
       "      <th>Tahseli_type_الاختبار التحصيلي للتخصصات النظرية</th>\n",
       "      <td>0.00</td>\n",
       "      <td>0.00</td>\n",
       "      <td>0.00</td>\n",
       "      <td>0.00</td>\n",
       "      <td>0.00</td>\n",
       "    </tr>\n",
       "    <tr>\n",
       "      <th>T_Exam_month</th>\n",
       "      <td>5.00</td>\n",
       "      <td>5.00</td>\n",
       "      <td>5.00</td>\n",
       "      <td>6.00</td>\n",
       "      <td>4.00</td>\n",
       "    </tr>\n",
       "    <tr>\n",
       "      <th>School_Avg_Tahseli_score</th>\n",
       "      <td>57.97</td>\n",
       "      <td>57.97</td>\n",
       "      <td>57.77</td>\n",
       "      <td>66.24</td>\n",
       "      <td>59.89</td>\n",
       "    </tr>\n",
       "  </tbody>\n",
       "</table>\n",
       "</div>"
      ],
      "text/plain": [
       "                                                           0         1  \\\n",
       "Age                                                    18.00     19.00   \n",
       "Absence_days                                            7.00      2.00   \n",
       "Final_results_grade                                    75.09     82.02   \n",
       "School_ID_1                                         38778.00  38778.00   \n",
       "T_Total_grade                                          55.00     55.00   \n",
       "sex_Male                                                1.00      1.00   \n",
       "class_year_2                                            1.00      0.00   \n",
       "class_year_3                                            0.00      1.00   \n",
       "class_year_NA                                           0.00      0.00   \n",
       "Path_مسار العلوم  الطبيعية                              0.00      0.00   \n",
       "P_F_Result_Fail                                         0.00      0.00   \n",
       "P_F_Result_Grad                                         0.00      1.00   \n",
       "P_F_Result_Not_Complete                                 0.00      0.00   \n",
       "P_F_Result_Pass                                         1.00      0.00   \n",
       "Tahseli_type_اختبار التحصيل الدراسي للتخصصات ال...      0.00      0.00   \n",
       "Tahseli_type_الاختبار التحصيلي للتخصصات العلمية         0.00      0.00   \n",
       "Tahseli_type_الاختبار التحصيلي للتخصصات النظرية         0.00      0.00   \n",
       "T_Exam_month                                            5.00      5.00   \n",
       "School_Avg_Tahseli_score                               57.97     57.97   \n",
       "\n",
       "                                                           2         3  \\\n",
       "Age                                                    19.00     29.00   \n",
       "Absence_days                                            0.00     30.00   \n",
       "Final_results_grade                                   100.00     99.80   \n",
       "School_ID_1                                         42183.00  32380.00   \n",
       "T_Total_grade                                          80.00     68.00   \n",
       "sex_Male                                                1.00      0.00   \n",
       "class_year_2                                            0.00      0.00   \n",
       "class_year_3                                            1.00      1.00   \n",
       "class_year_NA                                           0.00      0.00   \n",
       "Path_مسار العلوم  الطبيعية                              0.00      0.00   \n",
       "P_F_Result_Fail                                         0.00      0.00   \n",
       "P_F_Result_Grad                                         0.00      1.00   \n",
       "P_F_Result_Not_Complete                                 0.00      0.00   \n",
       "P_F_Result_Pass                                         1.00      0.00   \n",
       "Tahseli_type_اختبار التحصيل الدراسي للتخصصات ال...      0.00      1.00   \n",
       "Tahseli_type_الاختبار التحصيلي للتخصصات العلمية         0.00      0.00   \n",
       "Tahseli_type_الاختبار التحصيلي للتخصصات النظرية         0.00      0.00   \n",
       "T_Exam_month                                            5.00      6.00   \n",
       "School_Avg_Tahseli_score                               57.77     66.24   \n",
       "\n",
       "                                                           4  \n",
       "Age                                                    21.00  \n",
       "Absence_days                                            8.00  \n",
       "Final_results_grade                                    71.10  \n",
       "School_ID_1                                         36330.00  \n",
       "T_Total_grade                                          51.00  \n",
       "sex_Male                                                1.00  \n",
       "class_year_2                                            0.00  \n",
       "class_year_3                                            1.00  \n",
       "class_year_NA                                           0.00  \n",
       "Path_مسار العلوم  الطبيعية                              0.00  \n",
       "P_F_Result_Fail                                         0.00  \n",
       "P_F_Result_Grad                                         0.00  \n",
       "P_F_Result_Not_Complete                                 0.00  \n",
       "P_F_Result_Pass                                         1.00  \n",
       "Tahseli_type_اختبار التحصيل الدراسي للتخصصات ال...      0.00  \n",
       "Tahseli_type_الاختبار التحصيلي للتخصصات العلمية         0.00  \n",
       "Tahseli_type_الاختبار التحصيلي للتخصصات النظرية         0.00  \n",
       "T_Exam_month                                            4.00  \n",
       "School_Avg_Tahseli_score                               59.89  "
      ]
     },
     "execution_count": 38,
     "metadata": {},
     "output_type": "execute_result"
    }
   ],
   "source": [
    "Tahseli_Model_1.head().T"
   ]
  },
  {
   "cell_type": "code",
   "execution_count": null,
   "metadata": {},
   "outputs": [],
   "source": []
  },
  {
   "cell_type": "code",
   "execution_count": null,
   "metadata": {},
   "outputs": [],
   "source": []
  },
  {
   "cell_type": "code",
   "execution_count": 228,
   "metadata": {},
   "outputs": [
    {
     "data": {
      "image/png": "[encoded data removed]",
      "text/plain": [
       "<Figure size 864x720 with 1 Axes>"
      ]
     },
     "metadata": {
      "needs_background": "light"
     },
     "output_type": "display_data"
    }
   ],
   "source": [
    "# feature importance\n",
    "from matplotlib import pyplot as plt\n",
    "# fi = pd.DataFrame({'feature': X.columns, \n",
    "#                    'importance': forest.feature_importances_})\n",
    "fi = pd.Series(forest.feature_importances_, X2.columns).sort_values()\n",
    "fi.plot(kind='barh', figsize=(12,10));"
   ]
  },
  {
   "cell_type": "code",
   "execution_count": null,
   "metadata": {},
   "outputs": [],
   "source": []
  },
  {
   "cell_type": "code",
   "execution_count": null,
   "metadata": {},
   "outputs": [],
   "source": []
  },
  {
   "cell_type": "markdown",
   "metadata": {},
   "source": [
    "# Trying Nurel Network FOR Tahseli Model1:"
   ]
  },
  {
   "cell_type": "code",
   "execution_count": 9,
   "metadata": {},
   "outputs": [],
   "source": [
    "# 1. Import libraries and modules\n",
    "import numpy as np\n",
    "from tensorflow.keras.models import Sequential\n",
    "from tensorflow.keras.layers import Dense, Dropout, Activation, Flatten\n",
    "from tensorflow.keras.layers import Convolution2D, MaxPooling2D\n",
    "from tensorflow.keras.utils import to_categorical\n",
    "from tensorflow.keras.datasets import mnist\n",
    "from tensorflow.keras.optimizers import Adam\n"
   ]
  },
  {
   "cell_type": "code",
   "execution_count": 10,
   "metadata": {},
   "outputs": [],
   "source": [
    "from sklearn.model_selection import train_test_split\n"
   ]
  },
  {
   "cell_type": "code",
   "execution_count": 13,
   "metadata": {},
   "outputs": [
    {
     "data": {
      "text/plain": [
       "(array([1.84000e+02, 2.50500e+03, 2.26750e+04, 1.09468e+05, 2.48860e+05,\n",
       "        3.21095e+05, 2.54859e+05, 1.63271e+05, 8.89940e+04, 2.97550e+04]),\n",
       " array([ 21. ,  28.9,  36.8,  44.7,  52.6,  60.5,  68.4,  76.3,  84.2,\n",
       "         92.1, 100. ]),\n",
       " <a list of 10 Patch objects>)"
      ]
     },
     "execution_count": 13,
     "metadata": {},
     "output_type": "execute_result"
    },
    {
     "data": {
      "image/png": "[encoded data removed]",
      "text/plain": [
       "<Figure size 432x288 with 1 Axes>"
      ]
     },
     "metadata": {
      "needs_background": "light"
     },
     "output_type": "display_data"
    }
   ],
   "source": [
    "plt.hist(y1)"
   ]
  },
  {
   "cell_type": "code",
   "execution_count": 12,
   "metadata": {},
   "outputs": [],
   "source": [
    "y1=Tahseli_Model_1['T_Total_grade']"
   ]
  },
  {
   "cell_type": "code",
   "execution_count": 14,
   "metadata": {},
   "outputs": [],
   "source": [
    "X1=Tahseli_Model_1.drop(['T_Total_grade'], axis=1)\n"
   ]
  },
  {
   "cell_type": "code",
   "execution_count": 15,
   "metadata": {},
   "outputs": [],
   "source": [
    "## Train/Test Split\n",
    "X_train, X_test, y_train, y_test = train_test_split(X1, y1, test_size=0.1)"
   ]
  },
  {
   "cell_type": "code",
   "execution_count": 16,
   "metadata": {},
   "outputs": [
    {
     "data": {
      "text/plain": [
       "((1117499, 18), (124167, 18), (1117499,), (124167,))"
      ]
     },
     "execution_count": 16,
     "metadata": {},
     "output_type": "execute_result"
    }
   ],
   "source": [
    "X_train.shape, X_test.shape, y_train.shape, y_test.shape"
   ]
  },
  {
   "cell_type": "code",
   "execution_count": 17,
   "metadata": {},
   "outputs": [],
   "source": [
    "model = Sequential()\n",
    "\n",
    "model.add(Dense(X_train.shape[1], activation='relu', input_shape=(X_train.shape[1],)))\n",
    "model.add(Dropout(0.6))\n",
    "\n",
    "model.add(Dense(X_train.shape[1], input_dim=X_train.shape[1], activation='relu'))\n",
    "model.add(Dropout(0.5))\n",
    "\n",
    "model.add(Dense(X_train.shape[1], input_dim=X_train.shape[1], activation='relu'))\n",
    "model.add(Dropout(0.4))\n",
    "\n",
    "model.add(Dense(1))\n"
   ]
  },
  {
   "cell_type": "code",
   "execution_count": 18,
   "metadata": {},
   "outputs": [
    {
     "name": "stdout",
     "output_type": "stream",
     "text": [
      "Model: \"sequential\"\n",
      "_________________________________________________________________\n",
      "Layer (type)                 Output Shape              Param #   \n",
      "=================================================================\n",
      "dense (Dense)                (None, 18)                342       \n",
      "_________________________________________________________________\n",
      "dropout (Dropout)            (None, 18)                0         \n",
      "_________________________________________________________________\n",
      "dense_1 (Dense)              (None, 18)                342       \n",
      "_________________________________________________________________\n",
      "dropout_1 (Dropout)          (None, 18)                0         \n",
      "_________________________________________________________________\n",
      "dense_2 (Dense)              (None, 18)                342       \n",
      "_________________________________________________________________\n",
      "dropout_2 (Dropout)          (None, 18)                0         \n",
      "_________________________________________________________________\n",
      "dense_3 (Dense)              (None, 1)                 19        \n",
      "=================================================================\n",
      "Total params: 1,045\n",
      "Trainable params: 1,045\n",
      "Non-trainable params: 0\n",
      "_________________________________________________________________\n"
     ]
    }
   ],
   "source": [
    "model.summary()\n"
   ]
  },
  {
   "cell_type": "code",
   "execution_count": 19,
   "metadata": {},
   "outputs": [],
   "source": [
    "ops = Adam(0.01)\n",
    "model.compile(loss='mean_squared_error', optimizer=ops)"
   ]
  },
  {
   "cell_type": "code",
   "execution_count": null,
   "metadata": {},
   "outputs": [
    {
     "name": "stdout",
     "output_type": "stream",
     "text": [
      "Train on 1117499 samples, validate on 124167 samples\n",
      "Epoch 1/100\n",
      "1117499/1117499 [==============================] - 44s 39us/sample - loss: 3129.3448 - val_loss: 148.9552\n",
      "Epoch 2/100\n",
      "1117499/1117499 [==============================] - 44s 40us/sample - loss: 148.2080 - val_loss: 148.9615\n",
      "Epoch 3/100\n",
      "1117499/1117499 [==============================] - 44s 39us/sample - loss: 148.2063 - val_loss: 148.9620\n",
      "Epoch 4/100\n",
      "1117499/1117499 [==============================] - 43s 38us/sample - loss: 148.2080 - val_loss: 148.9572\n",
      "Epoch 5/100\n",
      "1117499/1117499 [==============================] - 44s 39us/sample - loss: 148.2086 - val_loss: 148.9550\n",
      "Epoch 6/100\n",
      "1117499/1117499 [==============================] - 43s 38us/sample - loss: 148.2068 - val_loss: 148.9589\n",
      "Epoch 7/100\n",
      "1117499/1117499 [==============================] - 44s 39us/sample - loss: 148.2071 - val_loss: 148.9615\n",
      "Epoch 8/100\n",
      "1117499/1117499 [==============================] - 43s 39us/sample - loss: 148.2089 - val_loss: 148.9690\n",
      "Epoch 9/100\n",
      "1117499/1117499 [==============================] - 45s 41us/sample - loss: 148.2077 - val_loss: 148.9564\n",
      "Epoch 10/100\n",
      "1117499/1117499 [==============================] - 50s 45us/sample - loss: 148.2087 - val_loss: 148.9563\n",
      "Epoch 11/100\n",
      "1117499/1117499 [==============================] - 47s 42us/sample - loss: 148.2089 - val_loss: 148.9551\n",
      "Epoch 12/100\n",
      "1117499/1117499 [==============================] - 45s 40us/sample - loss: 148.2073 - val_loss: 148.9575\n",
      "Epoch 13/100\n",
      "1117499/1117499 [==============================] - 42s 37us/sample - loss: 148.2093 - val_loss: 148.9582\n",
      "Epoch 14/100\n",
      "1117499/1117499 [==============================] - 42s 38us/sample - loss: 148.2072 - val_loss: 148.9642\n",
      "Epoch 15/100\n",
      "1117499/1117499 [==============================] - 42s 37us/sample - loss: 148.2091 - val_loss: 148.9554\n",
      "Epoch 16/100\n",
      "1117499/1117499 [==============================] - 44s 39us/sample - loss: 148.2067 - val_loss: 149.0091\n",
      "Epoch 17/100\n",
      "1117499/1117499 [==============================] - 51s 45us/sample - loss: 148.2083 - val_loss: 148.9610\n",
      "Epoch 18/100\n",
      "1117499/1117499 [==============================] - 58s 52us/sample - loss: 148.2116 - val_loss: 148.9582\n",
      "Epoch 19/100\n",
      "1117499/1117499 [==============================] - 47s 42us/sample - loss: 148.2083 - val_loss: 148.9551\n",
      "Epoch 20/100\n",
      "1117499/1117499 [==============================] - 48s 43us/sample - loss: 148.2072 - val_loss: 148.9554\n",
      "Epoch 21/100\n",
      "1117499/1117499 [==============================] - 48s 43us/sample - loss: 148.2066 - val_loss: 148.9787\n",
      "Epoch 22/100\n",
      "1117499/1117499 [==============================] - 50s 45us/sample - loss: 148.2074 - val_loss: 148.9656\n",
      "Epoch 23/100\n",
      "1117499/1117499 [==============================] - 54s 48us/sample - loss: 148.2086 - val_loss: 148.9623\n",
      "Epoch 24/100\n",
      "1117499/1117499 [==============================] - 51s 46us/sample - loss: 148.2076 - val_loss: 148.9551\n",
      "Epoch 25/100\n",
      "1117499/1117499 [==============================] - 50s 45us/sample - loss: 148.2086 - val_loss: 148.9554\n",
      "Epoch 26/100\n",
      "1117499/1117499 [==============================] - 50s 45us/sample - loss: 148.2091 - val_loss: 148.9612\n",
      "Epoch 27/100\n",
      "1117499/1117499 [==============================] - 46s 41us/sample - loss: 148.2063 - val_loss: 148.9701\n",
      "Epoch 28/100\n",
      "1117499/1117499 [==============================] - 47s 42us/sample - loss: 148.2078 - val_loss: 148.9721\n",
      "Epoch 29/100\n",
      "1117499/1117499 [==============================] - 45s 40us/sample - loss: 148.2078 - val_loss: 148.9622\n",
      "Epoch 30/100\n",
      "1117499/1117499 [==============================] - 45s 40us/sample - loss: 148.2079 - val_loss: 148.9550\n",
      "Epoch 31/100\n",
      "1117499/1117499 [==============================] - 46s 41us/sample - loss: 148.2082 - val_loss: 148.9625\n",
      "Epoch 32/100\n",
      "1117499/1117499 [==============================] - 59s 53us/sample - loss: 148.2079 - val_loss: 148.9568\n",
      "Epoch 33/100\n",
      "1117499/1117499 [==============================] - 74s 66us/sample - loss: 148.2093 - val_loss: 148.9558\n",
      "Epoch 46/100\n",
      "1117499/1117499 [==============================] - 54s 49us/sample - loss: 148.2080 - val_loss: 149.0279\n",
      "Epoch 49/100\n",
      "1117499/1117499 [==============================] - 50s 45us/sample - loss: 148.2069 - val_loss: 148.9651\n",
      "Epoch 50/100\n",
      "1117499/1117499 [==============================] - 50s 45us/sample - loss: 148.2077 - val_loss: 148.9550\n",
      "Epoch 53/100\n",
      "1117499/1117499 [==============================] - 50s 45us/sample - loss: 148.2063 - val_loss: 148.9550\n",
      "Epoch 54/100\n",
      "1117499/1117499 [==============================] - 52s 47us/sample - loss: 148.2071 - val_loss: 148.9551\n",
      "Epoch 57/100\n",
      "1117499/1117499 [==============================] - 48s 43us/sample - loss: 148.2070 - val_loss: 148.9551\n",
      "Epoch 58/100\n",
      "1117499/1117499 [==============================] - 49s 44us/sample - loss: 148.2081 - val_loss: 148.9583\n",
      "Epoch 61/100\n",
      "1117499/1117499 [==============================] - 53s 47us/sample - loss: 148.2080 - val_loss: 148.9721\n",
      "Epoch 62/100\n",
      "1117499/1117499 [==============================] - 50s 45us/sample - loss: 148.2083 - val_loss: 148.9557\n",
      "Epoch 66/100\n",
      "1117499/1117499 [==============================] - 50s 45us/sample - loss: 148.2077 - val_loss: 148.9569\n",
      "Epoch 67/100\n",
      "1117499/1117499 [==============================] - 46s 41us/sample - loss: 148.2105 - val_loss: 148.9614\n",
      "Epoch 71/100\n",
      "1117499/1117499 [==============================] - 52s 47us/sample - loss: 148.2092 - val_loss: 149.0068\n",
      "Epoch 72/100\n",
      "1117499/1117499 [==============================] - 46s 41us/sample - loss: 148.2075 - val_loss: 148.9569\n",
      "Epoch 76/100\n",
      "1117499/1117499 [==============================] - 44s 40us/sample - loss: 148.2072 - val_loss: 148.9550\n",
      "Epoch 77/100\n",
      "1117499/1117499 [==============================] - 45s 40us/sample - loss: 148.2072 - val_loss: 148.9584\n",
      "Epoch 81/100\n",
      "1117499/1117499 [==============================] - 45s 40us/sample - loss: 148.2107 - val_loss: 148.9581\n",
      "Epoch 82/100\n",
      "1117499/1117499 [==============================] - 52s 46us/sample - loss: 148.2090 - val_loss: 148.9626\n",
      "Epoch 87/100\n",
      "1117499/1117499 [==============================] - 46s 41us/sample - loss: 148.2075 - val_loss: 148.9613\n",
      "Epoch 93/100\n",
      "1117499/1117499 [==============================] - 46s 41us/sample - loss: 148.2075 - val_loss: 148.9550\n",
      "Epoch 94/100\n",
      "1117499/1117499 [==============================] - 46s 41us/sample - loss: 148.2076 - val_loss: 148.9550\n",
      "Epoch 99/100\n",
      " 892448/1117499 [======================>.......] - ETA: 8s - loss: 148.4443"
     ]
    }
   ],
   "source": [
    "results = model.fit(X_train,\n",
    "         y_train,\n",
    "         batch_size=None,\n",
    "         epochs=100,\n",
    "         verbose=1,\n",
    "         validation_data=(X_test, y_test))"
   ]
  },
  {
   "cell_type": "code",
   "execution_count": 21,
   "metadata": {},
   "outputs": [
    {
     "data": {
      "text/plain": [
       "dict"
      ]
     },
     "execution_count": 21,
     "metadata": {},
     "output_type": "execute_result"
    }
   ],
   "source": [
    "type(results.history)\n"
   ]
  },
  {
   "cell_type": "code",
   "execution_count": 22,
   "metadata": {},
   "outputs": [
    {
     "data": {
      "text/plain": [
       "dict_keys(['loss', 'val_loss'])"
      ]
     },
     "execution_count": 22,
     "metadata": {},
     "output_type": "execute_result"
    }
   ],
   "source": [
    "results.history.keys()\n"
   ]
  },
  {
   "cell_type": "code",
   "execution_count": 23,
   "metadata": {},
   "outputs": [],
   "source": [
    "## plot loss function\n",
    "test_loss = results.history['val_loss']\n",
    "train_loss = results.history['loss']"
   ]
  },
  {
   "cell_type": "code",
   "execution_count": 3,
   "metadata": {},
   "outputs": [],
   "source": [
    "plt.plot(train_loss, label='Training loss')\n",
    "plt.plot(test_loss, label='Testing loss')\n",
    "plt.legend()\n",
    "plt.show()"
   ]
  },
  {
   "cell_type": "code",
   "execution_count": 26,
   "metadata": {},
   "outputs": [
    {
     "data": {
      "text/plain": [
       "array([[67.059975],\n",
       "       [67.059975]], dtype=float32)"
      ]
     },
     "execution_count": 26,
     "metadata": {},
     "output_type": "execute_result"
    }
   ],
   "source": [
    "## Make prediction\n",
    "model.predict(X_test[:2])"
   ]
  },
  {
   "cell_type": "code",
   "execution_count": 34,
   "metadata": {},
   "outputs": [
    {
     "name": "stderr",
     "output_type": "stream",
     "text": [
      "W0515 02:26:12.759547 140735761933184 sequential.py:293] Network returning invalid probability values. The last layer might not normalize predictions into probabilities (like softmax or sigmoid would).\n"
     ]
    },
    {
     "data": {
      "text/plain": [
       "array([[67.059975],\n",
       "       [67.059975],\n",
       "       [67.059975],\n",
       "       [67.059975],\n",
       "       [67.059975],\n",
       "       [67.059975],\n",
       "       [67.059975],\n",
       "       [67.059975],\n",
       "       [67.059975],\n",
       "       [67.059975],\n",
       "       [67.059975],\n",
       "       [67.059975],\n",
       "       [67.059975],\n",
       "       [67.059975],\n",
       "       [67.059975],\n",
       "       [67.059975],\n",
       "       [67.059975],\n",
       "       [67.059975],\n",
       "       [67.059975],\n",
       "       [67.059975],\n",
       "       [67.059975],\n",
       "       [67.059975],\n",
       "       [67.059975],\n",
       "       [67.059975],\n",
       "       [67.059975],\n",
       "       [67.059975],\n",
       "       [67.059975],\n",
       "       [67.059975],\n",
       "       [67.059975],\n",
       "       [67.059975],\n",
       "       [67.059975],\n",
       "       [67.059975],\n",
       "       [67.059975],\n",
       "       [67.059975],\n",
       "       [67.059975],\n",
       "       [67.059975],\n",
       "       [67.059975],\n",
       "       [67.059975],\n",
       "       [67.059975],\n",
       "       [67.059975],\n",
       "       [67.059975],\n",
       "       [67.059975],\n",
       "       [67.059975],\n",
       "       [67.059975],\n",
       "       [67.059975],\n",
       "       [67.059975],\n",
       "       [67.059975],\n",
       "       [67.059975],\n",
       "       [67.059975],\n",
       "       [67.059975],\n",
       "       [67.059975],\n",
       "       [67.059975],\n",
       "       [67.059975],\n",
       "       [67.059975],\n",
       "       [67.059975],\n",
       "       [67.059975],\n",
       "       [67.059975],\n",
       "       [67.059975],\n",
       "       [67.059975],\n",
       "       [67.059975],\n",
       "       [67.059975],\n",
       "       [67.059975],\n",
       "       [67.059975],\n",
       "       [67.059975],\n",
       "       [67.059975],\n",
       "       [67.059975],\n",
       "       [67.059975],\n",
       "       [67.059975],\n",
       "       [67.059975],\n",
       "       [67.059975],\n",
       "       [67.059975],\n",
       "       [67.059975],\n",
       "       [67.059975],\n",
       "       [67.059975],\n",
       "       [67.059975],\n",
       "       [67.059975],\n",
       "       [67.059975],\n",
       "       [67.059975],\n",
       "       [67.059975],\n",
       "       [67.059975]], dtype=float32)"
      ]
     },
     "execution_count": 34,
     "metadata": {},
     "output_type": "execute_result"
    }
   ],
   "source": [
    "model.predict_proba(X_test[:80]) "
   ]
  },
  {
   "cell_type": "code",
   "execution_count": 32,
   "metadata": {},
   "outputs": [
    {
     "data": {
      "text/plain": [
       "[1.0]"
      ]
     },
     "execution_count": 32,
     "metadata": {},
     "output_type": "execute_result"
    }
   ],
   "source": [
    "model.loss_weights_list"
   ]
  },
  {
   "cell_type": "code",
   "execution_count": null,
   "metadata": {},
   "outputs": [],
   "source": []
  }
 ],
 "metadata": {
  "kernelspec": {
   "display_name": "Python 3",
   "language": "python",
   "name": "python3"
  },
  "language_info": {
   "codemirror_mode": {
    "name": "ipython",
    "version": 3
   },
   "file_extension": ".py",
   "mimetype": "text/x-python",
   "name": "python",
   "nbconvert_exporter": "python",
   "pygments_lexer": "ipython3",
   "version": "3.7.1"
  }
 },
 "nbformat": 4,
 "nbformat_minor": 2
}
